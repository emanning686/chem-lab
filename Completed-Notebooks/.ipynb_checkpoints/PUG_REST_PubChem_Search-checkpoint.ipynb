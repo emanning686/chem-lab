{
 "cells": [
  {
   "cell_type": "markdown",
   "id": "85f2eb45-36ae-4625-a221-80a7d7649019",
   "metadata": {},
   "source": [
    "# PUG_REST PubChem Search"
   ]
  },
  {
   "cell_type": "markdown",
   "id": "89cfa83a-b5c2-4c6b-bb3d-5c7d5a051679",
   "metadata": {},
   "source": [
    "## Introduction\n",
    "\n",
    "This notebook shows how the PUG REST api can be used to retrieve attributes of PubChem compounds.\\\n",
    "A REST (**Re**presentational **S**tate **T**ransfer) api is a stateless web-based protocol that standardizes data transfer over the World-Wide Web. It allows us to retrieve data with simple web URLs.\n",
    "\n",
    "### Questions\n",
    "\n",
    "How can we search using a compounds name?\\\n",
    "How can we retrieve multiple attributes about each compound at once?\\\n",
    "How can we use a PUG api call to get RdKit Mol objects?\n",
    "\n",
    "### Learning Objectives\n",
    "\n",
    "Search by name for one compound\\\n",
    "Search by molecular weight for multiple compounds\\\n",
    "Convert SMILES to Mol objects in mass\n",
    "\n",
    "### Purpose\n",
    "\n",
    "This notebook is designed to demonstrate the useful endpoints of the PUG REST api, as well as how to use the api to get large sets of Mol objects based on a PubChem search programatically."
   ]
  },
  {
   "cell_type": "markdown",
   "id": "22da5ae3-8838-4442-84ff-17214e0104c3",
   "metadata": {},
   "source": [
    "## Libraries\n",
    "\n",
    "A list of libraries that will need to be installed and imported to complete the tasks in the notebook.\n",
    "\n",
    "| Library | Contents | Source |\n",
    "| :-----: | :------- | :----- |\n",
    "| requests | library for sending HTTP/1.1 requests | [PyPi page on requests](https://pypi.org/project/requests/) |\n",
    "| rdkit | libarary for cheminformatics and machine-learning modules | [rdkit documentation](https://www.rdkit.org/) |"
   ]
  },
  {
   "cell_type": "markdown",
   "id": "10422faa-2103-4bc8-9d5f-02d4e905c95a",
   "metadata": {},
   "source": [
    "## Installation\n",
    "\n",
    "These libraries will need to be installed in your computing environment to perform the tasks in this notebook.\n",
    "\n",
    "To install from the command line on your computer, use this command (with the `json` library as the example):\n",
    "\n",
    "`pip install json`\n",
    "\n",
    "To install from within a Jupyter notebook or CoLab notebook, you need to type the same command in a coding cell, preceded by an exclamation point.\n",
    "\n",
    "`!pip install json`\n",
    "\n",
    "These libraries will be imported as they are needed over the course of this notebook.\n"
   ]
  },
  {
   "cell_type": "markdown",
   "id": "0edae8a4-a3bb-4f47-a506-9a68a5a7f910",
   "metadata": {},
   "source": [
    "## Notebook Contents\n",
    "\n",
    "The next section of the notebook includes all of the raw code for this example. **Experienced coder** should use this as you see fit, either in this notebook or in your preferred environment.\n",
    "\n",
    "For **novice and intermediate coders**, the code is divided into sequential coding cells that each perform one step in the process. This notebook includes the following steps:\n",
    "\n",
    "1. Imports\n",
    "2. Search by name\n",
    "3. Search by molecular weight range\n",
    "4. Retrieve specified property\n",
    "5. Retrieve SMILES\n",
    "6. Retrieve multiple properties\n",
    "7. Convert SMILES into RdKit Mol objects"
   ]
  },
  {
   "cell_type": "code",
   "execution_count": null,
   "id": "eb7b9186-c308-41b8-a303-8f24775b526d",
   "metadata": {},
   "outputs": [],
   "source": [
    "# Full block of raw code for EXPERIENCED CODERS\n",
    "import requests # python requests package\n",
    "from rdkit import Chem # rdkit Chem module\n",
    "\n",
    "name = \"glucose\"\n",
    "request = requests.get(f\"https://pubchem.ncbi.nlm.nih.gov/rest/pug/compound/name/{name}/JSON\") # access the PUG REST route\n",
    "response = request.json() # parse the JSON data retreived\n",
    "print(len(response[\"PC_Compounds\"])) # print the number of compounds retreived\n",
    "response # display the data retreived\n",
    "\n",
    "weight_minimum = 400.0\n",
    "weight_maximum = 400.05\n",
    "target_value = \"cids\"\n",
    "request = requests.get(f\"https://pubchem.ncbi.nlm.nih.gov/rest/pug/compound/molecular_weight/range/{weight_minimum}/{weight_maximum}/{target_value}/JSON\") # access the PUG REST route\n",
    "response = request.json() # parse the JSON data retreived\n",
    "print(len(response[\"IdentifierList\"][\"CID\"])) # print the number of compounds retreived\n",
    "response # display the data retreived\n",
    "\n",
    "weight_minimum = 400.0\n",
    "weight_maximum = 400.05\n",
    "target_value = \"property/InChiKey\"\n",
    "request = requests.get(f\"https://pubchem.ncbi.nlm.nih.gov/rest/pug/compound/molecular_weight/range/400.0/400.05/{target_value}/JSON\") # access the PUG REST route\n",
    "response = request.json() # parse the JSON data retreived\n",
    "print(len(response[\"PropertyTable\"][\"Properties\"])) # print the number of compounds retreived\n",
    "response # display the data retreived\n",
    "\n",
    "weight_minimum = 400.0\n",
    "weight_maximum = 400.05\n",
    "target_value = \"property/SMILES\"\n",
    "request = requests.get(f\"https://pubchem.ncbi.nlm.nih.gov/rest/pug/compound/molecular_weight/range/400.0/400.05/{target_value}/JSON\") # access the PUG REST route\n",
    "response = request.json() # parse the JSON data retreived\n",
    "print(len(response[\"PropertyTable\"][\"Properties\"])) # print the number of compounds retreived\n",
    "response # display the data retreived\n",
    "\n",
    "weight_minimum = 400.0\n",
    "weight_maximum = 400.05\n",
    "target_value = \"property/SMILES,MolecularWeight,MolecularFormula\"\n",
    "request = requests.get(f\"https://pubchem.ncbi.nlm.nih.gov/rest/pug/compound/molecular_weight/range/400.0/400.05/{target_value}/JSON\") # access the PUG REST route\n",
    "response = request.json() # parse the JSON data retreived\n",
    "print(len(response[\"PropertyTable\"][\"Properties\"])) # print the number of compounds retreived\n",
    "response # display the data retreived\n",
    "\n",
    "def generateMolsFromRequest(property_table): # define the function, taking the property table data as an input\n",
    "    mols = []\n",
    "    properties = property_table[\"Properties\"] # pull out the list of retreived property values\n",
    "    for compound in properties: # loop through each compound's properties\n",
    "        smiles = compound[\"SMILES\"] # extract the SMILES string value\n",
    "        mol = Chem.MolFromSmiles(smiles) # convert the SMILES to a Mol object using RdKit\n",
    "        mols.append(mol) # add the Mol object to a list\n",
    "    return mols # return the list of converted Mol objects\n",
    "\n",
    "mols = generateMolsFromRequest(response[\"PropertyTable\"]) # call the function using the previously retrieved data, and assign the returned list to a variable\n",
    "print(mols[0:5]) # print the first 5 Mols in the list\n",
    "Chem.Draw.MolsToGridImage(mols[0:5]) # draw the first 5 Mols in the list"
   ]
  },
  {
   "cell_type": "markdown",
   "id": "88c23117-19d1-4686-b5a8-1872feed4250",
   "metadata": {},
   "source": [
    "### Imports\n"
   ]
  },
  {
   "cell_type": "code",
   "execution_count": null,
   "id": "598ee867-95c7-4460-9578-d44f96cb3787",
   "metadata": {},
   "outputs": [],
   "source": [
    "import requests # python requests package\n",
    "from rdkit import Chem # rdkit Chem module"
   ]
  },
  {
   "cell_type": "markdown",
   "id": "24a83087-0697-42af-a724-9aed248d3359",
   "metadata": {},
   "source": [
    "### Search by name\n",
    "This api route retrieves all of the compound information for the one specified name, and returns the data in JSON format"
   ]
  },
  {
   "cell_type": "code",
   "execution_count": null,
   "id": "7d3d52df-c75e-43d5-9a5f-1adedca89ac0",
   "metadata": {
    "scrolled": true
   },
   "outputs": [],
   "source": [
    "name = \"glucose\"\n",
    "request = requests.get(f\"https://pubchem.ncbi.nlm.nih.gov/rest/pug/compound/name/{name}/JSON\") # access the PUG REST route\n",
    "response = request.json() # parse the JSON data retreived\n",
    "print(len(response[\"PC_Compounds\"])) # print the number of compounds retreived\n",
    "response # display the data retreived"
   ]
  },
  {
   "cell_type": "markdown",
   "id": "5ac7cad4-80a9-44f9-bf4f-8871eb80d8d8",
   "metadata": {},
   "source": [
    "### Search by molecular weight range\n",
    "This api route retrieves the CIDs for the all of the compunds that are within the molecular weight range, and returns the data in JSON format"
   ]
  },
  {
   "cell_type": "code",
   "execution_count": null,
   "id": "d7139dd2-5aaa-4491-a96e-f5f926eacd27",
   "metadata": {
    "scrolled": true
   },
   "outputs": [],
   "source": [
    "weight_minimum = 400.0\n",
    "weight_maximum = 400.05\n",
    "target_value = \"cids\"\n",
    "request = requests.get(f\"https://pubchem.ncbi.nlm.nih.gov/rest/pug/compound/molecular_weight/range/{weight_minimum}/{weight_maximum}/{target_value}/JSON\") # access the PUG REST route\n",
    "response = request.json() # parse the JSON data retreived\n",
    "print(len(response[\"IdentifierList\"][\"CID\"])) # print the number of compounds retreived\n",
    "response # display the data retreived"
   ]
  },
  {
   "cell_type": "markdown",
   "id": "a427de5c-2748-4544-a288-7d443b5517ce",
   "metadata": {},
   "source": [
    "### Retrieve specified property\n",
    "This api route retrieves the InChiKeys for the all of the compunds that are within the molecular weight range, and returns the data in JSON format"
   ]
  },
  {
   "cell_type": "code",
   "execution_count": null,
   "id": "ca68507c-b260-4afa-86a3-383e4912eea0",
   "metadata": {
    "scrolled": true
   },
   "outputs": [],
   "source": [
    "weight_minimum = 400.0\n",
    "weight_maximum = 400.05\n",
    "target_value = \"property/InChiKey\"\n",
    "request = requests.get(f\"https://pubchem.ncbi.nlm.nih.gov/rest/pug/compound/molecular_weight/range/400.0/400.05/{target_value}/JSON\") # access the PUG REST route\n",
    "response = request.json() # parse the JSON data retreived\n",
    "print(len(response[\"PropertyTable\"][\"Properties\"])) # print the number of compounds retreived\n",
    "response # display the data retreived"
   ]
  },
  {
   "cell_type": "markdown",
   "id": "a446de17-a0b9-4cf2-8870-e5800d505c7f",
   "metadata": {},
   "source": [
    "### Retrieve SMILES\n",
    "This api route retrieves the SMILES strings for the all of the compunds that are within the molecular weight range, and returns the data in JSON format"
   ]
  },
  {
   "cell_type": "code",
   "execution_count": null,
   "id": "48c368ce-3d5b-4776-a5d6-a29ede76ce10",
   "metadata": {
    "scrolled": true
   },
   "outputs": [],
   "source": [
    "weight_minimum = 400.0\n",
    "weight_maximum = 400.05\n",
    "target_value = \"property/SMILES\"\n",
    "request = requests.get(f\"https://pubchem.ncbi.nlm.nih.gov/rest/pug/compound/molecular_weight/range/400.0/400.05/{target_value}/JSON\") # access the PUG REST route\n",
    "response = request.json() # parse the JSON data retreived\n",
    "print(len(response[\"PropertyTable\"][\"Properties\"])) # print the number of compounds retreived\n",
    "response # display the data retreived"
   ]
  },
  {
   "cell_type": "markdown",
   "id": "bc77a6d7-35fd-4671-bda2-8f5f7f132810",
   "metadata": {},
   "source": [
    "### Retrieve multiple properties\n",
    "This api route retrieves the SMILES strings, molecular weights, and molecular formulas for the all of the compunds that are within the molecular weight range, and returns the data in JSON format"
   ]
  },
  {
   "cell_type": "code",
   "execution_count": null,
   "id": "3969fa34-bdad-4604-9f05-3b11407afae2",
   "metadata": {
    "scrolled": true
   },
   "outputs": [],
   "source": [
    "weight_minimum = 400.0\n",
    "weight_maximum = 400.05\n",
    "target_value = \"property/SMILES,MolecularWeight,MolecularFormula\"\n",
    "request = requests.get(f\"https://pubchem.ncbi.nlm.nih.gov/rest/pug/compound/molecular_weight/range/400.0/400.05/{target_value}/JSON\") # access the PUG REST route\n",
    "response = request.json() # parse the JSON data retreived\n",
    "print(len(response[\"PropertyTable\"][\"Properties\"])) # print the number of compounds retreived\n",
    "response # display the data retreived"
   ]
  },
  {
   "cell_type": "markdown",
   "id": "052cc6b1-80f2-4c23-ac33-1c7101de9de6",
   "metadata": {},
   "source": [
    "### Convert SMILES into RdKit Mol objects\n",
    "This is a python function to parse all SMILES strings from our JSON data"
   ]
  },
  {
   "cell_type": "code",
   "execution_count": null,
   "id": "39b11be6-ecad-43bc-a93d-1ac963add403",
   "metadata": {},
   "outputs": [],
   "source": [
    "def generateMolsFromRequest(property_table): # define the function, taking the property table data as an input\n",
    "    mols = []\n",
    "    properties = property_table[\"Properties\"] # pull out the list of retreived property values\n",
    "    for compound in properties: # loop through each compound's properties\n",
    "        smiles = compound[\"SMILES\"] # extract the SMILES string value\n",
    "        mol = Chem.MolFromSmiles(smiles) # convert the SMILES to a Mol object using RdKit\n",
    "        mols.append(mol) # add the Mol object to a list\n",
    "    return mols # return the list of converted Mol objects\n",
    "\n",
    "mols = generateMolsFromRequest(response[\"PropertyTable\"]) # call the function using the previously retrieved data, and assign the returned list to a variable\n",
    "print(mols[0:5]) # print the first 5 Mols in the list\n",
    "Chem.Draw.MolsToGridImage(mols[0:5]) # draw the first 5 Mols in the list"
   ]
  }
 ],
 "metadata": {
  "kernelspec": {
   "display_name": "Python [conda env:base] *",
   "language": "python",
   "name": "conda-base-py"
  },
  "language_info": {
   "codemirror_mode": {
    "name": "ipython",
    "version": 3
   },
   "file_extension": ".py",
   "mimetype": "text/x-python",
   "name": "python",
   "nbconvert_exporter": "python",
   "pygments_lexer": "ipython3",
   "version": "3.12.3"
  }
 },
 "nbformat": 4,
 "nbformat_minor": 5
}
