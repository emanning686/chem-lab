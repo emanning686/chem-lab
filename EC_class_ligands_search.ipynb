{
 "cells": [
  {
   "cell_type": "markdown",
   "id": "db2c399e-5cd0-4b0c-bbff-6b7e988d9d40",
   "metadata": {},
   "source": [
    "# Searching Using EC Class Reference"
   ]
  },
  {
   "cell_type": "code",
   "execution_count": 69,
   "id": "f6d4142f-a565-48cb-803e-0f89e2790be4",
   "metadata": {},
   "outputs": [],
   "source": [
    "from rcsbsearchapi import rcsb_attributes as attrs"
   ]
  },
  {
   "cell_type": "markdown",
   "id": "b413fd09-f2cd-49fe-b273-5bf076ed5a4f",
   "metadata": {},
   "source": [
    "## Select ec number and molecular weight of the ligands we want"
   ]
  },
  {
   "cell_type": "code",
   "execution_count": 72,
   "id": "3b900fc5-7367-4204-bdae-64d9f3a17665",
   "metadata": {},
   "outputs": [
    {
     "name": "stdout",
     "output_type": "stream",
     "text": [
      "['1AQ7', '1AUJ', '1AZ8', '1BJV', '1BTW', '1BTX', '1BTZ', '1C1S', '1C1T', '1C2D']\n"
     ]
    },
    {
     "data": {
      "text/plain": [
       "187"
      ]
     },
     "execution_count": 72,
     "metadata": {},
     "output_type": "execute_result"
    }
   ],
   "source": [
    "ECnumber = \"3.4.21.4\"\n",
    "\n",
    "q1 = attrs.rcsb_polymer_entity.rcsb_ec_lineage.id == ECnumber\n",
    "'''\n",
    "We want ligands large enough to bind to and fill up the active site of trypsin,\n",
    "in addition, small molecules with molecular weights less than 300 are likely to be individual ions\n",
    "'''\n",
    "q2 = attrs.chem_comp.formula_weight >= 300\n",
    "q3 = attrs.chem_comp.formula_weight <= 800\n",
    "\n",
    "query = q1 & q2 & q3\n",
    "\n",
    "resultL = list(query())\n",
    "\n",
    "print(resultL[0:10])\n",
    "\n",
    "len(resultL)"
   ]
  },
  {
   "cell_type": "code",
   "execution_count": 74,
   "id": "64c3e59a-6975-451f-a1f2-0a112cabd651",
   "metadata": {},
   "outputs": [
    {
     "name": "stdout",
     "output_type": "stream",
     "text": [
      "There are 119 ligands for EC Number 3.4.21.4 in this list. Here is a list of the first 10 ligands.\n"
     ]
    },
    {
     "data": {
      "text/plain": [
       "['0CA', '0CB', '0G6', '0IV', '0KV', '0ZG', '0ZW', '0ZX', '0ZY', '10U']"
      ]
     },
     "execution_count": 74,
     "metadata": {},
     "output_type": "execute_result"
    }
   ],
   "source": [
    "molResultL = list(query(\"mol_definition\"))\n",
    "print(\"There are\",len(molResultL), \"ligands for EC Number\", ECnumber, \"in this list. Here is a list of the first 10 ligands.\")\n",
    "molResultL[0:10]"
   ]
  },
  {
   "cell_type": "markdown",
   "id": "43526d00-4328-4090-9e33-3f798bed0872",
   "metadata": {},
   "source": [
    "## Download one ligand file"
   ]
  },
  {
   "cell_type": "markdown",
   "id": "b6ac3eeb-aee8-4271-aaa0-86f5fca99c50",
   "metadata": {},
   "source": [
    "### Download link is not functional"
   ]
  },
  {
   "cell_type": "code",
   "execution_count": 24,
   "id": "1f6dc1b1-3b3a-4094-8011-39029fcc0ef1",
   "metadata": {},
   "outputs": [],
   "source": [
    "import requests\n",
    "import os"
   ]
  },
  {
   "cell_type": "code",
   "execution_count": 65,
   "id": "f04aaa34-e350-4df8-8156-b9cb5f202b80",
   "metadata": {},
   "outputs": [
    {
     "data": {
      "text/plain": [
       "200"
      ]
     },
     "execution_count": 65,
     "metadata": {},
     "output_type": "execute_result"
    }
   ],
   "source": [
    "res11U_mol2 = requests.get('https://models.rcsb.org/v1/8ATC/ligand?auth_asym_id=A&auth_seq_id=142&encoding=mol2') # download with rcsb url\n",
    "res11U_mol2.status_code"
   ]
  },
  {
   "cell_type": "code",
   "execution_count": 67,
   "id": "f454b8e4-4df0-4e42-a587-9a30da1fd434",
   "metadata": {},
   "outputs": [
    {
     "name": "stdout",
     "output_type": "stream",
     "text": [
      "# Name: LEU\n",
      "# Created by ModelServer 0.9.12\n",
      "\n",
      "# model_server_result.job_id: 1XgFjyhod92pAGmopr1ZwQ\n",
      "# model_server_result.datetime_utc: 2025-03-28 18:32:31\n",
      "# model_server_result.server_version: 0.9.12\n",
      "# model_server_result.query_name: ligand\n",
      "# model_server_result.source_id: pdb-bcif\n",
      "# model_server_result.entry_id: 8ATC\n",
      "\n",
      "# model_server_params.name: atom_site\n",
      "# model_server_params.value: {\"auth_asym_id\":\"A\",\"auth_seq_id\":142}\n",
      "\n",
      "# model_server_stats.io_time_ms: 58\n",
      "# model_server_stats.parse_time_ms: 10\n",
      "# model_server_stats.create_model_time_ms: 31\n",
      "# model_server_stats.query_time_ms: 292\n",
      "# model_server_stats.encode_time_ms: 0\n",
      "# model_server_stats.element_count: 8\n",
      "\n",
      "@<TRIPOS>MOLECULE\n",
      "LEU\n",
      "8 7 1\n",
      "****\n",
      "****\n",
      "\n",
      "@<TRIPOS>ATOM\n",
      "1 N 70.634 62.241 73.502 N.2 1 LEU 0.000\n",
      "2 CA 70.688 63.336 74.469 C.3 1 LEU 0.000\n",
      "3 C 71.492 62.879 75.687 C.2 1 LEU 0.000\n",
      "4 O 72.332 63.621 76.217 O.2 1 LEU 0.000\n",
      "5 CB 69.293 63.811 74.911 C.3 1 LEU 0.000\n",
      "6 CG 68.410 64.461 73.868 C.3 1 LEU 0.000\n",
      "7 CD1 67.054 64.913 74.404 C.3 1 LEU 0.000\n",
      "8 CD2 69.160 65.652 73.257 C.3 1 LEU 0.000\n",
      "@<TRIPOS>BOND\n",
      "1 1 2 1\n",
      "2 2 3 1\n",
      "3 2 5 1\n",
      "4 3 4 2\n",
      "5 5 6 1\n",
      "6 6 7 1\n",
      "7 6 8 1\n",
      "@<TRIPOS>SUBSTRUCTURE\n",
      "1 LEU 1\n",
      "\n"
     ]
    }
   ],
   "source": [
    "os.makedirs(\"ligands\", exist_ok=True)\n",
    "\n",
    "with open(\"ligands/res11U.mol2\", \"w+\") as file:\n",
    "    file.write(res11U_mol2.text)\n",
    "\n",
    "file1 = open('ligands/res11U.mol2', 'r')\n",
    "file_text = file1.read() # This reads in the file as a string.\n",
    "\n",
    "print(file_text)"
   ]
  },
  {
   "cell_type": "markdown",
   "id": "bc4c140c-6ca4-4aa8-a42f-482a0bb88db0",
   "metadata": {},
   "source": [
    "## Bulk downloads the ligand files"
   ]
  },
  {
   "cell_type": "code",
   "execution_count": 76,
   "id": "dea11507-e5ab-4ff4-bfee-1da3601987ef",
   "metadata": {},
   "outputs": [],
   "source": [
    "os.makedirs(\"ligands\", exist_ok=True)\n",
    "\n",
    "baseUrl = \"https://files.rcsb.org/ligands/view/\"\n",
    "\n",
    "for ChemID in molResultL:\n",
    "    cFile = f\"{ChemID}.cif\"\n",
    "    cFileUrl = baseUrl + cFile\n",
    "    cFileLocal = \"ligands/\" + cFile\n",
    "    response = requests.get(cFileUrl)\n",
    "    with open(cFileLocal, \"w+\") as file:\n",
    "        file.write(response.text)"
   ]
  },
  {
   "cell_type": "code",
   "execution_count": null,
   "id": "c8bd8454-e40b-4969-8464-f66e8c6fe6eb",
   "metadata": {},
   "outputs": [],
   "source": []
  }
 ],
 "metadata": {
  "kernelspec": {
   "display_name": "Python [conda env:base] *",
   "language": "python",
   "name": "conda-base-py"
  },
  "language_info": {
   "codemirror_mode": {
    "name": "ipython",
    "version": 3
   },
   "file_extension": ".py",
   "mimetype": "text/x-python",
   "name": "python",
   "nbconvert_exporter": "python",
   "pygments_lexer": "ipython3",
   "version": "3.12.3"
  }
 },
 "nbformat": 4,
 "nbformat_minor": 5
}
