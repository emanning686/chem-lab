{
 "cells": [
  {
   "cell_type": "code",
   "execution_count": 1,
   "id": "f6d4142f-a565-48cb-803e-0f89e2790be4",
   "metadata": {},
   "outputs": [],
   "source": [
    "from rcsbsearchapi import rcsb_attributes as attrs"
   ]
  },
  {
   "cell_type": "code",
   "execution_count": 9,
   "id": "3b900fc5-7367-4204-bdae-64d9f3a17665",
   "metadata": {},
   "outputs": [
    {
     "name": "stdout",
     "output_type": "stream",
     "text": [
      "['10GS', '10MH', '11GS', '12GS', '13GS', '13PK', '16PK', '17GS', '18GS', '19GS']\n"
     ]
    },
    {
     "data": {
      "text/plain": [
       "23451"
      ]
     },
     "execution_count": 9,
     "metadata": {},
     "output_type": "execute_result"
    }
   ],
   "source": [
    "ECnumber = \"2\"\n",
    "\n",
    "q1 = attrs.rcsb_polymer_entity.rcsb_ec_lineage.id == ECnumber\n",
    "q2 = attrs.chem_comp.formula_weight >= 300\n",
    "q3 = attrs.chem_comp.formula_weight <= 800\n",
    "\n",
    "query = q1 & q2 & q3\n",
    "\n",
    "resultL = list(query())\n",
    "\n",
    "print(resultL[0:10])\n",
    "\n",
    "len(resultL)"
   ]
  },
  {
   "cell_type": "code",
   "execution_count": 11,
   "id": "64c3e59a-6975-451f-a1f2-0a112cabd651",
   "metadata": {},
   "outputs": [
    {
     "name": "stdout",
     "output_type": "stream",
     "text": [
      "There are 9034 ligands for EC Number 2 in this list. Here is a list of the first 10 ligands.\n"
     ]
    },
    {
     "data": {
      "text/plain": [
       "['00J', '017', '01P', '027', '02I', '032', '034', '035', '036', '039']"
      ]
     },
     "execution_count": 11,
     "metadata": {},
     "output_type": "execute_result"
    }
   ],
   "source": [
    "molResultL = list(query(\"mol_definition\"))\n",
    "print(\"There are\",len(molResultL), \"ligands for EC Number\", ECnumber, \"in this list. Here is a list of the first 10 ligands.\")\n",
    "molResultL[0:10]"
   ]
  },
  {
   "cell_type": "code",
   "execution_count": 13,
   "id": "318db002-1126-425f-893d-5e1ce125752a",
   "metadata": {},
   "outputs": [],
   "source": [
    "import requests\n",
    "import os"
   ]
  },
  {
   "cell_type": "code",
   "execution_count": null,
   "id": "dea11507-e5ab-4ff4-bfee-1da3601987ef",
   "metadata": {},
   "outputs": [],
   "source": [
    "os.makedirs(\"ligands\", exist_ok=True)\n",
    "\n",
    "baseUrl = \"https://files.rcsb.org/ligands/download/\"\n",
    "\n",
    "for ChemID in molResultL:\n",
    "    cFile = f\"{ChemID}_ideal.mol2\"\n",
    "    cFileUrl = baseUrl + cFile\n",
    "    cFileLocal = \"ligands/\" + cFile\n",
    "    response = requests.get(cFileUrl)\n",
    "    with open(cFileLocal, \"w+\") as file:\n",
    "        file.write(response.text)"
   ]
  },
  {
   "cell_type": "code",
   "execution_count": null,
   "id": "391ed3c8-3b6c-429f-84fa-f126e5ab04a8",
   "metadata": {},
   "outputs": [],
   "source": []
  }
 ],
 "metadata": {
  "kernelspec": {
   "display_name": "Python [conda env:base] *",
   "language": "python",
   "name": "conda-base-py"
  },
  "language_info": {
   "codemirror_mode": {
    "name": "ipython",
    "version": 3
   },
   "file_extension": ".py",
   "mimetype": "text/x-python",
   "name": "python",
   "nbconvert_exporter": "python",
   "pygments_lexer": "ipython3",
   "version": "3.12.3"
  }
 },
 "nbformat": 4,
 "nbformat_minor": 5
}
