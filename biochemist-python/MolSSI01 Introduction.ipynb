{
 "cells": [
  {
   "cell_type": "markdown",
   "id": "10aa875d-a25c-4a41-b0ef-9829417558ae",
   "metadata": {},
   "source": [
    "# MolSSI Workshop\n",
    "## Introduction\n",
    "\n",
    "This lesson covers Python basics like variable creation\n",
    "and assignment and using the Jupyter notebook"
   ]
  },
  {
   "cell_type": "code",
   "execution_count": 5,
   "id": "d1d68c83-db79-4908-bf9d-c0aaff6a2d2a",
   "metadata": {},
   "outputs": [
    {
     "data": {
      "text/plain": [
       "10"
      ]
     },
     "execution_count": 5,
     "metadata": {},
     "output_type": "execute_result"
    }
   ],
   "source": [
    "3+7"
   ]
  },
  {
   "cell_type": "code",
   "execution_count": 7,
   "id": "bcc33ed4-279c-42e6-bea0-55e620acc888",
   "metadata": {},
   "outputs": [],
   "source": [
    "# Calculations using teh Michaelis-Menten Equation\n",
    "Km = 15.0                # Km = 15 micromolar\n",
    "Vmax = 100.0             # Vmax = 100.0 nanomoles/sec\n",
    "substrate_concentration = 8.0                  # Substrate concentration is 8.0 micromolar\n",
    "velocity = Vmax * substrate_concentration/(Km + substrate_concentration)    # Michaelis-Menten equation"
   ]
  },
  {
   "cell_type": "code",
   "execution_count": 9,
   "id": "1470ff62-6daf-4495-a204-d0a04593d620",
   "metadata": {},
   "outputs": [
    {
     "name": "stdout",
     "output_type": "stream",
     "text": [
      "34.78260869565217\n"
     ]
    }
   ],
   "source": [
    "print(velocity)"
   ]
  },
  {
   "cell_type": "code",
   "execution_count": 11,
   "id": "a894b18f-51f3-42ee-85c4-cef6bcd600e1",
   "metadata": {},
   "outputs": [
    {
     "name": "stdout",
     "output_type": "stream",
     "text": [
      "34.78260869565217\n",
      "34.78260869565217\n"
     ]
    }
   ],
   "source": [
    "print(velocity)\n",
    "velocity * 1000\n",
    "print(velocity)"
   ]
  },
  {
   "cell_type": "code",
   "execution_count": 13,
   "id": "3fb2acf9-42ba-4b0c-bff2-648ff1f21991",
   "metadata": {},
   "outputs": [
    {
     "name": "stdout",
     "output_type": "stream",
     "text": [
      "34.78260869565217\n",
      "2086.9565217391305\n"
     ]
    }
   ],
   "source": [
    "print(velocity)\n",
    "velocity = velocity * 60\n",
    "print(velocity)"
   ]
  },
  {
   "cell_type": "code",
   "execution_count": 15,
   "id": "c02056de-626b-4810-8864-09df834a4b9e",
   "metadata": {},
   "outputs": [
    {
     "name": "stdout",
     "output_type": "stream",
     "text": [
      "34.78260869565217\n",
      "2086.9565217391305\n"
     ]
    }
   ],
   "source": [
    "# change velocity back\n",
    "velocity = velocity / 60\n",
    "v_nmols_per_min = velocity * 60\n",
    "print(velocity)\n",
    "print(v_nmols_per_min)"
   ]
  },
  {
   "cell_type": "code",
   "execution_count": 17,
   "id": "25355254-9c8d-4d5b-a0eb-98b20f126ca0",
   "metadata": {},
   "outputs": [
    {
     "name": "stdout",
     "output_type": "stream",
     "text": [
      "34.78260869565217\n"
     ]
    }
   ],
   "source": [
    "# I can assign all these variables at once\n",
    "Km, vmax, substrate_concentration = 15.0, 100.0, 8.0\n",
    "velocity = vmax * substrate_concentration/(Km + substrate_concentration)\n",
    "print(velocity)"
   ]
  },
  {
   "cell_type": "code",
   "execution_count": 19,
   "id": "e0c09dc2-7ba8-4d65-8c0a-d5163fab95c7",
   "metadata": {},
   "outputs": [
    {
     "data": {
      "text/plain": [
       "float"
      ]
     },
     "execution_count": 19,
     "metadata": {},
     "output_type": "execute_result"
    }
   ],
   "source": [
    "type(velocity)"
   ]
  },
  {
   "cell_type": "code",
   "execution_count": 21,
   "id": "6b16ed50-1809-4464-a084-a3f587429721",
   "metadata": {},
   "outputs": [
    {
     "data": {
      "text/plain": [
       "str"
      ]
     },
     "execution_count": 21,
     "metadata": {},
     "output_type": "execute_result"
    }
   ],
   "source": [
    "velocity_string = str(velocity)\n",
    "type(velocity_string)"
   ]
  },
  {
   "cell_type": "code",
   "execution_count": 23,
   "id": "7cbf5e48-3e8a-4d07-8112-9868981f80a2",
   "metadata": {},
   "outputs": [
    {
     "name": "stdout",
     "output_type": "stream",
     "text": [
      "This list contains 13 substrate concentrations\n"
     ]
    }
   ],
   "source": [
    "# This is a list\n",
    "substrate_concs = [1.0, 2.0, 3.0, 4.0, 6.0, 8.0, 10.0, 15.0, 20.0, 30.0, 50.0, 75.0, 100.0] #micromolar\n",
    "# I can determine its length\n",
    "s_length = len(substrate_concs)\n",
    "# Print the length of the list\n",
    "print('This list contains', s_length, 'substrate concentrations')"
   ]
  },
  {
   "cell_type": "code",
   "execution_count": 25,
   "id": "6e9b1227-0eb1-40f3-9a3c-eea37795a373",
   "metadata": {},
   "outputs": [
    {
     "name": "stdout",
     "output_type": "stream",
     "text": [
      "1.0\n"
     ]
    }
   ],
   "source": [
    "# Print the first element of the list\n",
    "print(substrate_concs[0])"
   ]
  },
  {
   "cell_type": "code",
   "execution_count": 27,
   "id": "238e0458-d84a-4103-8826-82b2ab47aa63",
   "metadata": {},
   "outputs": [
    {
     "name": "stdout",
     "output_type": "stream",
     "text": [
      "100000.0\n"
     ]
    }
   ],
   "source": [
    "# Convert the last substrate concentration to nM\n",
    "concentration_nM = substrate_concs[12] * 1000\n",
    "print(concentration_nM)"
   ]
  },
  {
   "cell_type": "code",
   "execution_count": 29,
   "id": "df80be70-e9fe-4036-879b-44bba0e7d175",
   "metadata": {},
   "outputs": [],
   "source": [
    "short_list = substrate_concs[0:3]"
   ]
  },
  {
   "cell_type": "code",
   "execution_count": 31,
   "id": "3c6c0e18-f95d-45d6-8ec8-6e31c4f66406",
   "metadata": {},
   "outputs": [
    {
     "name": "stdout",
     "output_type": "stream",
     "text": [
      "[1.0, 2.0, 3.0]\n"
     ]
    }
   ],
   "source": [
    "print(short_list)"
   ]
  },
  {
   "cell_type": "code",
   "execution_count": 33,
   "id": "6a98c421-0776-4bee-8732-6aa7b4dc0aac",
   "metadata": {},
   "outputs": [
    {
     "name": "stdout",
     "output_type": "stream",
     "text": [
      "slice1 is [20.0, 30.0, 50.0, 75.0, 100.0]\n",
      "slice2 is [1.0, 2.0, 3.0]\n"
     ]
    }
   ],
   "source": [
    "slice1 = substrate_concs[8:]\n",
    "slice2 = substrate_concs[:3]\n",
    "print('slice1 is', slice1)\n",
    "print('slice2 is', slice2)"
   ]
  },
  {
   "cell_type": "code",
   "execution_count": 35,
   "id": "dcfd88da-4fac-4404-811b-79caebdd4572",
   "metadata": {},
   "outputs": [
    {
     "name": "stdout",
     "output_type": "stream",
     "text": [
      "[1.0, 2.0, 3.0, 4.0, 6.0, 8.0, 10.0, 15.0, 20.0, 30.0, 50.0, 75.0, 100.0]\n",
      "[1.0, 2.0, 3.0, 4.0, 6.0, 8.0, 10.0, 15.0, 20.0, 30.0, 50.0, 75.0, 100.0]\n"
     ]
    }
   ],
   "source": [
    "print(substrate_concs)\n",
    "substrate_concs[0:3]\n",
    "print(substrate_concs)"
   ]
  },
  {
   "cell_type": "code",
   "execution_count": 37,
   "id": "b40d7578-8b44-4a1b-873c-54e26b6aa62e",
   "metadata": {},
   "outputs": [
    {
     "name": "stdout",
     "output_type": "stream",
     "text": [
      "6.25\n",
      "11.764705882352942\n",
      "16.666666666666668\n",
      "21.05263157894737\n",
      "28.571428571428573\n",
      "34.78260869565217\n",
      "40.0\n",
      "50.0\n",
      "57.142857142857146\n",
      "66.66666666666667\n",
      "76.92307692307692\n",
      "83.33333333333333\n",
      "86.95652173913044\n"
     ]
    }
   ],
   "source": [
    "substrate_concs = [1.0, 2.0, 3.0, 4.0, 6.0, 8.0, 10.0, 15.0, 20.0, 30.0, 50.0, 75.0, 100.0]\n",
    "for number in substrate_concs:\n",
    "    velocity = Vmax * number / (Km + number)\n",
    "    print(velocity)"
   ]
  },
  {
   "cell_type": "code",
   "execution_count": 39,
   "id": "3e126760-7567-47e6-b9a4-a85bd76c4525",
   "metadata": {},
   "outputs": [
    {
     "ename": "NameError",
     "evalue": "name 'velocities' is not defined",
     "output_type": "error",
     "traceback": [
      "\u001b[1;31m---------------------------------------------------------------------------\u001b[0m",
      "\u001b[1;31mNameError\u001b[0m                                 Traceback (most recent call last)",
      "Cell \u001b[1;32mIn[39], line 4\u001b[0m\n\u001b[0;32m      2\u001b[0m \u001b[38;5;28;01mfor\u001b[39;00m number \u001b[38;5;129;01min\u001b[39;00m substrate_concs:\n\u001b[0;32m      3\u001b[0m     V \u001b[38;5;241m=\u001b[39m Vmax \u001b[38;5;241m*\u001b[39m number \u001b[38;5;241m/\u001b[39m (Km \u001b[38;5;241m+\u001b[39m number)\n\u001b[1;32m----> 4\u001b[0m     velocities\u001b[38;5;241m.\u001b[39mappend(V)\n\u001b[0;32m      6\u001b[0m \u001b[38;5;28mprint\u001b[39m(velocities)\n",
      "\u001b[1;31mNameError\u001b[0m: name 'velocities' is not defined"
     ]
    }
   ],
   "source": [
    "substrate_concs = [1.0, 2.0, 3.0, 4.0, 6.0, 8.0, 10.0, 15.0, 20.0, 30.0, 50.0, 75.0, 100.0]\n",
    "for number in substrate_concs:\n",
    "    V = Vmax * number / (Km + number)\n",
    "    velocities.append(V)\n",
    "    \n",
    "print(velocities)"
   ]
  },
  {
   "cell_type": "code",
   "execution_count": 41,
   "id": "b5fe1988-cc3f-494a-8933-0f9f94d32317",
   "metadata": {},
   "outputs": [
    {
     "name": "stdout",
     "output_type": "stream",
     "text": [
      "[6.25, 11.764705882352942, 16.666666666666668, 21.05263157894737, 28.571428571428573, 34.78260869565217, 40.0, 50.0, 57.142857142857146, 66.66666666666667, 76.92307692307692, 83.33333333333333, 86.95652173913044]\n"
     ]
    }
   ],
   "source": [
    "velocities = []\n",
    "substate_concs = [1.0, 2.0, 3.0, 4.0, 6.0, 8.0, 10.0, 15.0, 20.0, 30.0, 50.0, 75.0, 100.0]\n",
    "for number in substrate_concs:\n",
    "    V = Vmax * number / (Km + number)\n",
    "    velocities.append(V)\n",
    "    \n",
    "print(velocities)"
   ]
  },
  {
   "cell_type": "code",
   "execution_count": 43,
   "id": "d587c9fc-cdae-4617-83f5-286bf8d7fdc4",
   "metadata": {},
   "outputs": [
    {
     "name": "stdout",
     "output_type": "stream",
     "text": [
      "[6.25, 11.764705882352942, 16.666666666666668]\n"
     ]
    }
   ],
   "source": [
    "Km, Vmax = 15.0, 100.0\n",
    "linear_MM = []\n",
    "\n",
    "subtrate_concs = [1.0, 2.0, 3.0, 4.0, 6.0, 8.0, 10.0, 15.0, 20.0, 30.0, 50.0, 75.0, 100.0]\n",
    "for number in substrate_concs:\n",
    "    if number < Km/4:\n",
    "        V_linear = Vmax * number / (Km + number)\n",
    "        linear_MM.append(V_linear)\n",
    "\n",
    "print(linear_MM)"
   ]
  },
  {
   "cell_type": "code",
   "execution_count": 45,
   "id": "e7ecca36-e477-4271-bd69-7d9abaf18403",
   "metadata": {},
   "outputs": [
    {
     "name": "stdout",
     "output_type": "stream",
     "text": [
      "[6.25, 11.764705882352942, 16.666666666666668, 21.05263157894737, 28.571428571428573, 34.78260869565217, 40.0, 50.0]\n"
     ]
    }
   ],
   "source": [
    "substrate_concs = [1.0, 2.0, 3.0, 4.0, 6.0, 8.0, 10.0, 15.0, 20.0, 30.0, 50.0, 75.0, 100.0]\n",
    "v_at_or_below_km = []\n",
    "for number in substrate_concs:\n",
    "    if number <= Km or number == Km:\n",
    "        velocity = Vmax * number / (Km + number)\n",
    "        v_at_or_below_km.append(velocity)\n",
    "\n",
    "print(v_at_or_below_km)"
   ]
  },
  {
   "cell_type": "code",
   "execution_count": 47,
   "id": "65cca6fd-e08f-4a74-8b58-4303cffeff3e",
   "metadata": {},
   "outputs": [],
   "source": [
    "conc_list = ['1.0', 2.0, 5.0, '14.0', 20.0]"
   ]
  },
  {
   "cell_type": "code",
   "execution_count": 53,
   "id": "b3d17b41-d3c3-41ff-b02b-3b599d7e4b67",
   "metadata": {},
   "outputs": [
    {
     "name": "stdout",
     "output_type": "stream",
     "text": [
      "[1.0, 2.0, 5.0, 14.0, 20.0]\n"
     ]
    }
   ],
   "source": [
    "number_list = []\n",
    "for num in conc_list:\n",
    "    if type(num) == str:\n",
    "        number_list.append(float(num))\n",
    "    else:\n",
    "        number_list.append(num)\n",
    "\n",
    "print(number_list)"
   ]
  },
  {
   "cell_type": "code",
   "execution_count": null,
   "id": "c01721a2-3e3a-4b81-a68e-c93fb865900a",
   "metadata": {},
   "outputs": [],
   "source": []
  }
 ],
 "metadata": {
  "kernelspec": {
   "display_name": "Python [conda env:base] *",
   "language": "python",
   "name": "conda-base-py"
  },
  "language_info": {
   "codemirror_mode": {
    "name": "ipython",
    "version": 3
   },
   "file_extension": ".py",
   "mimetype": "text/x-python",
   "name": "python",
   "nbconvert_exporter": "python",
   "pygments_lexer": "ipython3",
   "version": "3.12.3"
  }
 },
 "nbformat": 4,
 "nbformat_minor": 5
}
