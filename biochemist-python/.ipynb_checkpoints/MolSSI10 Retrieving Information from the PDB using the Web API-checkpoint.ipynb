{
 "cells": [
  {
   "cell_type": "code",
   "execution_count": 1,
   "id": "37305242-879c-4de8-bb48-11cf951466fa",
   "metadata": {},
   "outputs": [
    {
     "name": "stdout",
     "output_type": "stream",
     "text": [
      "Downloading PDB structure '4hhb'...\n",
      "data/PDB_files\\4hhb.cif\n"
     ]
    }
   ],
   "source": [
    "from Bio.PDB import PDBList\n",
    "\n",
    "# Create an instance of the PDBList class\n",
    "pdb_list = PDBList()\n",
    "\n",
    "# Specify the PDB ID of the structure you want to download\n",
    "pdb_id = \"4hhb\" #zinc finger\n",
    "\n",
    "# Download the MMCIF file using the retrieve_pdb_file method\n",
    "pdb_filename = pdb_list.retrieve_pdb_file(pdb_id, pdir=\"data/PDB_files\", file_format=\"mmCif\")\n",
    "\n",
    "# Print the name of the downloaded file\n",
    "print(pdb_filename)"
   ]
  },
  {
   "cell_type": "code",
   "execution_count": 3,
   "id": "d3884826-fd23-4d14-8745-275d945eec05",
   "metadata": {},
   "outputs": [],
   "source": [
    "import requests"
   ]
  },
  {
   "cell_type": "code",
   "execution_count": 5,
   "id": "5b847f0a-4f2f-487c-82e4-7223774fefb2",
   "metadata": {},
   "outputs": [],
   "source": [
    "data = requests.get(\"https://data.rcsb.org/rest/v1/core/entry/4hhb\")"
   ]
  },
  {
   "cell_type": "code",
   "execution_count": 7,
   "id": "24824f3b-c895-42ff-a64b-22f5bf4cc3d8",
   "metadata": {},
   "outputs": [
    {
     "data": {
      "text/plain": [
       "200"
      ]
     },
     "execution_count": 7,
     "metadata": {},
     "output_type": "execute_result"
    }
   ],
   "source": [
    "data.status_code"
   ]
  },
  {
   "cell_type": "code",
   "execution_count": 9,
   "id": "7bd20b7a-caf1-408f-b018-d65aa320895d",
   "metadata": {},
   "outputs": [],
   "source": [
    "info_4hhb = data.json()"
   ]
  },
  {
   "cell_type": "code",
   "execution_count": 15,
   "id": "a465d46f-eb1c-4e64-a763-5a4b3d32b20b",
   "metadata": {},
   "outputs": [
    {
     "data": {
      "text/plain": [
       "dict_keys(['audit_author', 'cell', 'citation', 'diffrn', 'entry', 'exptl', 'exptl_crystal', 'pdbx_audit_revision_category', 'pdbx_audit_revision_details', 'pdbx_audit_revision_group', 'pdbx_audit_revision_history', 'pdbx_audit_revision_item', 'pdbx_database_pdbobs_spr', 'pdbx_database_related', 'pdbx_database_status', 'pdbx_vrpt_summary', 'pdbx_vrpt_summary_geometry', 'rcsb_accession_info', 'rcsb_entry_container_identifiers', 'rcsb_entry_info', 'rcsb_primary_citation', 'refine', 'refine_hist', 'struct', 'struct_keywords', 'symmetry', 'rcsb_id'])"
      ]
     },
     "execution_count": 15,
     "metadata": {},
     "output_type": "execute_result"
    }
   ],
   "source": [
    "info_4hhb.keys()"
   ]
  },
  {
   "cell_type": "code",
   "execution_count": 17,
   "id": "8f35111a-5e59-41c9-9769-f9f788fa5720",
   "metadata": {},
   "outputs": [
    {
     "data": {
      "text/plain": [
       "[{'method': 'X-RAY DIFFRACTION'}]"
      ]
     },
     "execution_count": 17,
     "metadata": {},
     "output_type": "execute_result"
    }
   ],
   "source": [
    "info_4hhb[\"exptl\"]"
   ]
  },
  {
   "cell_type": "code",
   "execution_count": 19,
   "id": "0eaf2846-dc6b-4a36-a838-bd94cf719eea",
   "metadata": {},
   "outputs": [
    {
     "data": {
      "text/plain": [
       "{'pdbx_keywords': 'OXYGEN TRANSPORT', 'text': 'OXYGEN TRANSPORT'}"
      ]
     },
     "execution_count": 19,
     "metadata": {},
     "output_type": "execute_result"
    }
   ],
   "source": [
    "info_4hhb[\"struct_keywords\"]"
   ]
  },
  {
   "cell_type": "code",
   "execution_count": 21,
   "id": "fb9f047a-8cae-4a5d-b772-c945227bee06",
   "metadata": {},
   "outputs": [
    {
     "data": {
      "text/plain": [
       "{'title': 'THE CRYSTAL STRUCTURE OF HUMAN DEOXYHAEMOGLOBIN AT 1.74 ANGSTROMS RESOLUTION'}"
      ]
     },
     "execution_count": 21,
     "metadata": {},
     "output_type": "execute_result"
    }
   ],
   "source": [
    "info_4hhb[\"struct\"]"
   ]
  },
  {
   "cell_type": "code",
   "execution_count": 23,
   "id": "89972620-9db5-4423-945a-4f753bac3e8a",
   "metadata": {},
   "outputs": [
    {
     "data": {
      "text/plain": [
       "{'assembly_count': 1,\n",
       " 'branched_entity_count': 0,\n",
       " 'cis_peptide_count': 0,\n",
       " 'deposited_atom_count': 4779,\n",
       " 'deposited_deuterated_water_count': 0,\n",
       " 'deposited_hydrogen_atom_count': 0,\n",
       " 'deposited_model_count': 1,\n",
       " 'deposited_modeled_polymer_monomer_count': 574,\n",
       " 'deposited_nonpolymer_entity_instance_count': 6,\n",
       " 'deposited_polymer_entity_instance_count': 4,\n",
       " 'deposited_polymer_monomer_count': 574,\n",
       " 'deposited_solvent_atom_count': 221,\n",
       " 'deposited_unmodeled_polymer_monomer_count': 0,\n",
       " 'disulfide_bond_count': 0,\n",
       " 'entity_count': 5,\n",
       " 'experimental_method': 'X-ray',\n",
       " 'experimental_method_count': 1,\n",
       " 'inter_mol_covalent_bond_count': 0,\n",
       " 'inter_mol_metalic_bond_count': 4,\n",
       " 'molecular_weight': 64.74,\n",
       " 'na_polymer_entity_types': 'Other',\n",
       " 'nonpolymer_bound_components': ['HEM'],\n",
       " 'nonpolymer_entity_count': 2,\n",
       " 'nonpolymer_molecular_weight_maximum': 0.62,\n",
       " 'nonpolymer_molecular_weight_minimum': 0.09,\n",
       " 'polymer_composition': 'heteromeric protein',\n",
       " 'polymer_entity_count': 2,\n",
       " 'polymer_entity_count_dna': 0,\n",
       " 'polymer_entity_count_rna': 0,\n",
       " 'polymer_entity_count_nucleic_acid': 0,\n",
       " 'polymer_entity_count_nucleic_acid_hybrid': 0,\n",
       " 'polymer_entity_count_protein': 2,\n",
       " 'polymer_entity_taxonomy_count': 2,\n",
       " 'polymer_molecular_weight_maximum': 15.89,\n",
       " 'polymer_molecular_weight_minimum': 15.15,\n",
       " 'polymer_monomer_count_maximum': 146,\n",
       " 'polymer_monomer_count_minimum': 141,\n",
       " 'resolution_combined': [1.74],\n",
       " 'selected_polymer_entity_types': 'Protein (only)',\n",
       " 'solvent_entity_count': 1,\n",
       " 'structure_determination_methodology': 'experimental',\n",
       " 'structure_determination_methodology_priority': 10,\n",
       " 'diffrn_resolution_high': {'provenance_source': 'From refinement resolution cutoff',\n",
       "  'value': 1.74}}"
      ]
     },
     "execution_count": 23,
     "metadata": {},
     "output_type": "execute_result"
    }
   ],
   "source": [
    "info_4hhb[\"rcsb_entry_info\"]"
   ]
  },
  {
   "cell_type": "code",
   "execution_count": 33,
   "id": "4af3be12-7670-4434-920b-4cd72fb06ccd",
   "metadata": {},
   "outputs": [],
   "source": [
    "interface = requests.get(\"https://data.rcsb.org/rest/v1/core/interface/4hhb/1/2\")"
   ]
  },
  {
   "cell_type": "code",
   "execution_count": 35,
   "id": "3712283d-0b73-4f61-8e2d-ef1f08217409",
   "metadata": {},
   "outputs": [
    {
     "data": {
      "text/plain": [
       "200"
      ]
     },
     "execution_count": 35,
     "metadata": {},
     "output_type": "execute_result"
    }
   ],
   "source": [
    "interface.status_code"
   ]
  },
  {
   "cell_type": "code",
   "execution_count": 37,
   "id": "97ad4b6c-0cc8-4a1a-afdf-5ff97d4cba92",
   "metadata": {},
   "outputs": [
    {
     "data": {
      "text/plain": [
       "{'polymer_composition': 'Protein (only)',\n",
       " 'interface_character': 'hetero',\n",
       " 'interface_area': 824.2706996807091,\n",
       " 'num_interface_residues': 43,\n",
       " 'num_core_interface_residues': 11}"
      ]
     },
     "execution_count": 37,
     "metadata": {},
     "output_type": "execute_result"
    }
   ],
   "source": [
    "interface_info = interface.json()\n",
    "interface_info[\"rcsb_interface_info\"]"
   ]
  },
  {
   "cell_type": "code",
   "execution_count": 39,
   "id": "fabbe703-c3f1-4adb-927e-21d93b9ddbad",
   "metadata": {},
   "outputs": [],
   "source": [
    "import json\n",
    "\n",
    "my_query = {\n",
    "  \"query\": {\n",
    "    \"type\": \"terminal\",\n",
    "    \"service\": \"full_text\",\n",
    "    \"parameters\": {\n",
    "        \"value\": '\"oxygen storage\"'\n",
    "    }\n",
    "  },\n",
    "  \n",
    "  \"return_type\": \"entry\"\n",
    "}\n",
    "\n",
    "my_query = json.dumps(my_query)"
   ]
  },
  {
   "cell_type": "code",
   "execution_count": 41,
   "id": "9102efa7-af8c-4997-a6a0-c42363b7f1dd",
   "metadata": {},
   "outputs": [
    {
     "data": {
      "text/plain": [
       "{'query_id': '6be57596-b1ab-43dd-b26b-5b22b14770eb',\n",
       " 'result_type': 'entry',\n",
       " 'total_count': 673,\n",
       " 'result_set': [{'identifier': '1UVY', 'score': 1.0},\n",
       "  {'identifier': '1UVX', 'score': 0.9861786942153946},\n",
       "  {'identifier': '2BMM', 'score': 0.9861786942153946},\n",
       "  {'identifier': '1UX8', 'score': 0.9596514074005238},\n",
       "  {'identifier': '2AWC', 'score': 0.9480013391522119},\n",
       "  {'identifier': '7DDS', 'score': 0.9480013391522119},\n",
       "  {'identifier': '2EB8', 'score': 0.9469157998118357},\n",
       "  {'identifier': '2EF2', 'score': 0.9469157998118357},\n",
       "  {'identifier': '1D8U', 'score': 0.9345138682873109},\n",
       "  {'identifier': '1DUK', 'score': 0.9345138682873109}]}"
      ]
     },
     "execution_count": 41,
     "metadata": {},
     "output_type": "execute_result"
    }
   ],
   "source": [
    "data = requests.get(f\"https://search.rcsb.org/rcsbsearch/v2/query?json={my_query}\")\n",
    "results = data.json()\n",
    "results"
   ]
  },
  {
   "cell_type": "code",
   "execution_count": 43,
   "id": "1289dad5-87d9-44b2-b99d-fe1650de574e",
   "metadata": {},
   "outputs": [
    {
     "name": "stdout",
     "output_type": "stream",
     "text": [
      "1UVY\n"
     ]
    }
   ],
   "source": [
    "first_result = results[\"result_set\"][0][\"identifier\"]\n",
    "print(first_result)"
   ]
  },
  {
   "cell_type": "code",
   "execution_count": 45,
   "id": "c90fed81-a78e-49ed-bc9f-8d73c96bc546",
   "metadata": {},
   "outputs": [
    {
     "data": {
      "text/plain": [
       "{'title': 'HEME-LIGAND TUNNELING IN GROUP I TRUNCATED HEMOGLOBINS'}"
      ]
     },
     "execution_count": 45,
     "metadata": {},
     "output_type": "execute_result"
    }
   ],
   "source": [
    "data = requests.get(f\"https://data.rcsb.org/rest/v1/core/entry/{first_result}\")\n",
    "result = data.json()\n",
    "result[\"struct\"]"
   ]
  },
  {
   "cell_type": "code",
   "execution_count": 47,
   "id": "c951f4b1-bccd-4bb4-958a-170293d31022",
   "metadata": {},
   "outputs": [],
   "source": [
    "my_query = {\n",
    "  \"query\": {\n",
    "    \"type\": \"terminal\",\n",
    "    \"service\": \"text\",\n",
    "    \"parameters\": {\n",
    "        \"attribute\": \"struct_keywords.pdbx_keywords\",\n",
    "        \"operator\": \"contains_phrase\",\n",
    "        \"value\": '\"oxygen storage\"'\n",
    "    }\n",
    "  },\n",
    "\n",
    "  \"request_options\": {\n",
    "    \"paginate\": {\n",
    "      \"start\": 0,\n",
    "      \"rows\": 50,\n",
    "    },\n",
    "    \"sort\": [\n",
    "      {\n",
    "      \"sort_by\": \"rcsb_accession_info.initial_release_date\",\n",
    "      \"direction\": \"asc\" \n",
    "    }\n",
    "    ]\n",
    "  },\n",
    "  \n",
    "  \"return_type\": \"entry\"\n",
    "}\n",
    "\n",
    "my_query = json.dumps(my_query)"
   ]
  },
  {
   "cell_type": "code",
   "execution_count": 49,
   "id": "369c2df0-5464-46b0-a7f8-90aa44d30970",
   "metadata": {},
   "outputs": [],
   "source": [
    "data = requests.get(f\"https://search.rcsb.org/rcsbsearch/v2/query?json={my_query}\")"
   ]
  },
  {
   "cell_type": "code",
   "execution_count": 51,
   "id": "5919d5ec-19f0-4c36-80cc-1874f7601953",
   "metadata": {},
   "outputs": [
    {
     "data": {
      "text/plain": [
       "200"
      ]
     },
     "execution_count": 51,
     "metadata": {},
     "output_type": "execute_result"
    }
   ],
   "source": [
    "data.status_code"
   ]
  },
  {
   "cell_type": "code",
   "execution_count": 53,
   "id": "9c8ff926-805c-4d16-b7f7-e488a11a89b4",
   "metadata": {},
   "outputs": [
    {
     "data": {
      "text/plain": [
       "{'query_id': '4e2e46dc-b53a-4072-ae39-b5739a8abc1c',\n",
       " 'result_type': 'entry',\n",
       " 'total_count': 576,\n",
       " 'result_set': [{'identifier': '1MBN', 'score': 1.0},\n",
       "  {'identifier': '1MBD', 'score': 1.0},\n",
       "  {'identifier': '1MBO', 'score': 1.0},\n",
       "  {'identifier': '1MBC', 'score': 1.0},\n",
       "  {'identifier': '4MBN', 'score': 1.0},\n",
       "  {'identifier': '5MBN', 'score': 1.0},\n",
       "  {'identifier': '1MBA', 'score': 1.0},\n",
       "  {'identifier': '1PMB', 'score': 1.0},\n",
       "  {'identifier': '3MBA', 'score': 1.0},\n",
       "  {'identifier': '4MBA', 'score': 1.0},\n",
       "  {'identifier': '2MB5', 'score': 1.0},\n",
       "  {'identifier': '1MBI', 'score': 1.0},\n",
       "  {'identifier': '5MBA', 'score': 1.0},\n",
       "  {'identifier': '2FAL', 'score': 1.0},\n",
       "  {'identifier': '2FAM', 'score': 1.0},\n",
       "  {'identifier': '1MYG', 'score': 1.0},\n",
       "  {'identifier': '1MYH', 'score': 1.0},\n",
       "  {'identifier': '1MYI', 'score': 1.0},\n",
       "  {'identifier': '1MYJ', 'score': 1.0},\n",
       "  {'identifier': '1YCA', 'score': 1.0},\n",
       "  {'identifier': '1YCB', 'score': 1.0},\n",
       "  {'identifier': '2MGA', 'score': 1.0},\n",
       "  {'identifier': '2MGB', 'score': 1.0},\n",
       "  {'identifier': '2MGC', 'score': 1.0},\n",
       "  {'identifier': '2MGD', 'score': 1.0},\n",
       "  {'identifier': '2MGE', 'score': 1.0},\n",
       "  {'identifier': '2MGF', 'score': 1.0},\n",
       "  {'identifier': '2MGG', 'score': 1.0},\n",
       "  {'identifier': '2MGH', 'score': 1.0},\n",
       "  {'identifier': '2MGI', 'score': 1.0},\n",
       "  {'identifier': '2MGJ', 'score': 1.0},\n",
       "  {'identifier': '2MGK', 'score': 1.0},\n",
       "  {'identifier': '2MGL', 'score': 1.0},\n",
       "  {'identifier': '2MGM', 'score': 1.0},\n",
       "  {'identifier': '2MYA', 'score': 1.0},\n",
       "  {'identifier': '2MYB', 'score': 1.0},\n",
       "  {'identifier': '2MYC', 'score': 1.0},\n",
       "  {'identifier': '2MYD', 'score': 1.0},\n",
       "  {'identifier': '2MYE', 'score': 1.0},\n",
       "  {'identifier': '2SPL', 'score': 1.0},\n",
       "  {'identifier': '2SPM', 'score': 1.0},\n",
       "  {'identifier': '2SPN', 'score': 1.0},\n",
       "  {'identifier': '2SPO', 'score': 1.0},\n",
       "  {'identifier': '1MLF', 'score': 1.0},\n",
       "  {'identifier': '1MLG', 'score': 1.0},\n",
       "  {'identifier': '1MLH', 'score': 1.0},\n",
       "  {'identifier': '1MLJ', 'score': 1.0},\n",
       "  {'identifier': '1MLK', 'score': 1.0},\n",
       "  {'identifier': '1MLL', 'score': 1.0},\n",
       "  {'identifier': '1MLM', 'score': 1.0}]}"
      ]
     },
     "execution_count": 53,
     "metadata": {},
     "output_type": "execute_result"
    }
   ],
   "source": [
    "results = data.json()\n",
    "results"
   ]
  },
  {
   "cell_type": "code",
   "execution_count": 55,
   "id": "ad1962ed-1960-4628-9abc-f093784b97ae",
   "metadata": {},
   "outputs": [
    {
     "name": "stdout",
     "output_type": "stream",
     "text": [
      "Downloading PDB structure '1mbn'...\n",
      "Downloading PDB structure '1mbd'...\n",
      "Downloading PDB structure '1mbo'...\n",
      "Downloading PDB structure '1mbc'...\n",
      "Downloading PDB structure '4mbn'...\n",
      "Downloading PDB structure '5mbn'...\n",
      "Downloading PDB structure '1mba'...\n",
      "Downloading PDB structure '1pmb'...\n",
      "Downloading PDB structure '3mba'...\n",
      "Downloading PDB structure '4mba'...\n",
      "Downloading PDB structure '2mb5'...\n",
      "Downloading PDB structure '1mbi'...\n",
      "Downloading PDB structure '5mba'...\n",
      "Downloading PDB structure '2fal'...\n",
      "Downloading PDB structure '2fam'...\n",
      "Downloading PDB structure '1myg'...\n",
      "Downloading PDB structure '1myh'...\n",
      "Downloading PDB structure '1myi'...\n",
      "Downloading PDB structure '1myj'...\n",
      "Downloading PDB structure '1yca'...\n",
      "Downloading PDB structure '1ycb'...\n",
      "Downloading PDB structure '2mga'...\n",
      "Downloading PDB structure '2mgb'...\n",
      "Downloading PDB structure '2mgc'...\n",
      "Downloading PDB structure '2mgd'...\n",
      "Downloading PDB structure '2mge'...\n",
      "Downloading PDB structure '2mgf'...\n",
      "Downloading PDB structure '2mgg'...\n",
      "Downloading PDB structure '2mgh'...\n",
      "Downloading PDB structure '2mgi'...\n",
      "Downloading PDB structure '2mgj'...\n",
      "Downloading PDB structure '2mgk'...\n",
      "Downloading PDB structure '2mgl'...\n",
      "Downloading PDB structure '2mgm'...\n",
      "Downloading PDB structure '2mya'...\n",
      "Downloading PDB structure '2myb'...\n",
      "Downloading PDB structure '2myc'...\n",
      "Downloading PDB structure '2myd'...\n",
      "Downloading PDB structure '2mye'...\n",
      "Downloading PDB structure '2spl'...\n",
      "Downloading PDB structure '2spm'...\n",
      "Downloading PDB structure '2spn'...\n",
      "Downloading PDB structure '2spo'...\n",
      "Downloading PDB structure '1mlf'...\n",
      "Downloading PDB structure '1mlg'...\n",
      "Downloading PDB structure '1mlh'...\n",
      "Downloading PDB structure '1mlj'...\n",
      "Downloading PDB structure '1mlk'...\n",
      "Downloading PDB structure '1mll'...\n",
      "Downloading PDB structure '1mlm'...\n",
      "\n",
      "Top 5 most common residue combinations for iron neighbors:\n",
      "Combination: 2 HIS, 1 HOH, 1 VAL, Count: 4\n",
      "Combination: 1 CMO, 2 HIS, 1 VAL, Count: 3\n",
      "Combination: 2 HIS, 1 HOH, 1 OXY, 1 VAL, Count: 2\n",
      "Combination: 5 HIS, 2 HOH, 2 VAL, Count: 2\n",
      "Combination: 4 HIS, 2 HOH, 2 VAL, Count: 2\n"
     ]
    }
   ],
   "source": [
    "## Step 1\n",
    "from Bio.PDB import PDBList\n",
    "\n",
    "# Create an instance of the PDBList class\n",
    "pdb_list = PDBList()\n",
    "\n",
    "# Download all of the structure files\n",
    "for result in results[\"result_set\"]:\n",
    "    pdb_id = result[\"identifier\"].lower()\n",
    "\n",
    "    # Download the MMCIF file using the retrieve_pdb_file method\n",
    "    pdb_filename = pdb_list.retrieve_pdb_file(pdb_id, pdir=\"pdb_files\", file_format=\"mmCif\")\n",
    "\n",
    "\n",
    "## Step 2\n",
    "\n",
    "from Bio.PDB.MMCIFParser import MMCIFParser\n",
    "from Bio.PDB import NeighborSearch\n",
    "from collections import Counter\n",
    "\n",
    "# Create an MMCIFParser object to parse mmCIF files.\n",
    "parser = MMCIFParser(QUIET=True)\n",
    "\n",
    "# Define the maximum distance (in Ångströms) for identifying neighboring residues.\n",
    "cutoff_distance = 5\n",
    "\n",
    "# Initialize a dictionary to store the neighboring residues for each protein structure.\n",
    "residue_neighbors = {}\n",
    "\n",
    "# The 'results' variable is a dictionary containing search results.\n",
    "# Each result in 'results[\"result_set\"]' represents a protein structure with a PDB ID.\n",
    "for result in results[\"result_set\"]:\n",
    "    # Extract the PDB ID and convert it to lowercase.\n",
    "    pdb_id = result[\"identifier\"].lower()\n",
    "\n",
    "    # Parse the mmCIF file for the protein structure using the PDB ID.\n",
    "    # The file is expected to be located in the 'pdb_files' directory.\n",
    "    structure = parser.get_structure(pdb_id, f\"pdb_files/{pdb_id}.cif\")\n",
    "    \n",
    "    # Extract all atoms from the protein structure.\n",
    "    atoms = list(structure.get_atoms())\n",
    "    \n",
    "    # Create a NeighborSearch object to perform neighbor searches.\n",
    "    neighbor_search = NeighborSearch(atoms)\n",
    "    \n",
    "    # Initialize a list to store the neighboring residues for this protein structure.\n",
    "    neighbor_list = []\n",
    "\n",
    "    # Loop through the atoms in the protein structure.\n",
    "    for atom in atoms:\n",
    "        # Check if the atom is an iron (Fe) atom.\n",
    "        if atom.element == \"FE\":\n",
    "            # Get the parent residue of the iron atom.\n",
    "            iron_residue = atom.get_parent()\n",
    "\n",
    "            # Find atoms within the cutoff distance from the iron atom.\n",
    "            neighbors = neighbor_search.search(atom.get_coord(), cutoff_distance)\n",
    "            \n",
    "            # Loop through the neighboring atoms.\n",
    "            for neighbor in neighbors:\n",
    "                # Get the parent residue of the neighboring atom.\n",
    "                residue = neighbor.get_parent()\n",
    "    \n",
    "                # Check if the neighboring residue is different from the iron-containing residue.\n",
    "                if residue != iron_residue:\n",
    "                    # Add the neighboring residue to the list.\n",
    "                    neighbor_list.append(residue)\n",
    "                    \n",
    "    # Store the unique neighboring residues in the dictionary using the PDB ID as the key.\n",
    "    residue_neighbors[pdb_id] = set(neighbor_list)\n",
    "\n",
    "# The 'residue_neighbors' dictionary contains the neighboring residues for each protein structure.\n",
    "\n",
    "\n",
    "## Step 3\n",
    "## Now we will want to count the residue neighbor types.\n",
    "# Initialize an empty Counter object to store the counts of residue combinations.\n",
    "combination_counts = Counter()\n",
    "\n",
    "# Iterate over the items in the 'residue_neighbors' dictionary.\n",
    "# Each item consists of a PDB ID ('pdb_id') and a set of neighboring residues ('neighbors') to iron atoms.\n",
    "for pdb_id, neighbors in residue_neighbors.items():\n",
    "    # Extract the residue names ('resname') for each neighboring residue using the 'get_resname' method.\n",
    "    resname = [x.get_resname() for x in neighbors if x.get_resname()]\n",
    "    \n",
    "    # Count the occurrences of each residue name in the current combination.\n",
    "    res_counts = Counter(resname)\n",
    "    \n",
    "    # Convert the residue counts to a tuple of (residue, count) pairs, sorted by residue name.\n",
    "    # This standardizes the representation of each combination.\n",
    "    combination = tuple(sorted(res_counts.items()))\n",
    "    \n",
    "    # Update the combination_counts with the current combination.\n",
    "    combination_counts.update([combination])\n",
    "\n",
    "# Use the 'most_common' method to get the most common residue combinations.\n",
    "# The result is a list of tuples, where each tuple contains a combination and its count.\n",
    "most_common_combinations = combination_counts.most_common()\n",
    "\n",
    "# For example, to get the top 5 most common combinations, use 'most_common(5)'.\n",
    "top_5_combinations = combination_counts.most_common(5)\n",
    "print(\"\\nTop 5 most common residue combinations for iron neighbors:\")\n",
    "for combination, count in top_5_combinations:\n",
    "    combination_str = ', '.join([f\"{count} {residue}\" for residue, count in combination])\n",
    "    print(f\"Combination: {combination_str}, Count: {count}\")"
   ]
  },
  {
   "cell_type": "code",
   "execution_count": null,
   "id": "461e460c-5d50-4fd1-863e-da322b5d3e67",
   "metadata": {},
   "outputs": [],
   "source": []
  }
 ],
 "metadata": {
  "kernelspec": {
   "display_name": "Python [conda env:base] *",
   "language": "python",
   "name": "conda-base-py"
  },
  "language_info": {
   "codemirror_mode": {
    "name": "ipython",
    "version": 3
   },
   "file_extension": ".py",
   "mimetype": "text/x-python",
   "name": "python",
   "nbconvert_exporter": "python",
   "pygments_lexer": "ipython3",
   "version": "3.12.3"
  }
 },
 "nbformat": 4,
 "nbformat_minor": 5
}
