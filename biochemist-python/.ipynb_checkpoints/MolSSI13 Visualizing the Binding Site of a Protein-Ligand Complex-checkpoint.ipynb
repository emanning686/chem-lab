{
 "cells": [
  {
   "cell_type": "code",
   "execution_count": 111,
   "id": "a825289b-432e-43f1-8450-2d0a651f23f2",
   "metadata": {},
   "outputs": [
    {
     "data": {
      "text/plain": [
       "200"
      ]
     },
     "execution_count": 111,
     "metadata": {},
     "output_type": "execute_result"
    }
   ],
   "source": [
    "import os # for making directories\n",
    "import requests\n",
    "\n",
    "# make a directory for pdb files\n",
    "os.makedirs(\"pdb\", exist_ok=True)\n",
    "\n",
    "pdb_id = \"2zq2\" # trypsin PDB file with ligand bound\n",
    "\n",
    "pdb_request = requests.get(f\"https://files.rcsb.org/download/{pdb_id}.pdb\")\n",
    "pdb_request.status_code"
   ]
  },
  {
   "cell_type": "code",
   "execution_count": 113,
   "id": "b1a21a5c-3c68-4207-aef4-12e008cfa0d8",
   "metadata": {},
   "outputs": [],
   "source": [
    "with open(f\"pdb/{pdb_id}.pdb\", \"w+\") as f:\n",
    "    f.write(pdb_request.text)"
   ]
  },
  {
   "cell_type": "code",
   "execution_count": 115,
   "id": "7870120d-549b-480c-8eae-a72d0a1a88c7",
   "metadata": {},
   "outputs": [],
   "source": [
    "import math\n",
    "\n",
    "def rotate_view(view, x=0, y=0, z=0, degrees=True):\n",
    "    radians = 1\n",
    "    if degrees: radians = math.pi / 180\n",
    "    view.control.spin([1, 0, 0], x*radians)\n",
    "    view.control.spin([0, 1, 0], y*radians)\n",
    "    view.control.spin([0, 0, 1], z*radians)\n",
    "\n",
    "def view_binding_site(protein, ligand):\n",
    "    \"\"\"View binding site of 13U to trypsin.\n",
    "\n",
    "    Parameters\n",
    "    -----------\n",
    "    protein: mda.Universe\n",
    "        The protein as an MDAnalysis universe.\n",
    "\n",
    "    ligand: mda.Universe\n",
    "        The ligand as an MDAnalysis universe.\n",
    "    \"\"\"\n",
    "    view = nv.show_mdanalysis(protein)\n",
    "    view.clear_representations()\n",
    "    view.add_representation(\"surface\", colorScheme=\"hydrophobicity\")\n",
    "    lig_view = view.add_component(ligand)\n",
    "    lig_view.center()\n",
    "    rotate_view(view, y=180, x=20)\n",
    "    return view\n",
    "    "
   ]
  },
  {
   "cell_type": "code",
   "execution_count": 117,
   "id": "7bae4675-c631-4fc2-9fa5-b4bef8b511a5",
   "metadata": {},
   "outputs": [],
   "source": [
    "import MDAnalysis as mda\n",
    "import nglview as nv\n",
    "\n",
    "u = mda.Universe(f\"pdb/{pdb_id}.pdb\")"
   ]
  },
  {
   "cell_type": "code",
   "execution_count": 119,
   "id": "e55a3f51-73cc-42d1-bddb-160d7b0758f7",
   "metadata": {},
   "outputs": [
    {
     "data": {
      "application/vnd.jupyter.widget-view+json": {
       "model_id": "cb1dd5780a6b45d0bd1bd44cecde98ec",
       "version_major": 2,
       "version_minor": 0
      },
      "text/plain": [
       "NGLWidget()"
      ]
     },
     "metadata": {},
     "output_type": "display_data"
    }
   ],
   "source": [
    "view = nv.show_mdanalysis(u)\n",
    "view"
   ]
  },
  {
   "cell_type": "code",
   "execution_count": 121,
   "id": "9b9b7545-720a-41c0-a895-73522495b2ef",
   "metadata": {},
   "outputs": [],
   "source": [
    "protein = u.select_atoms(\"protein\")\n",
    "ligand = u.select_atoms(\"resname 13U\")"
   ]
  },
  {
   "cell_type": "code",
   "execution_count": 123,
   "id": "49602147-659a-4d2a-87da-7f14ab43e11a",
   "metadata": {},
   "outputs": [
    {
     "data": {
      "application/vnd.jupyter.widget-view+json": {
       "model_id": "9ff9631f1d5f4945b7b353d765f38f88",
       "version_major": 2,
       "version_minor": 0
      },
      "text/plain": [
       "NGLWidget()"
      ]
     },
     "metadata": {},
     "output_type": "display_data"
    }
   ],
   "source": [
    "view_binding_site(protein, ligand)"
   ]
  },
  {
   "cell_type": "code",
   "execution_count": 125,
   "id": "b760541c-368c-440e-a984-55f80518aaf8",
   "metadata": {},
   "outputs": [],
   "source": [
    "protein = u.select_atoms(\"protein\")\n",
    "ligand_A = u.select_atoms(\"resname 13U and altLoc A\")\n",
    "ligand_B = u.select_atoms(\"resname 13U and altLoc B\")"
   ]
  },
  {
   "cell_type": "code",
   "execution_count": 127,
   "id": "24a95e4a-7ce0-4d78-9fe7-802a812adeb8",
   "metadata": {},
   "outputs": [
    {
     "data": {
      "application/vnd.jupyter.widget-view+json": {
       "model_id": "2d28d23b1d254665b0c9f6c29b6e2da1",
       "version_major": 2,
       "version_minor": 0
      },
      "text/plain": [
       "NGLWidget()"
      ]
     },
     "metadata": {},
     "output_type": "display_data"
    }
   ],
   "source": [
    "view_binding_site(protein, ligand_A)"
   ]
  },
  {
   "cell_type": "code",
   "execution_count": 129,
   "id": "8bc0ee68-a842-41f6-baab-2df2971ee6e8",
   "metadata": {},
   "outputs": [
    {
     "data": {
      "application/vnd.jupyter.widget-view+json": {
       "model_id": "cb8c906719ec42d5bc0e9e01740280e4",
       "version_major": 2,
       "version_minor": 0
      },
      "text/plain": [
       "NGLWidget()"
      ]
     },
     "metadata": {},
     "output_type": "display_data"
    }
   ],
   "source": [
    "view_binding_site(protein, ligand_B)"
   ]
  },
  {
   "cell_type": "code",
   "execution_count": 131,
   "id": "a2c80804-9d4f-4436-9c1a-32c57f418ad0",
   "metadata": {},
   "outputs": [
    {
     "name": "stderr",
     "output_type": "stream",
     "text": [
      "C:\\Users\\Eric\\anaconda3\\Lib\\site-packages\\MDAnalysis\\coordinates\\PDB.py:1154: UserWarning: Found no information for attr: 'formalcharges' Using default value of '0'\n",
      "  warnings.warn(\"Found no information for attr: '{}'\"\n"
     ]
    }
   ],
   "source": [
    "protein.write(f\"pdb/protein_{pdb_id}.pdb\")\n",
    "ligand_A.write(f\"pdb/ligand_A.pdb\")"
   ]
  },
  {
   "cell_type": "code",
   "execution_count": 133,
   "id": "16ba708b-1c91-4873-a100-2bcfdad6575a",
   "metadata": {},
   "outputs": [
    {
     "name": "stderr",
     "output_type": "stream",
     "text": [
      "INFO:PDB2PQR v3.7.1: biomolecular structure conversion software.\n",
      "INFO:Please cite:  Jurrus E, et al.  Improvements to the APBS biomolecular solvation software suite.  Protein Sci 27 112-128 (2018).\n",
      "INFO:Please cite:  Dolinsky TJ, et al.  PDB2PQR: expanding and upgrading automated preparation of biomolecular structures for molecular simulations. Nucleic Acids Res 35 W522-W525 (2007).\n",
      "INFO:Checking and transforming input arguments.\n",
      "INFO:Loading topology files.\n",
      "INFO:Loading molecule: pdb/protein_2zq2.pdb\n",
      "ERROR:Error parsing line: invalid literal for int() with base 10: ''\n",
      "ERROR:<REMARK     2>\n",
      "ERROR:Truncating remaining errors for record type:REMARK\n",
      "WARNING:Warning: pdb\\protein_2zq2.pdb is a non-standard PDB file.\n",
      "\n",
      "ERROR:['REMARK']\n",
      "INFO:Setting up molecule.\n",
      "INFO:Created biomolecule object with 223 residues and 1625 atoms.\n",
      "WARNING:Multiple occupancies found: N in SER A 61.\n",
      "WARNING:Multiple occupancies found: CA in SER A 61.\n",
      "WARNING:Multiple occupancies found: C in SER A 61.\n",
      "WARNING:Multiple occupancies found: O in SER A 61.\n",
      "WARNING:Multiple occupancies found: CB in SER A 61.\n",
      "WARNING:Multiple occupancies found: OG in SER A 61.\n",
      "WARNING:Multiple occupancies found in SER A 61. At least one of the instances is being ignored.\n",
      "WARNING:Multiple occupancies found: N in SER A 113.\n",
      "WARNING:Multiple occupancies found: CA in SER A 113.\n",
      "WARNING:Multiple occupancies found: C in SER A 113.\n",
      "WARNING:Multiple occupancies found: O in SER A 113.\n",
      "WARNING:Multiple occupancies found: CB in SER A 113.\n",
      "WARNING:Multiple occupancies found: OG in SER A 113.\n",
      "WARNING:Multiple occupancies found in SER A 113. At least one of the instances is being ignored.\n",
      "WARNING:Multiple occupancies found: N in SER A 122.\n",
      "WARNING:Multiple occupancies found: CA in SER A 122.\n",
      "WARNING:Multiple occupancies found: C in SER A 122.\n",
      "WARNING:Multiple occupancies found: O in SER A 122.\n",
      "WARNING:Multiple occupancies found: CB in SER A 122.\n",
      "WARNING:Multiple occupancies found: OG in SER A 122.\n",
      "WARNING:Multiple occupancies found in SER A 122. At least one of the instances is being ignored.\n",
      "WARNING:Multiple occupancies found: N in SER A 167.\n",
      "WARNING:Multiple occupancies found: CA in SER A 167.\n",
      "WARNING:Multiple occupancies found: C in SER A 167.\n",
      "WARNING:Multiple occupancies found: O in SER A 167.\n",
      "WARNING:Multiple occupancies found: CB in SER A 167.\n",
      "WARNING:Multiple occupancies found: OG in SER A 167.\n",
      "WARNING:Multiple occupancies found in SER A 167. At least one of the instances is being ignored.\n",
      "WARNING:Multiple occupancies found: N in SER A 170.\n",
      "WARNING:Multiple occupancies found: CA in SER A 170.\n",
      "WARNING:Multiple occupancies found: C in SER A 170.\n",
      "WARNING:Multiple occupancies found: O in SER A 170.\n",
      "WARNING:Multiple occupancies found: CB in SER A 170.\n",
      "WARNING:Multiple occupancies found: OG in SER A 170.\n",
      "WARNING:Multiple occupancies found in SER A 170. At least one of the instances is being ignored.\n",
      "WARNING:Multiple occupancies found: N in SER A 236.\n",
      "WARNING:Multiple occupancies found: CA in SER A 236.\n",
      "WARNING:Multiple occupancies found: C in SER A 236.\n",
      "WARNING:Multiple occupancies found: O in SER A 236.\n",
      "WARNING:Multiple occupancies found: CB in SER A 236.\n",
      "WARNING:Multiple occupancies found: OG in SER A 236.\n",
      "WARNING:Multiple occupancies found in SER A 236. At least one of the instances is being ignored.\n",
      "WARNING:Multiple occupancies found: N in GLN A 240.\n",
      "WARNING:Multiple occupancies found: CA in GLN A 240.\n",
      "WARNING:Multiple occupancies found: C in GLN A 240.\n",
      "WARNING:Multiple occupancies found: O in GLN A 240.\n",
      "WARNING:Multiple occupancies found: CB in GLN A 240.\n",
      "WARNING:Multiple occupancies found: CG in GLN A 240.\n",
      "WARNING:Multiple occupancies found: CD in GLN A 240.\n",
      "WARNING:Multiple occupancies found: OE1 in GLN A 240.\n",
      "WARNING:Multiple occupancies found: NE2 in GLN A 240.\n",
      "WARNING:Multiple occupancies found in GLN A 240. At least one of the instances is being ignored.\n",
      "INFO:Setting termini states for biomolecule chains.\n",
      "INFO:Loading forcefield.\n",
      "INFO:Loading hydrogen topology definitions.\n",
      "WARNING:Missing atom CG in residue LYS A 222\n",
      "WARNING:Missing atom CD in residue LYS A 222\n",
      "WARNING:Missing atom CE in residue LYS A 222\n",
      "WARNING:Missing atom NZ in residue LYS A 222\n",
      "WARNING:Missing atom CG in residue LYS A 222\n",
      "WARNING:Missing atom CD in residue LYS A 222\n",
      "WARNING:Missing atom CE in residue LYS A 222\n",
      "WARNING:Missing atom NZ in residue LYS A 222\n",
      "INFO:Attempting to repair 4 missing atoms in biomolecule.\n",
      "WARNING:Missing atom CG in residue LYS A 222\n",
      "WARNING:Missing atom CD in residue LYS A 222\n",
      "WARNING:Missing atom CE in residue LYS A 222\n",
      "WARNING:Missing atom NZ in residue LYS A 222\n",
      "INFO:Added atom CG to residue LYS A 222 at coordinates 30.628, -3.449, -0.010\n",
      "INFO:Added atom CD to residue LYS A 222 at coordinates 32.074, -3.541, -0.453\n",
      "INFO:Added atom CE to residue LYS A 222 at coordinates 32.755, -2.198, -0.512\n",
      "INFO:Added atom NZ to residue LYS A 222 at coordinates 34.167, -2.339, -0.950\n",
      "INFO:Updating disulfide bridges.\n",
      "INFO:Debumping biomolecule.\n",
      "INFO:Adding hydrogens to biomolecule.\n",
      "INFO:Debumping biomolecule (again).\n",
      "INFO:Optimizing hydrogen bonds\n",
      "INFO:Applying force field to biomolecule states.\n",
      "INFO:Regenerating headers.\n",
      "INFO:Regenerating PDB lines.\n",
      "WARNING:Ignoring 390 header lines in output.\n",
      "WARNING:Ignoring 390 header lines in output.\n"
     ]
    }
   ],
   "source": [
    "! pdb2pqr --pdb-output=pdb/protein_h.pdb --pH=7.4 pdb/protein_2zq2.pdb protein.pqr"
   ]
  },
  {
   "cell_type": "code",
   "execution_count": 135,
   "id": "0fc239f5-c5dd-45bc-ac98-b3d6bdae594b",
   "metadata": {},
   "outputs": [],
   "source": [
    "protein = mda.Universe(\"pdb/protein_h.pdb\")"
   ]
  },
  {
   "cell_type": "code",
   "execution_count": 149,
   "id": "48ee8834-a615-4e52-b799-c2f845a82256",
   "metadata": {},
   "outputs": [],
   "source": [
    "from rdkit import Chem\n",
    "\n",
    "from rdkit.Chem.AllChem import AssignBondOrdersFromTemplate\n",
    "\n",
    "template = Chem.MolFromMol2File(\"ligands/13U_ideal.mol2\")\n",
    "pdb_ligand = Chem.MolFromPDBFile(f\"pdb/ligand_A.pdb\")\n",
    "\n",
    "template = Chem.RemoveAllHs(pdb_ligand)"
   ]
  },
  {
   "cell_type": "code",
   "execution_count": 157,
   "id": "647e42d5-7653-4cdd-a4cc-ee58155ad770",
   "metadata": {},
   "outputs": [],
   "source": [
    "ligand = AssignBondOrdersFromTemplate(template, pdb_ligand)\n",
    "\n",
    "# Write the ligand to an SDF file\n",
    "Chem.MolToMolFile(ligand, \"pdb/ligand.sdf\")"
   ]
  },
  {
   "cell_type": "code",
   "execution_count": 166,
   "id": "389ee304-0b68-4515-aee9-a0115ae3fba5",
   "metadata": {},
   "outputs": [
    {
     "ename": "ModuleNotFoundError",
     "evalue": "No module named 'openbabel'",
     "output_type": "error",
     "traceback": [
      "\u001b[1;31m---------------------------------------------------------------------------\u001b[0m",
      "\u001b[1;31mModuleNotFoundError\u001b[0m                       Traceback (most recent call last)",
      "Cell \u001b[1;32mIn[166], line 1\u001b[0m\n\u001b[1;32m----> 1\u001b[0m \u001b[38;5;28;01mfrom\u001b[39;00m \u001b[38;5;21;01mopenbabel\u001b[39;00m \u001b[38;5;28;01mimport\u001b[39;00m pybel\n\u001b[0;32m      3\u001b[0m \u001b[38;5;66;03m# Use pybel to read the SDF, add hydrogens, and save as PDB\u001b[39;00m\n\u001b[0;32m      4\u001b[0m mol \u001b[38;5;241m=\u001b[39m \u001b[38;5;28mnext\u001b[39m(pybel\u001b[38;5;241m.\u001b[39mreadfile(\u001b[38;5;124m\"\u001b[39m\u001b[38;5;124msdf\u001b[39m\u001b[38;5;124m\"\u001b[39m, \u001b[38;5;124m\"\u001b[39m\u001b[38;5;124mpdb/ligand.sdf\u001b[39m\u001b[38;5;124m\"\u001b[39m))\n",
      "\u001b[1;31mModuleNotFoundError\u001b[0m: No module named 'openbabel'"
     ]
    }
   ],
   "source": [
    "from openbabel import pybel\n",
    "\n",
    "# Use pybel to read the SDF, add hydrogens, and save as PDB\n",
    "mol = next(pybel.readfile(\"sdf\", \"pdb/ligand.sdf\"))\n",
    "mol.addh()  # Add hydrogens\n",
    "mol.write(\"pdb\", \"pdb/ligand_h.pdb\", overwrite=True)"
   ]
  },
  {
   "cell_type": "code",
   "execution_count": 171,
   "id": "6d385e1d-fa97-499c-bfe4-d40971895eed",
   "metadata": {},
   "outputs": [
    {
     "ename": "FileNotFoundError",
     "evalue": "[Errno 2] No such file or directory: 'pdb/ligand_h.pdb'",
     "output_type": "error",
     "traceback": [
      "\u001b[1;31m---------------------------------------------------------------------------\u001b[0m",
      "\u001b[1;31mFileNotFoundError\u001b[0m                         Traceback (most recent call last)",
      "    \u001b[1;31m[... skipping hidden 1 frame]\u001b[0m\n",
      "Cell \u001b[1;32mIn[171], line 4\u001b[0m\n\u001b[0;32m      3\u001b[0m protein_h \u001b[38;5;241m=\u001b[39m mda\u001b[38;5;241m.\u001b[39mUniverse(\u001b[38;5;124mf\u001b[39m\u001b[38;5;124m\"\u001b[39m\u001b[38;5;124mpdb/protein_h.pdb\u001b[39m\u001b[38;5;124m\"\u001b[39m)\n\u001b[1;32m----> 4\u001b[0m ligand_h \u001b[38;5;241m=\u001b[39m mda\u001b[38;5;241m.\u001b[39mUniverse(\u001b[38;5;124mf\u001b[39m\u001b[38;5;124m\"\u001b[39m\u001b[38;5;124mpdb/ligand_h.pdb\u001b[39m\u001b[38;5;124m\"\u001b[39m)\n",
      "File \u001b[1;32m~\\anaconda3\\Lib\\site-packages\\MDAnalysis\\core\\universe.py:417\u001b[0m, in \u001b[0;36mUniverse.__init__\u001b[1;34m(self, topology, all_coordinates, format, topology_format, transformations, guess_bonds, vdwradii, fudge_factor, lower_bound, in_memory, context, to_guess, force_guess, in_memory_step, *coordinates, **kwargs)\u001b[0m\n\u001b[0;32m    416\u001b[0m     \u001b[38;5;28mself\u001b[39m\u001b[38;5;241m.\u001b[39mfilename \u001b[38;5;241m=\u001b[39m _check_file_like(topology)\n\u001b[1;32m--> 417\u001b[0m     topology \u001b[38;5;241m=\u001b[39m _topology_from_file_like(\u001b[38;5;28mself\u001b[39m\u001b[38;5;241m.\u001b[39mfilename,\n\u001b[0;32m    418\u001b[0m                                         topology_format\u001b[38;5;241m=\u001b[39mtopology_format,\n\u001b[0;32m    419\u001b[0m                                         \u001b[38;5;241m*\u001b[39m\u001b[38;5;241m*\u001b[39mkwargs)\n\u001b[0;32m    421\u001b[0m \u001b[38;5;28;01mif\u001b[39;00m topology \u001b[38;5;129;01mis\u001b[39;00m \u001b[38;5;129;01mnot\u001b[39;00m \u001b[38;5;28;01mNone\u001b[39;00m:\n",
      "File \u001b[1;32m~\\anaconda3\\Lib\\site-packages\\MDAnalysis\\core\\universe.py:121\u001b[0m, in \u001b[0;36m_topology_from_file_like\u001b[1;34m(topology_file, topology_format, **kwargs)\u001b[0m\n\u001b[0;32m    118\u001b[0m \u001b[38;5;28;01mif\u001b[39;00m (err\u001b[38;5;241m.\u001b[39merrno \u001b[38;5;129;01mis\u001b[39;00m \u001b[38;5;129;01mnot\u001b[39;00m \u001b[38;5;28;01mNone\u001b[39;00m \u001b[38;5;129;01mand\u001b[39;00m\n\u001b[0;32m    119\u001b[0m     errno\u001b[38;5;241m.\u001b[39merrorcode[err\u001b[38;5;241m.\u001b[39merrno] \u001b[38;5;129;01min\u001b[39;00m [\u001b[38;5;124m'\u001b[39m\u001b[38;5;124mENOENT\u001b[39m\u001b[38;5;124m'\u001b[39m, \u001b[38;5;124m'\u001b[39m\u001b[38;5;124mEACCES\u001b[39m\u001b[38;5;124m'\u001b[39m]):\n\u001b[0;32m    120\u001b[0m     \u001b[38;5;66;03m# Runs if the error is propagated due to no permission / file not found\u001b[39;00m\n\u001b[1;32m--> 121\u001b[0m     \u001b[38;5;28;01mraise\u001b[39;00m sys\u001b[38;5;241m.\u001b[39mexc_info()[\u001b[38;5;241m1\u001b[39m] \u001b[38;5;28;01mfrom\u001b[39;00m \u001b[38;5;21;01merr\u001b[39;00m\n\u001b[0;32m    122\u001b[0m \u001b[38;5;28;01melse\u001b[39;00m:\n\u001b[0;32m    123\u001b[0m     \u001b[38;5;66;03m# Runs when the parser fails\u001b[39;00m\n",
      "File \u001b[1;32m~\\anaconda3\\Lib\\site-packages\\MDAnalysis\\core\\universe.py:113\u001b[0m, in \u001b[0;36m_topology_from_file_like\u001b[1;34m(topology_file, topology_format, **kwargs)\u001b[0m\n\u001b[0;32m    112\u001b[0m     \u001b[38;5;28;01mwith\u001b[39;00m parser(topology_file) \u001b[38;5;28;01mas\u001b[39;00m p:\n\u001b[1;32m--> 113\u001b[0m         topology \u001b[38;5;241m=\u001b[39m p\u001b[38;5;241m.\u001b[39mparse(\u001b[38;5;241m*\u001b[39m\u001b[38;5;241m*\u001b[39mkwargs)\n\u001b[0;32m    114\u001b[0m \u001b[38;5;28;01mexcept\u001b[39;00m (\u001b[38;5;167;01mIOError\u001b[39;00m, \u001b[38;5;167;01mOSError\u001b[39;00m) \u001b[38;5;28;01mas\u001b[39;00m err:\n\u001b[0;32m    115\u001b[0m     \u001b[38;5;66;03m# There are 2 kinds of errors that might be raised here:\u001b[39;00m\n\u001b[0;32m    116\u001b[0m     \u001b[38;5;66;03m# one because the file isn't present\u001b[39;00m\n\u001b[0;32m    117\u001b[0m     \u001b[38;5;66;03m# or the permissions are bad, second when the parser fails\u001b[39;00m\n",
      "File \u001b[1;32m~\\anaconda3\\Lib\\site-packages\\MDAnalysis\\topology\\PDBParser.py:215\u001b[0m, in \u001b[0;36mPDBParser.parse\u001b[1;34m(self, **kwargs)\u001b[0m\n\u001b[0;32m    209\u001b[0m \u001b[38;5;250m\u001b[39m\u001b[38;5;124;03m\"\"\"Parse atom information from PDB file\u001b[39;00m\n\u001b[0;32m    210\u001b[0m \n\u001b[0;32m    211\u001b[0m \u001b[38;5;124;03mReturns\u001b[39;00m\n\u001b[0;32m    212\u001b[0m \u001b[38;5;124;03m-------\u001b[39;00m\n\u001b[0;32m    213\u001b[0m \u001b[38;5;124;03mMDAnalysis Topology object\u001b[39;00m\n\u001b[0;32m    214\u001b[0m \u001b[38;5;124;03m\"\"\"\u001b[39;00m\n\u001b[1;32m--> 215\u001b[0m top \u001b[38;5;241m=\u001b[39m \u001b[38;5;28mself\u001b[39m\u001b[38;5;241m.\u001b[39m_parseatoms()\n\u001b[0;32m    217\u001b[0m \u001b[38;5;28;01mtry\u001b[39;00m:\n",
      "File \u001b[1;32m~\\anaconda3\\Lib\\site-packages\\MDAnalysis\\topology\\PDBParser.py:252\u001b[0m, in \u001b[0;36mPDBParser._parseatoms\u001b[1;34m(self)\u001b[0m\n\u001b[0;32m    251\u001b[0m last_wrapped_serial \u001b[38;5;241m=\u001b[39m \u001b[38;5;241m100000\u001b[39m  \u001b[38;5;66;03m# if serials wrap, start from here\u001b[39;00m\n\u001b[1;32m--> 252\u001b[0m \u001b[38;5;28;01mwith\u001b[39;00m util\u001b[38;5;241m.\u001b[39mopenany(\u001b[38;5;28mself\u001b[39m\u001b[38;5;241m.\u001b[39mfilename) \u001b[38;5;28;01mas\u001b[39;00m f:\n\u001b[0;32m    253\u001b[0m     \u001b[38;5;28;01mfor\u001b[39;00m line \u001b[38;5;129;01min\u001b[39;00m f:\n",
      "File \u001b[1;32m~\\anaconda3\\Lib\\contextlib.py:137\u001b[0m, in \u001b[0;36m_GeneratorContextManager.__enter__\u001b[1;34m(self)\u001b[0m\n\u001b[0;32m    136\u001b[0m \u001b[38;5;28;01mtry\u001b[39;00m:\n\u001b[1;32m--> 137\u001b[0m     \u001b[38;5;28;01mreturn\u001b[39;00m \u001b[38;5;28mnext\u001b[39m(\u001b[38;5;28mself\u001b[39m\u001b[38;5;241m.\u001b[39mgen)\n\u001b[0;32m    138\u001b[0m \u001b[38;5;28;01mexcept\u001b[39;00m \u001b[38;5;167;01mStopIteration\u001b[39;00m:\n",
      "File \u001b[1;32m~\\anaconda3\\Lib\\site-packages\\MDAnalysis\\lib\\util.py:326\u001b[0m, in \u001b[0;36mopenany\u001b[1;34m(datasource, mode, reset)\u001b[0m\n\u001b[0;32m    284\u001b[0m \u001b[38;5;250m\u001b[39m\u001b[38;5;124;03m\"\"\"Context manager for :func:`anyopen`.\u001b[39;00m\n\u001b[0;32m    285\u001b[0m \n\u001b[0;32m    286\u001b[0m \u001b[38;5;124;03mOpen the `datasource` and close it when the context of the :keyword:`with`\u001b[39;00m\n\u001b[1;32m   (...)\u001b[0m\n\u001b[0;32m    324\u001b[0m \u001b[38;5;124;03m:func:`anyopen`\u001b[39;00m\n\u001b[0;32m    325\u001b[0m \u001b[38;5;124;03m\"\"\"\u001b[39;00m\n\u001b[1;32m--> 326\u001b[0m stream \u001b[38;5;241m=\u001b[39m anyopen(datasource, mode\u001b[38;5;241m=\u001b[39mmode, reset\u001b[38;5;241m=\u001b[39mreset)\n\u001b[0;32m    327\u001b[0m \u001b[38;5;28;01mtry\u001b[39;00m:\n",
      "File \u001b[1;32m~\\anaconda3\\Lib\\site-packages\\MDAnalysis\\lib\\util.py:406\u001b[0m, in \u001b[0;36manyopen\u001b[1;34m(datasource, mode, reset)\u001b[0m\n\u001b[0;32m    405\u001b[0m openfunc \u001b[38;5;241m=\u001b[39m read_handlers[ext]\n\u001b[1;32m--> 406\u001b[0m stream \u001b[38;5;241m=\u001b[39m _get_stream(datasource, openfunc, mode\u001b[38;5;241m=\u001b[39mmode)\n\u001b[0;32m    407\u001b[0m \u001b[38;5;28;01mif\u001b[39;00m stream \u001b[38;5;129;01mis\u001b[39;00m \u001b[38;5;129;01mnot\u001b[39;00m \u001b[38;5;28;01mNone\u001b[39;00m:\n",
      "File \u001b[1;32m~\\anaconda3\\Lib\\site-packages\\MDAnalysis\\lib\\util.py:448\u001b[0m, in \u001b[0;36m_get_stream\u001b[1;34m(filename, openfunction, mode)\u001b[0m\n\u001b[0;32m    447\u001b[0m \u001b[38;5;28;01mif\u001b[39;00m errno\u001b[38;5;241m.\u001b[39merrorcode[err\u001b[38;5;241m.\u001b[39merrno] \u001b[38;5;129;01min\u001b[39;00m [\u001b[38;5;124m'\u001b[39m\u001b[38;5;124mENOENT\u001b[39m\u001b[38;5;124m'\u001b[39m, \u001b[38;5;124m'\u001b[39m\u001b[38;5;124mEACCES\u001b[39m\u001b[38;5;124m'\u001b[39m]:\n\u001b[1;32m--> 448\u001b[0m     \u001b[38;5;28;01mraise\u001b[39;00m sys\u001b[38;5;241m.\u001b[39mexc_info()[\u001b[38;5;241m1\u001b[39m] \u001b[38;5;28;01mfrom\u001b[39;00m \u001b[38;5;21;01merr\u001b[39;00m\n\u001b[0;32m    449\u001b[0m \u001b[38;5;28;01mreturn\u001b[39;00m \u001b[38;5;28;01mNone\u001b[39;00m\n",
      "File \u001b[1;32m~\\anaconda3\\Lib\\site-packages\\MDAnalysis\\lib\\util.py:442\u001b[0m, in \u001b[0;36m_get_stream\u001b[1;34m(filename, openfunction, mode)\u001b[0m\n\u001b[0;32m    441\u001b[0m \u001b[38;5;28;01mtry\u001b[39;00m:\n\u001b[1;32m--> 442\u001b[0m     stream \u001b[38;5;241m=\u001b[39m openfunction(filename, mode\u001b[38;5;241m=\u001b[39mmode)\n\u001b[0;32m    443\u001b[0m \u001b[38;5;28;01mexcept\u001b[39;00m (\u001b[38;5;167;01mIOError\u001b[39;00m, \u001b[38;5;167;01mOSError\u001b[39;00m) \u001b[38;5;28;01mas\u001b[39;00m err:\n\u001b[0;32m    444\u001b[0m     \u001b[38;5;66;03m# An exception might be raised due to two reasons, first the openfunction is unable to open the file, in this\u001b[39;00m\n\u001b[0;32m    445\u001b[0m     \u001b[38;5;66;03m# case we have to ignore the error and return None. Second is when openfunction can't open the file because\u001b[39;00m\n\u001b[0;32m    446\u001b[0m     \u001b[38;5;66;03m# either the file isn't there or the permissions don't allow access.\u001b[39;00m\n",
      "File \u001b[1;32m~\\anaconda3\\Lib\\site-packages\\MDAnalysis\\lib\\picklable_file_io.py:522\u001b[0m, in \u001b[0;36mbz2_pickle_open\u001b[1;34m(name, mode)\u001b[0m\n\u001b[0;32m    521\u001b[0m bz_mode \u001b[38;5;241m=\u001b[39m mode\u001b[38;5;241m.\u001b[39mreplace(\u001b[38;5;124m\"\u001b[39m\u001b[38;5;124mt\u001b[39m\u001b[38;5;124m\"\u001b[39m, \u001b[38;5;124m\"\u001b[39m\u001b[38;5;124m\"\u001b[39m)\n\u001b[1;32m--> 522\u001b[0m binary_file \u001b[38;5;241m=\u001b[39m BZ2Picklable(name, bz_mode)\n\u001b[0;32m    523\u001b[0m \u001b[38;5;28;01mif\u001b[39;00m \u001b[38;5;124m\"\u001b[39m\u001b[38;5;124mt\u001b[39m\u001b[38;5;124m\"\u001b[39m \u001b[38;5;129;01min\u001b[39;00m mode:\n",
      "File \u001b[1;32m~\\anaconda3\\Lib\\site-packages\\MDAnalysis\\lib\\picklable_file_io.py:297\u001b[0m, in \u001b[0;36mBZ2Picklable.__init__\u001b[1;34m(self, name, mode)\u001b[0m\n\u001b[0;32m    296\u001b[0m \u001b[38;5;28mself\u001b[39m\u001b[38;5;241m.\u001b[39m_bz_mode \u001b[38;5;241m=\u001b[39m mode\n\u001b[1;32m--> 297\u001b[0m \u001b[38;5;28msuper\u001b[39m()\u001b[38;5;241m.\u001b[39m\u001b[38;5;21m__init__\u001b[39m(name, mode)\n",
      "File \u001b[1;32m~\\anaconda3\\Lib\\bz2.py:81\u001b[0m, in \u001b[0;36mBZ2File.__init__\u001b[1;34m(self, filename, mode, compresslevel)\u001b[0m\n\u001b[0;32m     80\u001b[0m \u001b[38;5;28;01mif\u001b[39;00m \u001b[38;5;28misinstance\u001b[39m(filename, (\u001b[38;5;28mstr\u001b[39m, \u001b[38;5;28mbytes\u001b[39m, os\u001b[38;5;241m.\u001b[39mPathLike)):\n\u001b[1;32m---> 81\u001b[0m     \u001b[38;5;28mself\u001b[39m\u001b[38;5;241m.\u001b[39m_fp \u001b[38;5;241m=\u001b[39m _builtin_open(filename, mode)\n\u001b[0;32m     82\u001b[0m     \u001b[38;5;28mself\u001b[39m\u001b[38;5;241m.\u001b[39m_closefp \u001b[38;5;241m=\u001b[39m \u001b[38;5;28;01mTrue\u001b[39;00m\n",
      "\u001b[1;31mFileNotFoundError\u001b[0m: [Errno 2] No such file or directory: 'pdb/ligand_h.pdb'",
      "\nThe above exception was the direct cause of the following exception:\n",
      "\u001b[1;31mFileNotFoundError\u001b[0m                         Traceback (most recent call last)",
      "    \u001b[1;31m[... skipping hidden 1 frame]\u001b[0m\n",
      "Cell \u001b[1;32mIn[171], line 4\u001b[0m\n\u001b[0;32m      3\u001b[0m protein_h \u001b[38;5;241m=\u001b[39m mda\u001b[38;5;241m.\u001b[39mUniverse(\u001b[38;5;124mf\u001b[39m\u001b[38;5;124m\"\u001b[39m\u001b[38;5;124mpdb/protein_h.pdb\u001b[39m\u001b[38;5;124m\"\u001b[39m)\n\u001b[1;32m----> 4\u001b[0m ligand_h \u001b[38;5;241m=\u001b[39m mda\u001b[38;5;241m.\u001b[39mUniverse(\u001b[38;5;124mf\u001b[39m\u001b[38;5;124m\"\u001b[39m\u001b[38;5;124mpdb/ligand_h.pdb\u001b[39m\u001b[38;5;124m\"\u001b[39m)\n",
      "File \u001b[1;32m~\\anaconda3\\Lib\\site-packages\\MDAnalysis\\core\\universe.py:417\u001b[0m, in \u001b[0;36mUniverse.__init__\u001b[1;34m(self, topology, all_coordinates, format, topology_format, transformations, guess_bonds, vdwradii, fudge_factor, lower_bound, in_memory, context, to_guess, force_guess, in_memory_step, *coordinates, **kwargs)\u001b[0m\n\u001b[0;32m    416\u001b[0m     \u001b[38;5;28mself\u001b[39m\u001b[38;5;241m.\u001b[39mfilename \u001b[38;5;241m=\u001b[39m _check_file_like(topology)\n\u001b[1;32m--> 417\u001b[0m     topology \u001b[38;5;241m=\u001b[39m _topology_from_file_like(\u001b[38;5;28mself\u001b[39m\u001b[38;5;241m.\u001b[39mfilename,\n\u001b[0;32m    418\u001b[0m                                         topology_format\u001b[38;5;241m=\u001b[39mtopology_format,\n\u001b[0;32m    419\u001b[0m                                         \u001b[38;5;241m*\u001b[39m\u001b[38;5;241m*\u001b[39mkwargs)\n\u001b[0;32m    421\u001b[0m \u001b[38;5;28;01mif\u001b[39;00m topology \u001b[38;5;129;01mis\u001b[39;00m \u001b[38;5;129;01mnot\u001b[39;00m \u001b[38;5;28;01mNone\u001b[39;00m:\n",
      "File \u001b[1;32m~\\anaconda3\\Lib\\site-packages\\MDAnalysis\\core\\universe.py:121\u001b[0m, in \u001b[0;36m_topology_from_file_like\u001b[1;34m(topology_file, topology_format, **kwargs)\u001b[0m\n\u001b[0;32m    118\u001b[0m \u001b[38;5;28;01mif\u001b[39;00m (err\u001b[38;5;241m.\u001b[39merrno \u001b[38;5;129;01mis\u001b[39;00m \u001b[38;5;129;01mnot\u001b[39;00m \u001b[38;5;28;01mNone\u001b[39;00m \u001b[38;5;129;01mand\u001b[39;00m\n\u001b[0;32m    119\u001b[0m     errno\u001b[38;5;241m.\u001b[39merrorcode[err\u001b[38;5;241m.\u001b[39merrno] \u001b[38;5;129;01min\u001b[39;00m [\u001b[38;5;124m'\u001b[39m\u001b[38;5;124mENOENT\u001b[39m\u001b[38;5;124m'\u001b[39m, \u001b[38;5;124m'\u001b[39m\u001b[38;5;124mEACCES\u001b[39m\u001b[38;5;124m'\u001b[39m]):\n\u001b[0;32m    120\u001b[0m     \u001b[38;5;66;03m# Runs if the error is propagated due to no permission / file not found\u001b[39;00m\n\u001b[1;32m--> 121\u001b[0m     \u001b[38;5;28;01mraise\u001b[39;00m sys\u001b[38;5;241m.\u001b[39mexc_info()[\u001b[38;5;241m1\u001b[39m] \u001b[38;5;28;01mfrom\u001b[39;00m \u001b[38;5;21;01merr\u001b[39;00m\n\u001b[0;32m    122\u001b[0m \u001b[38;5;28;01melse\u001b[39;00m:\n\u001b[0;32m    123\u001b[0m     \u001b[38;5;66;03m# Runs when the parser fails\u001b[39;00m\n",
      "File \u001b[1;32m~\\anaconda3\\Lib\\site-packages\\MDAnalysis\\core\\universe.py:113\u001b[0m, in \u001b[0;36m_topology_from_file_like\u001b[1;34m(topology_file, topology_format, **kwargs)\u001b[0m\n\u001b[0;32m    112\u001b[0m     \u001b[38;5;28;01mwith\u001b[39;00m parser(topology_file) \u001b[38;5;28;01mas\u001b[39;00m p:\n\u001b[1;32m--> 113\u001b[0m         topology \u001b[38;5;241m=\u001b[39m p\u001b[38;5;241m.\u001b[39mparse(\u001b[38;5;241m*\u001b[39m\u001b[38;5;241m*\u001b[39mkwargs)\n\u001b[0;32m    114\u001b[0m \u001b[38;5;28;01mexcept\u001b[39;00m (\u001b[38;5;167;01mIOError\u001b[39;00m, \u001b[38;5;167;01mOSError\u001b[39;00m) \u001b[38;5;28;01mas\u001b[39;00m err:\n\u001b[0;32m    115\u001b[0m     \u001b[38;5;66;03m# There are 2 kinds of errors that might be raised here:\u001b[39;00m\n\u001b[0;32m    116\u001b[0m     \u001b[38;5;66;03m# one because the file isn't present\u001b[39;00m\n\u001b[0;32m    117\u001b[0m     \u001b[38;5;66;03m# or the permissions are bad, second when the parser fails\u001b[39;00m\n",
      "File \u001b[1;32m~\\anaconda3\\Lib\\site-packages\\MDAnalysis\\topology\\PDBParser.py:215\u001b[0m, in \u001b[0;36mPDBParser.parse\u001b[1;34m(self, **kwargs)\u001b[0m\n\u001b[0;32m    209\u001b[0m \u001b[38;5;250m\u001b[39m\u001b[38;5;124;03m\"\"\"Parse atom information from PDB file\u001b[39;00m\n\u001b[0;32m    210\u001b[0m \n\u001b[0;32m    211\u001b[0m \u001b[38;5;124;03mReturns\u001b[39;00m\n\u001b[0;32m    212\u001b[0m \u001b[38;5;124;03m-------\u001b[39;00m\n\u001b[0;32m    213\u001b[0m \u001b[38;5;124;03mMDAnalysis Topology object\u001b[39;00m\n\u001b[0;32m    214\u001b[0m \u001b[38;5;124;03m\"\"\"\u001b[39;00m\n\u001b[1;32m--> 215\u001b[0m top \u001b[38;5;241m=\u001b[39m \u001b[38;5;28mself\u001b[39m\u001b[38;5;241m.\u001b[39m_parseatoms()\n\u001b[0;32m    217\u001b[0m \u001b[38;5;28;01mtry\u001b[39;00m:\n",
      "File \u001b[1;32m~\\anaconda3\\Lib\\site-packages\\MDAnalysis\\topology\\PDBParser.py:252\u001b[0m, in \u001b[0;36mPDBParser._parseatoms\u001b[1;34m(self)\u001b[0m\n\u001b[0;32m    251\u001b[0m last_wrapped_serial \u001b[38;5;241m=\u001b[39m \u001b[38;5;241m100000\u001b[39m  \u001b[38;5;66;03m# if serials wrap, start from here\u001b[39;00m\n\u001b[1;32m--> 252\u001b[0m \u001b[38;5;28;01mwith\u001b[39;00m util\u001b[38;5;241m.\u001b[39mopenany(\u001b[38;5;28mself\u001b[39m\u001b[38;5;241m.\u001b[39mfilename) \u001b[38;5;28;01mas\u001b[39;00m f:\n\u001b[0;32m    253\u001b[0m     \u001b[38;5;28;01mfor\u001b[39;00m line \u001b[38;5;129;01min\u001b[39;00m f:\n",
      "File \u001b[1;32m~\\anaconda3\\Lib\\contextlib.py:137\u001b[0m, in \u001b[0;36m_GeneratorContextManager.__enter__\u001b[1;34m(self)\u001b[0m\n\u001b[0;32m    136\u001b[0m \u001b[38;5;28;01mtry\u001b[39;00m:\n\u001b[1;32m--> 137\u001b[0m     \u001b[38;5;28;01mreturn\u001b[39;00m \u001b[38;5;28mnext\u001b[39m(\u001b[38;5;28mself\u001b[39m\u001b[38;5;241m.\u001b[39mgen)\n\u001b[0;32m    138\u001b[0m \u001b[38;5;28;01mexcept\u001b[39;00m \u001b[38;5;167;01mStopIteration\u001b[39;00m:\n",
      "File \u001b[1;32m~\\anaconda3\\Lib\\site-packages\\MDAnalysis\\lib\\util.py:326\u001b[0m, in \u001b[0;36mopenany\u001b[1;34m(datasource, mode, reset)\u001b[0m\n\u001b[0;32m    284\u001b[0m \u001b[38;5;250m\u001b[39m\u001b[38;5;124;03m\"\"\"Context manager for :func:`anyopen`.\u001b[39;00m\n\u001b[0;32m    285\u001b[0m \n\u001b[0;32m    286\u001b[0m \u001b[38;5;124;03mOpen the `datasource` and close it when the context of the :keyword:`with`\u001b[39;00m\n\u001b[1;32m   (...)\u001b[0m\n\u001b[0;32m    324\u001b[0m \u001b[38;5;124;03m:func:`anyopen`\u001b[39;00m\n\u001b[0;32m    325\u001b[0m \u001b[38;5;124;03m\"\"\"\u001b[39;00m\n\u001b[1;32m--> 326\u001b[0m stream \u001b[38;5;241m=\u001b[39m anyopen(datasource, mode\u001b[38;5;241m=\u001b[39mmode, reset\u001b[38;5;241m=\u001b[39mreset)\n\u001b[0;32m    327\u001b[0m \u001b[38;5;28;01mtry\u001b[39;00m:\n",
      "File \u001b[1;32m~\\anaconda3\\Lib\\site-packages\\MDAnalysis\\lib\\util.py:406\u001b[0m, in \u001b[0;36manyopen\u001b[1;34m(datasource, mode, reset)\u001b[0m\n\u001b[0;32m    405\u001b[0m openfunc \u001b[38;5;241m=\u001b[39m read_handlers[ext]\n\u001b[1;32m--> 406\u001b[0m stream \u001b[38;5;241m=\u001b[39m _get_stream(datasource, openfunc, mode\u001b[38;5;241m=\u001b[39mmode)\n\u001b[0;32m    407\u001b[0m \u001b[38;5;28;01mif\u001b[39;00m stream \u001b[38;5;129;01mis\u001b[39;00m \u001b[38;5;129;01mnot\u001b[39;00m \u001b[38;5;28;01mNone\u001b[39;00m:\n",
      "File \u001b[1;32m~\\anaconda3\\Lib\\site-packages\\MDAnalysis\\lib\\util.py:448\u001b[0m, in \u001b[0;36m_get_stream\u001b[1;34m(filename, openfunction, mode)\u001b[0m\n\u001b[0;32m    447\u001b[0m \u001b[38;5;28;01mif\u001b[39;00m errno\u001b[38;5;241m.\u001b[39merrorcode[err\u001b[38;5;241m.\u001b[39merrno] \u001b[38;5;129;01min\u001b[39;00m [\u001b[38;5;124m'\u001b[39m\u001b[38;5;124mENOENT\u001b[39m\u001b[38;5;124m'\u001b[39m, \u001b[38;5;124m'\u001b[39m\u001b[38;5;124mEACCES\u001b[39m\u001b[38;5;124m'\u001b[39m]:\n\u001b[1;32m--> 448\u001b[0m     \u001b[38;5;28;01mraise\u001b[39;00m sys\u001b[38;5;241m.\u001b[39mexc_info()[\u001b[38;5;241m1\u001b[39m] \u001b[38;5;28;01mfrom\u001b[39;00m \u001b[38;5;21;01merr\u001b[39;00m\n\u001b[0;32m    449\u001b[0m \u001b[38;5;28;01mreturn\u001b[39;00m \u001b[38;5;28;01mNone\u001b[39;00m\n",
      "File \u001b[1;32m~\\anaconda3\\Lib\\site-packages\\MDAnalysis\\lib\\util.py:442\u001b[0m, in \u001b[0;36m_get_stream\u001b[1;34m(filename, openfunction, mode)\u001b[0m\n\u001b[0;32m    441\u001b[0m \u001b[38;5;28;01mtry\u001b[39;00m:\n\u001b[1;32m--> 442\u001b[0m     stream \u001b[38;5;241m=\u001b[39m openfunction(filename, mode\u001b[38;5;241m=\u001b[39mmode)\n\u001b[0;32m    443\u001b[0m \u001b[38;5;28;01mexcept\u001b[39;00m (\u001b[38;5;167;01mIOError\u001b[39;00m, \u001b[38;5;167;01mOSError\u001b[39;00m) \u001b[38;5;28;01mas\u001b[39;00m err:\n\u001b[0;32m    444\u001b[0m     \u001b[38;5;66;03m# An exception might be raised due to two reasons, first the openfunction is unable to open the file, in this\u001b[39;00m\n\u001b[0;32m    445\u001b[0m     \u001b[38;5;66;03m# case we have to ignore the error and return None. Second is when openfunction can't open the file because\u001b[39;00m\n\u001b[0;32m    446\u001b[0m     \u001b[38;5;66;03m# either the file isn't there or the permissions don't allow access.\u001b[39;00m\n",
      "File \u001b[1;32m~\\anaconda3\\Lib\\site-packages\\MDAnalysis\\lib\\picklable_file_io.py:522\u001b[0m, in \u001b[0;36mbz2_pickle_open\u001b[1;34m(name, mode)\u001b[0m\n\u001b[0;32m    521\u001b[0m bz_mode \u001b[38;5;241m=\u001b[39m mode\u001b[38;5;241m.\u001b[39mreplace(\u001b[38;5;124m\"\u001b[39m\u001b[38;5;124mt\u001b[39m\u001b[38;5;124m\"\u001b[39m, \u001b[38;5;124m\"\u001b[39m\u001b[38;5;124m\"\u001b[39m)\n\u001b[1;32m--> 522\u001b[0m binary_file \u001b[38;5;241m=\u001b[39m BZ2Picklable(name, bz_mode)\n\u001b[0;32m    523\u001b[0m \u001b[38;5;28;01mif\u001b[39;00m \u001b[38;5;124m\"\u001b[39m\u001b[38;5;124mt\u001b[39m\u001b[38;5;124m\"\u001b[39m \u001b[38;5;129;01min\u001b[39;00m mode:\n",
      "File \u001b[1;32m~\\anaconda3\\Lib\\site-packages\\MDAnalysis\\lib\\picklable_file_io.py:297\u001b[0m, in \u001b[0;36mBZ2Picklable.__init__\u001b[1;34m(self, name, mode)\u001b[0m\n\u001b[0;32m    296\u001b[0m \u001b[38;5;28mself\u001b[39m\u001b[38;5;241m.\u001b[39m_bz_mode \u001b[38;5;241m=\u001b[39m mode\n\u001b[1;32m--> 297\u001b[0m \u001b[38;5;28msuper\u001b[39m()\u001b[38;5;241m.\u001b[39m\u001b[38;5;21m__init__\u001b[39m(name, mode)\n",
      "File \u001b[1;32m~\\anaconda3\\Lib\\bz2.py:81\u001b[0m, in \u001b[0;36mBZ2File.__init__\u001b[1;34m(self, filename, mode, compresslevel)\u001b[0m\n\u001b[0;32m     80\u001b[0m \u001b[38;5;28;01mif\u001b[39;00m \u001b[38;5;28misinstance\u001b[39m(filename, (\u001b[38;5;28mstr\u001b[39m, \u001b[38;5;28mbytes\u001b[39m, os\u001b[38;5;241m.\u001b[39mPathLike)):\n\u001b[1;32m---> 81\u001b[0m     \u001b[38;5;28mself\u001b[39m\u001b[38;5;241m.\u001b[39m_fp \u001b[38;5;241m=\u001b[39m _builtin_open(filename, mode)\n\u001b[0;32m     82\u001b[0m     \u001b[38;5;28mself\u001b[39m\u001b[38;5;241m.\u001b[39m_closefp \u001b[38;5;241m=\u001b[39m \u001b[38;5;28;01mTrue\u001b[39;00m\n",
      "\u001b[1;31mFileNotFoundError\u001b[0m: [Errno 2] No such file or directory: 'pdb/ligand_h.pdb'",
      "\nThe above exception was the direct cause of the following exception:\n",
      "\u001b[1;31mFileNotFoundError\u001b[0m                         Traceback (most recent call last)",
      "Cell \u001b[1;32mIn[171], line 4\u001b[0m\n\u001b[0;32m      1\u001b[0m \u001b[38;5;28;01mimport\u001b[39;00m \u001b[38;5;21;01mprolif\u001b[39;00m \u001b[38;5;28;01mas\u001b[39;00m \u001b[38;5;21;01mplf\u001b[39;00m\n\u001b[0;32m      3\u001b[0m protein_h \u001b[38;5;241m=\u001b[39m mda\u001b[38;5;241m.\u001b[39mUniverse(\u001b[38;5;124mf\u001b[39m\u001b[38;5;124m\"\u001b[39m\u001b[38;5;124mpdb/protein_h.pdb\u001b[39m\u001b[38;5;124m\"\u001b[39m)\n\u001b[1;32m----> 4\u001b[0m ligand_h \u001b[38;5;241m=\u001b[39m mda\u001b[38;5;241m.\u001b[39mUniverse(\u001b[38;5;124mf\u001b[39m\u001b[38;5;124m\"\u001b[39m\u001b[38;5;124mpdb/ligand_h.pdb\u001b[39m\u001b[38;5;124m\"\u001b[39m)\n",
      "File \u001b[1;32m~\\anaconda3\\Lib\\site-packages\\MDAnalysis\\core\\universe.py:417\u001b[0m, in \u001b[0;36mUniverse.__init__\u001b[1;34m(self, topology, all_coordinates, format, topology_format, transformations, guess_bonds, vdwradii, fudge_factor, lower_bound, in_memory, context, to_guess, force_guess, in_memory_step, *coordinates, **kwargs)\u001b[0m\n\u001b[0;32m    415\u001b[0m \u001b[38;5;28;01mif\u001b[39;00m \u001b[38;5;129;01mnot\u001b[39;00m \u001b[38;5;28misinstance\u001b[39m(topology, Topology) \u001b[38;5;129;01mand\u001b[39;00m \u001b[38;5;129;01mnot\u001b[39;00m topology \u001b[38;5;129;01mis\u001b[39;00m \u001b[38;5;28;01mNone\u001b[39;00m:\n\u001b[0;32m    416\u001b[0m     \u001b[38;5;28mself\u001b[39m\u001b[38;5;241m.\u001b[39mfilename \u001b[38;5;241m=\u001b[39m _check_file_like(topology)\n\u001b[1;32m--> 417\u001b[0m     topology \u001b[38;5;241m=\u001b[39m _topology_from_file_like(\u001b[38;5;28mself\u001b[39m\u001b[38;5;241m.\u001b[39mfilename,\n\u001b[0;32m    418\u001b[0m                                         topology_format\u001b[38;5;241m=\u001b[39mtopology_format,\n\u001b[0;32m    419\u001b[0m                                         \u001b[38;5;241m*\u001b[39m\u001b[38;5;241m*\u001b[39mkwargs)\n\u001b[0;32m    421\u001b[0m \u001b[38;5;28;01mif\u001b[39;00m topology \u001b[38;5;129;01mis\u001b[39;00m \u001b[38;5;129;01mnot\u001b[39;00m \u001b[38;5;28;01mNone\u001b[39;00m:\n\u001b[0;32m    422\u001b[0m     \u001b[38;5;28mself\u001b[39m\u001b[38;5;241m.\u001b[39m_topology \u001b[38;5;241m=\u001b[39m topology\n",
      "File \u001b[1;32m~\\anaconda3\\Lib\\site-packages\\MDAnalysis\\core\\universe.py:121\u001b[0m, in \u001b[0;36m_topology_from_file_like\u001b[1;34m(topology_file, topology_format, **kwargs)\u001b[0m\n\u001b[0;32m    114\u001b[0m \u001b[38;5;28;01mexcept\u001b[39;00m (\u001b[38;5;167;01mIOError\u001b[39;00m, \u001b[38;5;167;01mOSError\u001b[39;00m) \u001b[38;5;28;01mas\u001b[39;00m err:\n\u001b[0;32m    115\u001b[0m     \u001b[38;5;66;03m# There are 2 kinds of errors that might be raised here:\u001b[39;00m\n\u001b[0;32m    116\u001b[0m     \u001b[38;5;66;03m# one because the file isn't present\u001b[39;00m\n\u001b[0;32m    117\u001b[0m     \u001b[38;5;66;03m# or the permissions are bad, second when the parser fails\u001b[39;00m\n\u001b[0;32m    118\u001b[0m     \u001b[38;5;28;01mif\u001b[39;00m (err\u001b[38;5;241m.\u001b[39merrno \u001b[38;5;129;01mis\u001b[39;00m \u001b[38;5;129;01mnot\u001b[39;00m \u001b[38;5;28;01mNone\u001b[39;00m \u001b[38;5;129;01mand\u001b[39;00m\n\u001b[0;32m    119\u001b[0m         errno\u001b[38;5;241m.\u001b[39merrorcode[err\u001b[38;5;241m.\u001b[39merrno] \u001b[38;5;129;01min\u001b[39;00m [\u001b[38;5;124m'\u001b[39m\u001b[38;5;124mENOENT\u001b[39m\u001b[38;5;124m'\u001b[39m, \u001b[38;5;124m'\u001b[39m\u001b[38;5;124mEACCES\u001b[39m\u001b[38;5;124m'\u001b[39m]):\n\u001b[0;32m    120\u001b[0m         \u001b[38;5;66;03m# Runs if the error is propagated due to no permission / file not found\u001b[39;00m\n\u001b[1;32m--> 121\u001b[0m         \u001b[38;5;28;01mraise\u001b[39;00m sys\u001b[38;5;241m.\u001b[39mexc_info()[\u001b[38;5;241m1\u001b[39m] \u001b[38;5;28;01mfrom\u001b[39;00m \u001b[38;5;21;01merr\u001b[39;00m\n\u001b[0;32m    122\u001b[0m     \u001b[38;5;28;01melse\u001b[39;00m:\n\u001b[0;32m    123\u001b[0m         \u001b[38;5;66;03m# Runs when the parser fails\u001b[39;00m\n\u001b[0;32m    124\u001b[0m         \u001b[38;5;28;01mraise\u001b[39;00m \u001b[38;5;167;01mIOError\u001b[39;00m(\u001b[38;5;124m\"\u001b[39m\u001b[38;5;124mFailed to load from the topology file \u001b[39m\u001b[38;5;132;01m{0}\u001b[39;00m\u001b[38;5;124m\"\u001b[39m\n\u001b[0;32m    125\u001b[0m                         \u001b[38;5;124m\"\u001b[39m\u001b[38;5;124m with parser \u001b[39m\u001b[38;5;132;01m{1}\u001b[39;00m\u001b[38;5;124m.\u001b[39m\u001b[38;5;130;01m\\n\u001b[39;00m\u001b[38;5;124m\"\u001b[39m\n\u001b[0;32m    126\u001b[0m                         \u001b[38;5;124m\"\u001b[39m\u001b[38;5;124mError: \u001b[39m\u001b[38;5;132;01m{2}\u001b[39;00m\u001b[38;5;124m\"\u001b[39m\u001b[38;5;241m.\u001b[39mformat(topology_file, parser, err))\n",
      "File \u001b[1;32m~\\anaconda3\\Lib\\site-packages\\MDAnalysis\\core\\universe.py:113\u001b[0m, in \u001b[0;36m_topology_from_file_like\u001b[1;34m(topology_file, topology_format, **kwargs)\u001b[0m\n\u001b[0;32m    111\u001b[0m \u001b[38;5;28;01mtry\u001b[39;00m:\n\u001b[0;32m    112\u001b[0m     \u001b[38;5;28;01mwith\u001b[39;00m parser(topology_file) \u001b[38;5;28;01mas\u001b[39;00m p:\n\u001b[1;32m--> 113\u001b[0m         topology \u001b[38;5;241m=\u001b[39m p\u001b[38;5;241m.\u001b[39mparse(\u001b[38;5;241m*\u001b[39m\u001b[38;5;241m*\u001b[39mkwargs)\n\u001b[0;32m    114\u001b[0m \u001b[38;5;28;01mexcept\u001b[39;00m (\u001b[38;5;167;01mIOError\u001b[39;00m, \u001b[38;5;167;01mOSError\u001b[39;00m) \u001b[38;5;28;01mas\u001b[39;00m err:\n\u001b[0;32m    115\u001b[0m     \u001b[38;5;66;03m# There are 2 kinds of errors that might be raised here:\u001b[39;00m\n\u001b[0;32m    116\u001b[0m     \u001b[38;5;66;03m# one because the file isn't present\u001b[39;00m\n\u001b[0;32m    117\u001b[0m     \u001b[38;5;66;03m# or the permissions are bad, second when the parser fails\u001b[39;00m\n\u001b[0;32m    118\u001b[0m     \u001b[38;5;28;01mif\u001b[39;00m (err\u001b[38;5;241m.\u001b[39merrno \u001b[38;5;129;01mis\u001b[39;00m \u001b[38;5;129;01mnot\u001b[39;00m \u001b[38;5;28;01mNone\u001b[39;00m \u001b[38;5;129;01mand\u001b[39;00m\n\u001b[0;32m    119\u001b[0m         errno\u001b[38;5;241m.\u001b[39merrorcode[err\u001b[38;5;241m.\u001b[39merrno] \u001b[38;5;129;01min\u001b[39;00m [\u001b[38;5;124m'\u001b[39m\u001b[38;5;124mENOENT\u001b[39m\u001b[38;5;124m'\u001b[39m, \u001b[38;5;124m'\u001b[39m\u001b[38;5;124mEACCES\u001b[39m\u001b[38;5;124m'\u001b[39m]):\n\u001b[0;32m    120\u001b[0m         \u001b[38;5;66;03m# Runs if the error is propagated due to no permission / file not found\u001b[39;00m\n",
      "File \u001b[1;32m~\\anaconda3\\Lib\\site-packages\\MDAnalysis\\topology\\PDBParser.py:215\u001b[0m, in \u001b[0;36mPDBParser.parse\u001b[1;34m(self, **kwargs)\u001b[0m\n\u001b[0;32m    208\u001b[0m \u001b[38;5;28;01mdef\u001b[39;00m \u001b[38;5;21mparse\u001b[39m(\u001b[38;5;28mself\u001b[39m, \u001b[38;5;241m*\u001b[39m\u001b[38;5;241m*\u001b[39mkwargs):\n\u001b[0;32m    209\u001b[0m \u001b[38;5;250m    \u001b[39m\u001b[38;5;124;03m\"\"\"Parse atom information from PDB file\u001b[39;00m\n\u001b[0;32m    210\u001b[0m \n\u001b[0;32m    211\u001b[0m \u001b[38;5;124;03m    Returns\u001b[39;00m\n\u001b[0;32m    212\u001b[0m \u001b[38;5;124;03m    -------\u001b[39;00m\n\u001b[0;32m    213\u001b[0m \u001b[38;5;124;03m    MDAnalysis Topology object\u001b[39;00m\n\u001b[0;32m    214\u001b[0m \u001b[38;5;124;03m    \"\"\"\u001b[39;00m\n\u001b[1;32m--> 215\u001b[0m     top \u001b[38;5;241m=\u001b[39m \u001b[38;5;28mself\u001b[39m\u001b[38;5;241m.\u001b[39m_parseatoms()\n\u001b[0;32m    217\u001b[0m     \u001b[38;5;28;01mtry\u001b[39;00m:\n\u001b[0;32m    218\u001b[0m         bonds \u001b[38;5;241m=\u001b[39m \u001b[38;5;28mself\u001b[39m\u001b[38;5;241m.\u001b[39m_parsebonds(top\u001b[38;5;241m.\u001b[39mids\u001b[38;5;241m.\u001b[39mvalues)\n",
      "File \u001b[1;32m~\\anaconda3\\Lib\\site-packages\\MDAnalysis\\topology\\PDBParser.py:252\u001b[0m, in \u001b[0;36mPDBParser._parseatoms\u001b[1;34m(self)\u001b[0m\n\u001b[0;32m    250\u001b[0m \u001b[38;5;28mself\u001b[39m\u001b[38;5;241m.\u001b[39m_wrapped_serials \u001b[38;5;241m=\u001b[39m \u001b[38;5;28;01mFalse\u001b[39;00m  \u001b[38;5;66;03m# did serials go over 100k?\u001b[39;00m\n\u001b[0;32m    251\u001b[0m last_wrapped_serial \u001b[38;5;241m=\u001b[39m \u001b[38;5;241m100000\u001b[39m  \u001b[38;5;66;03m# if serials wrap, start from here\u001b[39;00m\n\u001b[1;32m--> 252\u001b[0m \u001b[38;5;28;01mwith\u001b[39;00m util\u001b[38;5;241m.\u001b[39mopenany(\u001b[38;5;28mself\u001b[39m\u001b[38;5;241m.\u001b[39mfilename) \u001b[38;5;28;01mas\u001b[39;00m f:\n\u001b[0;32m    253\u001b[0m     \u001b[38;5;28;01mfor\u001b[39;00m line \u001b[38;5;129;01min\u001b[39;00m f:\n\u001b[0;32m    254\u001b[0m         line \u001b[38;5;241m=\u001b[39m line\u001b[38;5;241m.\u001b[39mstrip()  \u001b[38;5;66;03m# Remove extra spaces\u001b[39;00m\n",
      "File \u001b[1;32m~\\anaconda3\\Lib\\contextlib.py:137\u001b[0m, in \u001b[0;36m_GeneratorContextManager.__enter__\u001b[1;34m(self)\u001b[0m\n\u001b[0;32m    135\u001b[0m \u001b[38;5;28;01mdel\u001b[39;00m \u001b[38;5;28mself\u001b[39m\u001b[38;5;241m.\u001b[39margs, \u001b[38;5;28mself\u001b[39m\u001b[38;5;241m.\u001b[39mkwds, \u001b[38;5;28mself\u001b[39m\u001b[38;5;241m.\u001b[39mfunc\n\u001b[0;32m    136\u001b[0m \u001b[38;5;28;01mtry\u001b[39;00m:\n\u001b[1;32m--> 137\u001b[0m     \u001b[38;5;28;01mreturn\u001b[39;00m \u001b[38;5;28mnext\u001b[39m(\u001b[38;5;28mself\u001b[39m\u001b[38;5;241m.\u001b[39mgen)\n\u001b[0;32m    138\u001b[0m \u001b[38;5;28;01mexcept\u001b[39;00m \u001b[38;5;167;01mStopIteration\u001b[39;00m:\n\u001b[0;32m    139\u001b[0m     \u001b[38;5;28;01mraise\u001b[39;00m \u001b[38;5;167;01mRuntimeError\u001b[39;00m(\u001b[38;5;124m\"\u001b[39m\u001b[38;5;124mgenerator didn\u001b[39m\u001b[38;5;124m'\u001b[39m\u001b[38;5;124mt yield\u001b[39m\u001b[38;5;124m\"\u001b[39m) \u001b[38;5;28;01mfrom\u001b[39;00m \u001b[38;5;28;01mNone\u001b[39;00m\n",
      "File \u001b[1;32m~\\anaconda3\\Lib\\site-packages\\MDAnalysis\\lib\\util.py:326\u001b[0m, in \u001b[0;36mopenany\u001b[1;34m(datasource, mode, reset)\u001b[0m\n\u001b[0;32m    282\u001b[0m \u001b[38;5;129m@contextmanager\u001b[39m\n\u001b[0;32m    283\u001b[0m \u001b[38;5;28;01mdef\u001b[39;00m \u001b[38;5;21mopenany\u001b[39m(datasource, mode\u001b[38;5;241m=\u001b[39m\u001b[38;5;124m'\u001b[39m\u001b[38;5;124mrt\u001b[39m\u001b[38;5;124m'\u001b[39m, reset\u001b[38;5;241m=\u001b[39m\u001b[38;5;28;01mTrue\u001b[39;00m):\n\u001b[0;32m    284\u001b[0m \u001b[38;5;250m    \u001b[39m\u001b[38;5;124;03m\"\"\"Context manager for :func:`anyopen`.\u001b[39;00m\n\u001b[0;32m    285\u001b[0m \n\u001b[0;32m    286\u001b[0m \u001b[38;5;124;03m    Open the `datasource` and close it when the context of the :keyword:`with`\u001b[39;00m\n\u001b[1;32m   (...)\u001b[0m\n\u001b[0;32m    324\u001b[0m \u001b[38;5;124;03m    :func:`anyopen`\u001b[39;00m\n\u001b[0;32m    325\u001b[0m \u001b[38;5;124;03m    \"\"\"\u001b[39;00m\n\u001b[1;32m--> 326\u001b[0m     stream \u001b[38;5;241m=\u001b[39m anyopen(datasource, mode\u001b[38;5;241m=\u001b[39mmode, reset\u001b[38;5;241m=\u001b[39mreset)\n\u001b[0;32m    327\u001b[0m     \u001b[38;5;28;01mtry\u001b[39;00m:\n\u001b[0;32m    328\u001b[0m         \u001b[38;5;28;01myield\u001b[39;00m stream\n",
      "File \u001b[1;32m~\\anaconda3\\Lib\\site-packages\\MDAnalysis\\lib\\util.py:406\u001b[0m, in \u001b[0;36manyopen\u001b[1;34m(datasource, mode, reset)\u001b[0m\n\u001b[0;32m    404\u001b[0m \u001b[38;5;28;01mfor\u001b[39;00m ext \u001b[38;5;129;01min\u001b[39;00m (\u001b[38;5;124m'\u001b[39m\u001b[38;5;124mbz2\u001b[39m\u001b[38;5;124m'\u001b[39m, \u001b[38;5;124m'\u001b[39m\u001b[38;5;124mgz\u001b[39m\u001b[38;5;124m'\u001b[39m, \u001b[38;5;124m'\u001b[39m\u001b[38;5;124m'\u001b[39m):  \u001b[38;5;66;03m# file == '' should be last\u001b[39;00m\n\u001b[0;32m    405\u001b[0m     openfunc \u001b[38;5;241m=\u001b[39m read_handlers[ext]\n\u001b[1;32m--> 406\u001b[0m     stream \u001b[38;5;241m=\u001b[39m _get_stream(datasource, openfunc, mode\u001b[38;5;241m=\u001b[39mmode)\n\u001b[0;32m    407\u001b[0m     \u001b[38;5;28;01mif\u001b[39;00m stream \u001b[38;5;129;01mis\u001b[39;00m \u001b[38;5;129;01mnot\u001b[39;00m \u001b[38;5;28;01mNone\u001b[39;00m:\n\u001b[0;32m    408\u001b[0m         \u001b[38;5;28;01mbreak\u001b[39;00m\n",
      "File \u001b[1;32m~\\anaconda3\\Lib\\site-packages\\MDAnalysis\\lib\\util.py:448\u001b[0m, in \u001b[0;36m_get_stream\u001b[1;34m(filename, openfunction, mode)\u001b[0m\n\u001b[0;32m    443\u001b[0m \u001b[38;5;28;01mexcept\u001b[39;00m (\u001b[38;5;167;01mIOError\u001b[39;00m, \u001b[38;5;167;01mOSError\u001b[39;00m) \u001b[38;5;28;01mas\u001b[39;00m err:\n\u001b[0;32m    444\u001b[0m     \u001b[38;5;66;03m# An exception might be raised due to two reasons, first the openfunction is unable to open the file, in this\u001b[39;00m\n\u001b[0;32m    445\u001b[0m     \u001b[38;5;66;03m# case we have to ignore the error and return None. Second is when openfunction can't open the file because\u001b[39;00m\n\u001b[0;32m    446\u001b[0m     \u001b[38;5;66;03m# either the file isn't there or the permissions don't allow access.\u001b[39;00m\n\u001b[0;32m    447\u001b[0m     \u001b[38;5;28;01mif\u001b[39;00m errno\u001b[38;5;241m.\u001b[39merrorcode[err\u001b[38;5;241m.\u001b[39merrno] \u001b[38;5;129;01min\u001b[39;00m [\u001b[38;5;124m'\u001b[39m\u001b[38;5;124mENOENT\u001b[39m\u001b[38;5;124m'\u001b[39m, \u001b[38;5;124m'\u001b[39m\u001b[38;5;124mEACCES\u001b[39m\u001b[38;5;124m'\u001b[39m]:\n\u001b[1;32m--> 448\u001b[0m         \u001b[38;5;28;01mraise\u001b[39;00m sys\u001b[38;5;241m.\u001b[39mexc_info()[\u001b[38;5;241m1\u001b[39m] \u001b[38;5;28;01mfrom\u001b[39;00m \u001b[38;5;21;01merr\u001b[39;00m\n\u001b[0;32m    449\u001b[0m     \u001b[38;5;28;01mreturn\u001b[39;00m \u001b[38;5;28;01mNone\u001b[39;00m\n\u001b[0;32m    450\u001b[0m \u001b[38;5;28;01mif\u001b[39;00m mode\u001b[38;5;241m.\u001b[39mstartswith(\u001b[38;5;124m'\u001b[39m\u001b[38;5;124mr\u001b[39m\u001b[38;5;124m'\u001b[39m):\n\u001b[0;32m    451\u001b[0m     \u001b[38;5;66;03m# additional check for reading (eg can we uncompress) --- is this needed?\u001b[39;00m\n",
      "File \u001b[1;32m~\\anaconda3\\Lib\\site-packages\\MDAnalysis\\lib\\util.py:442\u001b[0m, in \u001b[0;36m_get_stream\u001b[1;34m(filename, openfunction, mode)\u001b[0m\n\u001b[0;32m    440\u001b[0m \u001b[38;5;250m\u001b[39m\u001b[38;5;124;03m\"\"\"Return open stream if *filename* can be opened with *openfunction* or else ``None``.\"\"\"\u001b[39;00m\n\u001b[0;32m    441\u001b[0m \u001b[38;5;28;01mtry\u001b[39;00m:\n\u001b[1;32m--> 442\u001b[0m     stream \u001b[38;5;241m=\u001b[39m openfunction(filename, mode\u001b[38;5;241m=\u001b[39mmode)\n\u001b[0;32m    443\u001b[0m \u001b[38;5;28;01mexcept\u001b[39;00m (\u001b[38;5;167;01mIOError\u001b[39;00m, \u001b[38;5;167;01mOSError\u001b[39;00m) \u001b[38;5;28;01mas\u001b[39;00m err:\n\u001b[0;32m    444\u001b[0m     \u001b[38;5;66;03m# An exception might be raised due to two reasons, first the openfunction is unable to open the file, in this\u001b[39;00m\n\u001b[0;32m    445\u001b[0m     \u001b[38;5;66;03m# case we have to ignore the error and return None. Second is when openfunction can't open the file because\u001b[39;00m\n\u001b[0;32m    446\u001b[0m     \u001b[38;5;66;03m# either the file isn't there or the permissions don't allow access.\u001b[39;00m\n\u001b[0;32m    447\u001b[0m     \u001b[38;5;28;01mif\u001b[39;00m errno\u001b[38;5;241m.\u001b[39merrorcode[err\u001b[38;5;241m.\u001b[39merrno] \u001b[38;5;129;01min\u001b[39;00m [\u001b[38;5;124m'\u001b[39m\u001b[38;5;124mENOENT\u001b[39m\u001b[38;5;124m'\u001b[39m, \u001b[38;5;124m'\u001b[39m\u001b[38;5;124mEACCES\u001b[39m\u001b[38;5;124m'\u001b[39m]:\n",
      "File \u001b[1;32m~\\anaconda3\\Lib\\site-packages\\MDAnalysis\\lib\\picklable_file_io.py:522\u001b[0m, in \u001b[0;36mbz2_pickle_open\u001b[1;34m(name, mode)\u001b[0m\n\u001b[0;32m    519\u001b[0m     \u001b[38;5;28;01mraise\u001b[39;00m \u001b[38;5;167;01mValueError\u001b[39;00m(\u001b[38;5;124m\"\u001b[39m\u001b[38;5;124mOnly read mode (\u001b[39m\u001b[38;5;124m'\u001b[39m\u001b[38;5;124mr\u001b[39m\u001b[38;5;124m'\u001b[39m\u001b[38;5;124m, \u001b[39m\u001b[38;5;124m'\u001b[39m\u001b[38;5;124mrt\u001b[39m\u001b[38;5;124m'\u001b[39m\u001b[38;5;124m, \u001b[39m\u001b[38;5;124m'\u001b[39m\u001b[38;5;124mrb\u001b[39m\u001b[38;5;124m'\u001b[39m\u001b[38;5;124m) \u001b[39m\u001b[38;5;124m\"\u001b[39m\n\u001b[0;32m    520\u001b[0m                      \u001b[38;5;124m\"\u001b[39m\u001b[38;5;124mfiles can be pickled.\u001b[39m\u001b[38;5;124m\"\u001b[39m)\n\u001b[0;32m    521\u001b[0m bz_mode \u001b[38;5;241m=\u001b[39m mode\u001b[38;5;241m.\u001b[39mreplace(\u001b[38;5;124m\"\u001b[39m\u001b[38;5;124mt\u001b[39m\u001b[38;5;124m\"\u001b[39m, \u001b[38;5;124m\"\u001b[39m\u001b[38;5;124m\"\u001b[39m)\n\u001b[1;32m--> 522\u001b[0m binary_file \u001b[38;5;241m=\u001b[39m BZ2Picklable(name, bz_mode)\n\u001b[0;32m    523\u001b[0m \u001b[38;5;28;01mif\u001b[39;00m \u001b[38;5;124m\"\u001b[39m\u001b[38;5;124mt\u001b[39m\u001b[38;5;124m\"\u001b[39m \u001b[38;5;129;01min\u001b[39;00m mode:\n\u001b[0;32m    524\u001b[0m     \u001b[38;5;28;01mreturn\u001b[39;00m TextIOPicklable(binary_file)\n",
      "File \u001b[1;32m~\\anaconda3\\Lib\\site-packages\\MDAnalysis\\lib\\picklable_file_io.py:297\u001b[0m, in \u001b[0;36mBZ2Picklable.__init__\u001b[1;34m(self, name, mode)\u001b[0m\n\u001b[0;32m    295\u001b[0m \u001b[38;5;28;01mdef\u001b[39;00m \u001b[38;5;21m__init__\u001b[39m(\u001b[38;5;28mself\u001b[39m, name, mode\u001b[38;5;241m=\u001b[39m\u001b[38;5;124m'\u001b[39m\u001b[38;5;124mrb\u001b[39m\u001b[38;5;124m'\u001b[39m):\n\u001b[0;32m    296\u001b[0m     \u001b[38;5;28mself\u001b[39m\u001b[38;5;241m.\u001b[39m_bz_mode \u001b[38;5;241m=\u001b[39m mode\n\u001b[1;32m--> 297\u001b[0m     \u001b[38;5;28msuper\u001b[39m()\u001b[38;5;241m.\u001b[39m\u001b[38;5;21m__init__\u001b[39m(name, mode)\n",
      "File \u001b[1;32m~\\anaconda3\\Lib\\bz2.py:81\u001b[0m, in \u001b[0;36mBZ2File.__init__\u001b[1;34m(self, filename, mode, compresslevel)\u001b[0m\n\u001b[0;32m     78\u001b[0m     \u001b[38;5;28;01mraise\u001b[39;00m \u001b[38;5;167;01mValueError\u001b[39;00m(\u001b[38;5;124m\"\u001b[39m\u001b[38;5;124mInvalid mode: \u001b[39m\u001b[38;5;132;01m%r\u001b[39;00m\u001b[38;5;124m\"\u001b[39m \u001b[38;5;241m%\u001b[39m (mode,))\n\u001b[0;32m     80\u001b[0m \u001b[38;5;28;01mif\u001b[39;00m \u001b[38;5;28misinstance\u001b[39m(filename, (\u001b[38;5;28mstr\u001b[39m, \u001b[38;5;28mbytes\u001b[39m, os\u001b[38;5;241m.\u001b[39mPathLike)):\n\u001b[1;32m---> 81\u001b[0m     \u001b[38;5;28mself\u001b[39m\u001b[38;5;241m.\u001b[39m_fp \u001b[38;5;241m=\u001b[39m _builtin_open(filename, mode)\n\u001b[0;32m     82\u001b[0m     \u001b[38;5;28mself\u001b[39m\u001b[38;5;241m.\u001b[39m_closefp \u001b[38;5;241m=\u001b[39m \u001b[38;5;28;01mTrue\u001b[39;00m\n\u001b[0;32m     83\u001b[0m     \u001b[38;5;28mself\u001b[39m\u001b[38;5;241m.\u001b[39m_mode \u001b[38;5;241m=\u001b[39m mode_code\n",
      "\u001b[1;31mFileNotFoundError\u001b[0m: [Errno 2] No such file or directory: 'pdb/ligand_h.pdb'"
     ]
    }
   ],
   "source": [
    "import prolif as plf\n",
    "\n",
    "protein_h = mda.Universe(f\"pdb/protein_h.pdb\")\n",
    "ligand_h = mda.Universe(f\"pdb/ligand_h.pdb\")"
   ]
  },
  {
   "cell_type": "code",
   "execution_count": 175,
   "id": "6e3ca2e8-9c66-4567-a3c5-d3b879c9df17",
   "metadata": {},
   "outputs": [
    {
     "ename": "NameError",
     "evalue": "name 'RDATTRIBUTES' is not defined",
     "output_type": "error",
     "traceback": [
      "\u001b[1;31m---------------------------------------------------------------------------\u001b[0m",
      "\u001b[1;31mNameError\u001b[0m                                 Traceback (most recent call last)",
      "Cell \u001b[1;32mIn[175], line 1\u001b[0m\n\u001b[1;32m----> 1\u001b[0m protein_mol \u001b[38;5;241m=\u001b[39m plf\u001b[38;5;241m.\u001b[39mMolecule\u001b[38;5;241m.\u001b[39mfrom_mda(protein_h)\n",
      "File \u001b[1;32m~\\anaconda3\\Lib\\site-packages\\prolif\\molecule.py:121\u001b[0m, in \u001b[0;36mMolecule.from_mda\u001b[1;34m(cls, obj, selection, **kwargs)\u001b[0m\n\u001b[0;32m    119\u001b[0m \u001b[38;5;28;01mif\u001b[39;00m ag\u001b[38;5;241m.\u001b[39mn_atoms \u001b[38;5;241m==\u001b[39m \u001b[38;5;241m0\u001b[39m:\n\u001b[0;32m    120\u001b[0m     \u001b[38;5;28;01mraise\u001b[39;00m mda\u001b[38;5;241m.\u001b[39mSelectionError(\u001b[38;5;124m\"\u001b[39m\u001b[38;5;124mAtomGroup is empty, please check your selection\u001b[39m\u001b[38;5;124m\"\u001b[39m)\n\u001b[1;32m--> 121\u001b[0m mol \u001b[38;5;241m=\u001b[39m ag\u001b[38;5;241m.\u001b[39mconvert_to\u001b[38;5;241m.\u001b[39mrdkit(\u001b[38;5;241m*\u001b[39m\u001b[38;5;241m*\u001b[39mkwargs)\n\u001b[0;32m    122\u001b[0m \u001b[38;5;28;01mreturn\u001b[39;00m \u001b[38;5;28mcls\u001b[39m(mol)\n",
      "File \u001b[1;32m~\\anaconda3\\Lib\\site-packages\\MDAnalysis\\converters\\RDKit.py:359\u001b[0m, in \u001b[0;36mRDKitConverter.convert\u001b[1;34m(self, obj, cache, NoImplicit, max_iter, force)\u001b[0m\n\u001b[0;32m    357\u001b[0m kwargs \u001b[38;5;241m=\u001b[39m \u001b[38;5;28mdict\u001b[39m(NoImplicit\u001b[38;5;241m=\u001b[39mNoImplicit, max_iter\u001b[38;5;241m=\u001b[39mmax_iter, force\u001b[38;5;241m=\u001b[39mforce)\n\u001b[0;32m    358\u001b[0m \u001b[38;5;28;01mif\u001b[39;00m cache:\n\u001b[1;32m--> 359\u001b[0m     mol \u001b[38;5;241m=\u001b[39m atomgroup_to_mol(ag, \u001b[38;5;241m*\u001b[39m\u001b[38;5;241m*\u001b[39mkwargs)\n\u001b[0;32m    360\u001b[0m     mol \u001b[38;5;241m=\u001b[39m copy\u001b[38;5;241m.\u001b[39mdeepcopy(mol)\n\u001b[0;32m    361\u001b[0m \u001b[38;5;28;01melse\u001b[39;00m:\n",
      "File \u001b[1;32m~\\anaconda3\\Lib\\site-packages\\MDAnalysis\\converters\\RDKit.py:428\u001b[0m, in \u001b[0;36matomgroup_to_mol\u001b[1;34m(ag, NoImplicit, max_iter, force)\u001b[0m\n\u001b[0;32m    426\u001b[0m \u001b[38;5;66;03m# attributes accepted in PDBResidueInfo object\u001b[39;00m\n\u001b[0;32m    427\u001b[0m pdb_attrs \u001b[38;5;241m=\u001b[39m {}\n\u001b[1;32m--> 428\u001b[0m \u001b[38;5;28;01mfor\u001b[39;00m attr \u001b[38;5;129;01min\u001b[39;00m RDATTRIBUTES\u001b[38;5;241m.\u001b[39mkeys():\n\u001b[0;32m    429\u001b[0m     \u001b[38;5;28;01mif\u001b[39;00m \u001b[38;5;28mhasattr\u001b[39m(ag, attr):\n\u001b[0;32m    430\u001b[0m         pdb_attrs[attr] \u001b[38;5;241m=\u001b[39m \u001b[38;5;28mgetattr\u001b[39m(ag, attr)\n",
      "\u001b[1;31mNameError\u001b[0m: name 'RDATTRIBUTES' is not defined"
     ]
    }
   ],
   "source": [
    "protein_mol = plf.Molecule.from_mda(protein_h)"
   ]
  },
  {
   "cell_type": "code",
   "execution_count": 177,
   "id": "9aeb3c9c-63a1-4e96-bf23-4a2044dbff80",
   "metadata": {},
   "outputs": [
    {
     "ename": "NameError",
     "evalue": "name 'ligand_h' is not defined",
     "output_type": "error",
     "traceback": [
      "\u001b[1;31m---------------------------------------------------------------------------\u001b[0m",
      "\u001b[1;31mNameError\u001b[0m                                 Traceback (most recent call last)",
      "Cell \u001b[1;32mIn[177], line 1\u001b[0m\n\u001b[1;32m----> 1\u001b[0m ligand_mol \u001b[38;5;241m=\u001b[39m plf\u001b[38;5;241m.\u001b[39mMolecule\u001b[38;5;241m.\u001b[39mfrom_mda(ligand_h)\n",
      "\u001b[1;31mNameError\u001b[0m: name 'ligand_h' is not defined"
     ]
    }
   ],
   "source": [
    "ligand_mol = plf.Molecule.from_mda(ligand_h)"
   ]
  },
  {
   "cell_type": "code",
   "execution_count": 180,
   "id": "b6bc052b-96f4-47a8-8c75-b7707b5bd186",
   "metadata": {},
   "outputs": [],
   "source": [
    "fp = plf.Fingerprint()"
   ]
  },
  {
   "cell_type": "code",
   "execution_count": 182,
   "id": "eead139d-28ab-4b79-8115-601d4aded4c7",
   "metadata": {},
   "outputs": [
    {
     "ename": "NameError",
     "evalue": "name 'ligand_mol' is not defined",
     "output_type": "error",
     "traceback": [
      "\u001b[1;31m---------------------------------------------------------------------------\u001b[0m",
      "\u001b[1;31mNameError\u001b[0m                                 Traceback (most recent call last)",
      "Cell \u001b[1;32mIn[182], line 1\u001b[0m\n\u001b[1;32m----> 1\u001b[0m lig_list \u001b[38;5;241m=\u001b[39m [ ligand_mol ] \n\u001b[0;32m      3\u001b[0m interactions \u001b[38;5;241m=\u001b[39m fp\u001b[38;5;241m.\u001b[39mrun_from_iterable(lig_list, protein_mol)\n",
      "\u001b[1;31mNameError\u001b[0m: name 'ligand_mol' is not defined"
     ]
    }
   ],
   "source": [
    "lig_list = [ ligand_mol ] \n",
    "\n",
    "interactions = fp.run_from_iterable(lig_list, protein_mol)"
   ]
  },
  {
   "cell_type": "code",
   "execution_count": 184,
   "id": "13164a20-b858-4e6b-8466-cc56b0d6b1cd",
   "metadata": {},
   "outputs": [
    {
     "ename": "NameError",
     "evalue": "name 'lig_list' is not defined",
     "output_type": "error",
     "traceback": [
      "\u001b[1;31m---------------------------------------------------------------------------\u001b[0m",
      "\u001b[1;31mNameError\u001b[0m                                 Traceback (most recent call last)",
      "Cell \u001b[1;32mIn[184], line 1\u001b[0m\n\u001b[1;32m----> 1\u001b[0m view \u001b[38;5;241m=\u001b[39m fp\u001b[38;5;241m.\u001b[39mplot_lignetwork(lig_list[\u001b[38;5;241m0\u001b[39m])\n\u001b[0;32m      2\u001b[0m view\n",
      "\u001b[1;31mNameError\u001b[0m: name 'lig_list' is not defined"
     ]
    }
   ],
   "source": [
    "view = fp.plot_lignetwork(lig_list[0])\n",
    "view"
   ]
  },
  {
   "cell_type": "code",
   "execution_count": null,
   "id": "20501aa4-7d13-40f6-a887-dc9d61803086",
   "metadata": {},
   "outputs": [],
   "source": []
  }
 ],
 "metadata": {
  "kernelspec": {
   "display_name": "Python [conda env:base] *",
   "language": "python",
   "name": "conda-base-py"
  },
  "language_info": {
   "codemirror_mode": {
    "name": "ipython",
    "version": 3
   },
   "file_extension": ".py",
   "mimetype": "text/x-python",
   "name": "python",
   "nbconvert_exporter": "python",
   "pygments_lexer": "ipython3",
   "version": "3.12.3"
  }
 },
 "nbformat": 4,
 "nbformat_minor": 5
}
