{
 "cells": [
  {
   "cell_type": "code",
   "execution_count": 7,
   "id": "12491ebe-76b5-4a42-8199-f616240c4b95",
   "metadata": {},
   "outputs": [],
   "source": [
    "# Import the components of rcsbsearchapi needed for this search\n",
    "from rcsbsearchapi import rcsb_attributes as attrs"
   ]
  },
  {
   "cell_type": "code",
   "execution_count": 9,
   "id": "d8a40ac6-8dda-4f26-ae07-256921717290",
   "metadata": {},
   "outputs": [
    {
     "name": "stdout",
     "output_type": "stream",
     "text": [
      "['1AQ7', '1AUJ', '1AZ8', '1BJV', '1BTW', '1BTX', '1BTZ', '1C1S', '1C1T', '1C2D']\n"
     ]
    },
    {
     "data": {
      "text/plain": [
       "187"
      ]
     },
     "execution_count": 9,
     "metadata": {},
     "output_type": "execute_result"
    }
   ],
   "source": [
    "# There will be three components to the query, which will be labeled q1, q2 and q3.\n",
    "\n",
    "ECnumber = \"3.4.21.4\"     # We will use this variable again later\n",
    "\n",
    "q1 = attrs.rcsb_polymer_entity.rcsb_ec_lineage.id == ECnumber  # looking for trypsins\n",
    "q2 = attrs.chem_comp.formula_weight >= 300                       # setting the lower limit for molecular weight\n",
    "q3 = attrs.chem_comp.formula_weight <= 800                       # setting the upper limit for molecular weight\n",
    "\n",
    "query = q1 & q2 & q3              # combining the three queries into one\n",
    "\n",
    "resultL = list(query())           # assign the results of the query to a list variable\n",
    "\n",
    "print(resultL[0:10])              # list the first 10 results\n",
    "\n",
    "len(resultL)"
   ]
  },
  {
   "cell_type": "code",
   "execution_count": 11,
   "id": "ab08e45f-f619-4cb4-a6d9-40a415033038",
   "metadata": {},
   "outputs": [
    {
     "name": "stdout",
     "output_type": "stream",
     "text": [
      "There are 119 ligands for EC Number 3.4.21.4 in this list. Here is a list of the first 10 ligands.\n"
     ]
    },
    {
     "data": {
      "text/plain": [
       "['0CA', '0CB', '0G6', '0IV', '0KV', '0ZG', '0ZW', '0ZX', '0ZY', '10U']"
      ]
     },
     "execution_count": 11,
     "metadata": {},
     "output_type": "execute_result"
    }
   ],
   "source": [
    "molResultL = list(query(\"mol_definition\"))\n",
    "print(\"There are\",len(molResultL), \"ligands for EC Number\", ECnumber, \"in this list. Here is a list of the first 10 ligands.\")\n",
    "molResultL[0:10]"
   ]
  },
  {
   "cell_type": "code",
   "execution_count": 13,
   "id": "61d9a6cc-ffb8-482d-aa5b-f82fe086023e",
   "metadata": {},
   "outputs": [],
   "source": [
    "import requests  # to enable us to pull files from the PDB\n",
    "import os        # to enable us to create a directory to store the files"
   ]
  },
  {
   "cell_type": "code",
   "execution_count": 15,
   "id": "32f306a9-ae2c-41e7-864a-61e5d0541c13",
   "metadata": {},
   "outputs": [],
   "source": [
    "# Download one of the files from our list: 11U.mol2\n",
    "\n",
    "res11U_mol2 = requests.get('https://files.rcsb.org/ligands/download/11U_ideal.mol2')"
   ]
  },
  {
   "cell_type": "code",
   "execution_count": 17,
   "id": "5f1e9277-45c2-4275-a1ad-aa339044681a",
   "metadata": {},
   "outputs": [
    {
     "data": {
      "text/plain": [
       "404"
      ]
     },
     "execution_count": 17,
     "metadata": {},
     "output_type": "execute_result"
    }
   ],
   "source": [
    "# check to see that the file downloaded properly. A status code of 200 means everything is okay.\n",
    "\n",
    "res11U_mol2.status_code"
   ]
  },
  {
   "cell_type": "code",
   "execution_count": 19,
   "id": "b7454fe3-63bb-401a-bc79-5a6cf0377e23",
   "metadata": {},
   "outputs": [],
   "source": [
    "# To really be sure, let's look at the file one line at a time. First we write the downloaded content to a file.\n",
    "\n",
    "# make a ligands folder for our results\n",
    "os.makedirs(\"ligands\", exist_ok=True)\n",
    "\n",
    "with open(\"ligands/res11U.mol2\", \"w+\") as file:\n",
    "    file.write(res11U_mol2.text)"
   ]
  },
  {
   "cell_type": "code",
   "execution_count": 21,
   "id": "4c458b58-fe92-40d6-a9fe-fb4fa15b375b",
   "metadata": {},
   "outputs": [
    {
     "name": "stdout",
     "output_type": "stream",
     "text": [
      "<!DOCTYPE HTML PUBLIC \"-//IETF//DTD HTML 2.0//EN\">\n",
      "<html>\n",
      "  <head>\n",
      "    <title>404 Not Found</title>\n",
      "  </head>\n",
      "  <body>\n",
      "    <h1>Not Found</h1>\n",
      "    <p>The requested URL was not found on this server.</p>\n",
      "    <hr>\n",
      "    <address>RCSB PDB</address>\n",
      "  </body>\n",
      "</html>\n",
      "\n"
     ]
    }
   ],
   "source": [
    "# Now we use these commands to read the file and make sure it downloaded properly. As an alternative, we\n",
    "# could go to the ligands folder in our Jupyter desktop and click on res11U.mol2 to make sure it looks correct.\n",
    "\n",
    "file1 = open('ligands/res11U.mol2', 'r')\n",
    "file_text = file1.read() # This reads in the file as a string.\n",
    "\n",
    "print(file_text)"
   ]
  },
  {
   "cell_type": "code",
   "execution_count": 26,
   "id": "2dbafbc1-f6f0-412a-85b3-4571ed99215a",
   "metadata": {},
   "outputs": [],
   "source": [
    "baseUrl = \"https://files.rcsb.org/ligands/download/\"\n",
    "\n",
    "for ChemID in molResultL:\n",
    "    cFile = f\"{ChemID}_ideal.mol2\"\n",
    "    cFileUrl = baseUrl + cFile\n",
    "    cFileLocal = \"ligands/\" + cFile\n",
    "    response = requests.get(cFileUrl)\n",
    "    with open(cFileLocal, \"w+\") as file:\n",
    "        file.write(response.text)"
   ]
  },
  {
   "cell_type": "code",
   "execution_count": 28,
   "id": "de5a778d-5a57-4788-bfca-680266db07dd",
   "metadata": {},
   "outputs": [
    {
     "name": "stdout",
     "output_type": "stream",
     "text": [
      "There are 184 structures from EC Number 1.1.1.1 that have bound ligands with molecular weights between 400 and 700).\n",
      "There are 11 unique ligands for structures with EC Number 1.1.1.1 in this list. Here is a list of the 11 ligands.\n"
     ]
    },
    {
     "data": {
      "text/plain": [
       "['022', 'APR', 'CHD', 'CND', 'COD', 'NAD', 'NAI', 'NAJ', 'PAD', 'TAD', 'WKZ']"
      ]
     },
     "execution_count": 28,
     "metadata": {},
     "output_type": "execute_result"
    }
   ],
   "source": [
    "### Solution\n",
    "\n",
    "ECnumber = \"1.1.1.1\"     # We will use this variable again later\n",
    "\n",
    "q1 = attrs.rcsb_polymer_entity.rcsb_ec_lineage.id == ECnumber  # looking for trypsins\n",
    "q2 = attrs.chem_comp.formula_weight >= 400                      # setting the lower limit for molecular weight\n",
    "q3 = attrs.chem_comp.formula_weight <= 700                     # setting the upper limit for molecular weight\n",
    "\n",
    "query = q1 & q2 & q3              # combining the three queries into one\n",
    "\n",
    "ResultL = list(query(\"entry\"))\n",
    "molResultL = list(query(\"mol_definition\"))\n",
    "print(\"There are\",len(ResultL), \"structures from EC Number\", ECnumber, \"that have bound ligands with molecular weights between 400 and 700).\")\n",
    "print(\"There are\",len(molResultL), \"unique ligands for structures with EC Number\", ECnumber, \"in this list. Here is a list of the\", len(molResultL), \"ligands.\")\n",
    "molResultL"
   ]
  },
  {
   "cell_type": "code",
   "execution_count": null,
   "id": "12650efe-d455-4c1d-9faf-1ae1b7190b09",
   "metadata": {},
   "outputs": [],
   "source": []
  }
 ],
 "metadata": {
  "kernelspec": {
   "display_name": "Python [conda env:base] *",
   "language": "python",
   "name": "conda-base-py"
  },
  "language_info": {
   "codemirror_mode": {
    "name": "ipython",
    "version": 3
   },
   "file_extension": ".py",
   "mimetype": "text/x-python",
   "name": "python",
   "nbconvert_exporter": "python",
   "pygments_lexer": "ipython3",
   "version": "3.12.3"
  }
 },
 "nbformat": 4,
 "nbformat_minor": 5
}
