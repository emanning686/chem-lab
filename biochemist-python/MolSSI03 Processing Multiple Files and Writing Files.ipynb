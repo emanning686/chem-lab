{
 "cells": [
  {
   "cell_type": "code",
   "execution_count": 3,
   "id": "f6e5251e-d2aa-4aee-9b77-63f849058b48",
   "metadata": {},
   "outputs": [
    {
     "name": "stdout",
     "output_type": "stream",
     "text": [
      "data\\PDB_files\\*.pdb\n"
     ]
    }
   ],
   "source": [
    "import os\n",
    "file_location = os.path.join('data', 'PDB_files', '*.pdb')\n",
    "print(file_location)"
   ]
  },
  {
   "cell_type": "code",
   "execution_count": 5,
   "id": "183bd55e-3eae-4be8-b879-bc8f717f4c30",
   "metadata": {},
   "outputs": [
    {
     "name": "stdout",
     "output_type": "stream",
     "text": [
      "['data\\\\PDB_files\\\\1ddo.pdb', 'data\\\\PDB_files\\\\2pkr.pdb', 'data\\\\PDB_files\\\\3iva.pdb', 'data\\\\PDB_files\\\\3vnd.pdb', 'data\\\\PDB_files\\\\4eyr.pdb', 'data\\\\PDB_files\\\\5eu9.pdb', 'data\\\\PDB_files\\\\5veu.pdb', 'data\\\\PDB_files\\\\6zt7.pdb', 'data\\\\PDB_files\\\\7tim.pdb']\n"
     ]
    }
   ],
   "source": [
    "import glob\n",
    "filenames = glob.glob(file_location)\n",
    "print(filenames)"
   ]
  },
  {
   "cell_type": "code",
   "execution_count": 7,
   "id": "77592207-cf29-4679-9678-1526333e9eee",
   "metadata": {},
   "outputs": [
    {
     "name": "stdout",
     "output_type": "stream",
     "text": [
      "3.1\n",
      "2.4\n",
      "2.7\n",
      "2.6\n",
      "1.8\n",
      "2.05\n",
      "2.91\n",
      "1.85\n",
      "1.9\n"
     ]
    }
   ],
   "source": [
    "for f in filenames:\n",
    "    with open(f, 'r') as outfile:\n",
    "        data = outfile.readlines()\n",
    "        \n",
    "    for line in data:\n",
    "        if 'RESOLUTION.' in line:\n",
    "            res_line = line\n",
    "            words = res_line.split()\n",
    "            resolution = float(words[3])\n",
    "            print(resolution)"
   ]
  },
  {
   "cell_type": "code",
   "execution_count": 9,
   "id": "018da47f-952c-4bc3-ba76-c298c00ad774",
   "metadata": {},
   "outputs": [
    {
     "name": "stdout",
     "output_type": "stream",
     "text": [
      "data\\PDB_files\\1ddo.pdb\n",
      "1ddo.pdb\n"
     ]
    }
   ],
   "source": [
    "first_file = filenames[0] # look above to recall the content of filenames\n",
    "print(first_file)\n",
    "\n",
    "file_name = os.path.basename(first_file)\n",
    "print(file_name) "
   ]
  },
  {
   "cell_type": "code",
   "execution_count": 11,
   "id": "366a7fbb-fcdf-4b28-858e-0a6dc8123213",
   "metadata": {},
   "outputs": [
    {
     "name": "stdout",
     "output_type": "stream",
     "text": [
      "1ddo: 3.1 Angstroms\n",
      "2pkr: 2.4 Angstroms\n",
      "3iva: 2.7 Angstroms\n",
      "3vnd: 2.6 Angstroms\n",
      "4eyr: 1.8 Angstroms\n",
      "5eu9: 2.05 Angstroms\n",
      "5veu: 2.91 Angstroms\n",
      "6zt7: 1.85 Angstroms\n",
      "7tim: 1.9 Angstroms\n"
     ]
    }
   ],
   "source": [
    "for f in filenames:\n",
    "    # Get the PDB ID\n",
    "    file_name = os.path.basename(f)\n",
    "    split_filename = file_name.split('.')\n",
    "    molecule_name = split_filename[0]\n",
    "\n",
    "    # Read the data\n",
    "    with open(f,\"r\") as outfile:\n",
    "        data = outfile.readlines()\n",
    "\n",
    "    # Loop through the data\n",
    "    for line in data:\n",
    "        if 'RESOLUTION.' in line:\n",
    "            res_line = line\n",
    "            words = res_line.split()\n",
    "            resolution = float(words[3])\n",
    "            print(molecule_name, \": \", resolution, \" Angstroms\", sep = \"\")"
   ]
  },
  {
   "cell_type": "code",
   "execution_count": 16,
   "id": "b381d450-f567-4145-afb5-61c1c7a988b8",
   "metadata": {},
   "outputs": [],
   "source": [
    "with open('resolutions.txt', 'w+') as datafile:\n",
    "    for f in filenames:\n",
    "        # Get the PDB ID\n",
    "        file_name = os.path.basename(f)\n",
    "        split_filename = file_name.split('.')\n",
    "        molecule_name = split_filename[0]\n",
    "        \n",
    "        # Read the data\n",
    "        with open(f,\"r\") as outfile:\n",
    "            data = outfile.readlines()  \n",
    "            \n",
    "        # Loop through the data\n",
    "        for line in data:\n",
    "            if 'RESOLUTION.' in line:\n",
    "                res_line = line\n",
    "                words = res_line.split()\n",
    "                resolution = float(words[3])\n",
    "                datafile.write(F'{molecule_name} \\t {resolution} \\n')"
   ]
  },
  {
   "cell_type": "code",
   "execution_count": 34,
   "id": "67261028-f9a4-419f-aaa1-9b8827d61832",
   "metadata": {},
   "outputs": [
    {
     "name": "stdout",
     "output_type": "stream",
     "text": [
      "1.4.3.3\n",
      "1.2.1.13\n",
      "2.1.1.13\n",
      "4.2.1.20\n",
      "4.2.1.11\n",
      "1.14.14.1\n",
      "3.2.1.55\n",
      "5.3.1.1\n"
     ]
    }
   ],
   "source": [
    "with open('EC_class.txt', 'w+') as datafile:\n",
    "    for f in filenames:\n",
    "        # Get the PDB ID\n",
    "        file_name = os.path.basename(f)\n",
    "        split_filename = file_name.split('.')\n",
    "        molecule_name = split_filename[0]\n",
    "        \n",
    "        # Read the data\n",
    "        with open(f,\"r\") as outfile:\n",
    "            data = outfile.readlines()  \n",
    "            \n",
    "        # Loop through the data\n",
    "        for line in data:\n",
    "            if 'EC:' in line:\n",
    "                ec_line = line\n",
    "                word = ec_line.split(';')[0].split(':')[1].strip()\n",
    "                print(word)\n",
    "                datafile.write(F'{molecule_name} \\t {word} \\n')"
   ]
  },
  {
   "cell_type": "code",
   "execution_count": null,
   "id": "ac65d194-2573-470c-b335-1914a33656f9",
   "metadata": {},
   "outputs": [],
   "source": []
  }
 ],
 "metadata": {
  "kernelspec": {
   "display_name": "Python [conda env:base] *",
   "language": "python",
   "name": "conda-base-py"
  },
  "language_info": {
   "codemirror_mode": {
    "name": "ipython",
    "version": 3
   },
   "file_extension": ".py",
   "mimetype": "text/x-python",
   "name": "python",
   "nbconvert_exporter": "python",
   "pygments_lexer": "ipython3",
   "version": "3.12.3"
  }
 },
 "nbformat": 4,
 "nbformat_minor": 5
}
