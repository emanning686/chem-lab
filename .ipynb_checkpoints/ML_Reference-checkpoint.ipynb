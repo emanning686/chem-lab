{
 "cells": [
  {
   "cell_type": "markdown",
   "id": "4feb3d2b-6340-4c20-ba57-25197d2f112c",
   "metadata": {},
   "source": [
    "# Info for Understanding Machine Learning"
   ]
  },
  {
   "cell_type": "markdown",
   "id": "fa06d571-c10b-431d-a574-8380a0988581",
   "metadata": {},
   "source": [
    "## \"Scikit-Mol – Easy Embedding of RDKit into Scikit-Learn\" Article\n",
    "\n",
    "### Terms\n",
    "1. Molecular Fingerprints\n",
    "    * a method of representing a molecule's structure using a coded string of bits\n",
    "2. Transformer objects\n",
    "    * objects that transform a dataset into a new one to prepare the dataset for predictive modeling\n",
    "    * can transform molecules into features, such as fingerprints or descriptors\n",
    "3. Features or X Matrix\n",
    "    * matrix where each row represents a data sample and each column represents a feature of that sample\n",
    "4. Target variables, y\n",
    "    * the variable that a model aims to predict or classify based on other input variables\n",
    "    * the outcome you want to understand or forecast using your machine learning algorithm; it's considered the \"dependent variable\" in the analysis\n",
    "5. Fitting\n",
    "    * the process of adjusting a model's parameters to best match the data it's being trained on\n",
    "    * a well-fitted model can make accurate predictions when given new data\n",
    "6. Pickling\n",
    "    * the process of saving a trained machine learning model by converting it into a byte stream using Python's \"pickle\" module\n",
    "    * allows you to store the model on disk and later reload it to make predictions without having to retrain it from scratch\n",
    "7. Pipeline\n",
    "    * series of steps that automate the process of building, training, and evaluating machine learning models\n",
    "8. Linear Model\n",
    "    * a type of algorithm that assumes a straight-line relationship between input features and the target variable\n",
    "    * relationship between the X variables can be represented as a strait line on a graph\n",
    "    * most common example is linear regression\n",
    "        * predicts continuous values like price, or temperature based on input data\n",
    "        * basically a line of best fit\n",
    "9. Regularization\n",
    "    * statistical method to reduce errors caused by overfitting on training data\n",
    "10. Ridge Regression\n",
    "    * extension of linear regression\n",
    "    * one of several types of regularization for linear regression models\n",
    "    * useful when developing machine learning models that have a large number of parameters, particularly if those parameters also have high weights\n",
    "11. Hyperparameters\n",
    "    * settings that influence how the model learns, rather than what the model learns\n",
    "    * control how the model learns, affecting the speed and quality of training\n",
    "    * common hyperparameters include learning rate, batch size, number of hidden layers in a neural network, regularization strength, and the number of trees in a random forest"
   ]
  },
  {
   "cell_type": "code",
   "execution_count": null,
   "id": "1a0b93a4-50f4-46a5-b870-fc9df9a05020",
   "metadata": {},
   "outputs": [],
   "source": []
  }
 ],
 "metadata": {
  "kernelspec": {
   "display_name": "Python [conda env:base] *",
   "language": "python",
   "name": "conda-base-py"
  },
  "language_info": {
   "codemirror_mode": {
    "name": "ipython",
    "version": 3
   },
   "file_extension": ".py",
   "mimetype": "text/x-python",
   "name": "python",
   "nbconvert_exporter": "python",
   "pygments_lexer": "ipython3",
   "version": "3.12.3"
  }
 },
 "nbformat": 4,
 "nbformat_minor": 5
}
