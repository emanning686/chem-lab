{
 "cells": [
  {
   "cell_type": "markdown",
   "id": "db2c399e-5cd0-4b0c-bbff-6b7e988d9d40",
   "metadata": {},
   "source": [
    "# Searching Using EC Class Reference"
   ]
  },
  {
   "cell_type": "code",
   "execution_count": 1,
   "id": "f6d4142f-a565-48cb-803e-0f89e2790be4",
   "metadata": {},
   "outputs": [],
   "source": [
    "from rcsbsearchapi import rcsb_attributes as attrs"
   ]
  },
  {
   "cell_type": "markdown",
   "id": "b413fd09-f2cd-49fe-b273-5bf076ed5a4f",
   "metadata": {},
   "source": [
    "## Select ec number and molecular weight of the ligands we want"
   ]
  },
  {
   "cell_type": "code",
   "execution_count": 3,
   "id": "3b900fc5-7367-4204-bdae-64d9f3a17665",
   "metadata": {},
   "outputs": [
    {
     "name": "stdout",
     "output_type": "stream",
     "text": [
      "['1AQ7', '1AUJ', '1AZ8', '1BJV', '1BTW', '1BTX', '1BTZ', '1C1S', '1C1T', '1C2D']\n"
     ]
    },
    {
     "data": {
      "text/plain": [
       "187"
      ]
     },
     "execution_count": 3,
     "metadata": {},
     "output_type": "execute_result"
    }
   ],
   "source": [
    "ECnumber = \"3.4.21.4\"\n",
    "\n",
    "q1 = attrs.rcsb_polymer_entity.rcsb_ec_lineage.id == ECnumber\n",
    "'''\n",
    "We want ligands large enough to bind to and fill up the active site of trypsin,\n",
    "in addition, small molecules with molecular weights less than 300 are likely to be individual ions\n",
    "'''\n",
    "q2 = attrs.chem_comp.formula_weight >= 300\n",
    "q3 = attrs.chem_comp.formula_weight <= 800\n",
    "\n",
    "query = q1 & q2 & q3\n",
    "\n",
    "resultL = list(query())\n",
    "\n",
    "print(resultL[0:10])\n",
    "\n",
    "len(resultL)"
   ]
  },
  {
   "cell_type": "code",
   "execution_count": 38,
   "id": "64c3e59a-6975-451f-a1f2-0a112cabd651",
   "metadata": {},
   "outputs": [
    {
     "name": "stdout",
     "output_type": "stream",
     "text": [
      "There are 119 ligands for EC Number 3.4.21.4 in this list. Here is a list of the first 10 ligands.\n"
     ]
    },
    {
     "data": {
      "text/plain": [
       "['0CA', '0CB', '0G6', '0IV', '0KV', '0ZG', '0ZW', '0ZX', '0ZY', '10U']"
      ]
     },
     "execution_count": 38,
     "metadata": {},
     "output_type": "execute_result"
    }
   ],
   "source": [
    "molResultL = list(query(\"mol_definition\"))\n",
    "print(\"There are\",len(molResultL), \"ligands for EC Number\", ECnumber, \"in this list. Here is a list of the first 10 ligands.\")\n",
    "molResultL[0:10]"
   ]
  },
  {
   "cell_type": "markdown",
   "id": "43526d00-4328-4090-9e33-3f798bed0872",
   "metadata": {},
   "source": [
    "## Download one ligand file"
   ]
  },
  {
   "cell_type": "markdown",
   "id": "b6ac3eeb-aee8-4271-aaa0-86f5fca99c50",
   "metadata": {},
   "source": [
    "### Download link is not functional"
   ]
  },
  {
   "cell_type": "code",
   "execution_count": 24,
   "id": "1f6dc1b1-3b3a-4094-8011-39029fcc0ef1",
   "metadata": {},
   "outputs": [],
   "source": [
    "import requests\n",
    "import os"
   ]
  },
  {
   "cell_type": "code",
   "execution_count": 52,
   "id": "f04aaa34-e350-4df8-8156-b9cb5f202b80",
   "metadata": {},
   "outputs": [
    {
     "data": {
      "text/plain": [
       "400"
      ]
     },
     "execution_count": 52,
     "metadata": {},
     "output_type": "execute_result"
    }
   ],
   "source": [
    "res11U_mol2 = requests.get('https://files.rcsb.org/ligands/download/11U_ideal.mol2') # download with rcsb url\n",
    "res11U_mol2.status_code"
   ]
  },
  {
   "cell_type": "code",
   "execution_count": 42,
   "id": "f454b8e4-4df0-4e42-a587-9a30da1fd434",
   "metadata": {},
   "outputs": [
    {
     "name": "stdout",
     "output_type": "stream",
     "text": [
      "<!DOCTYPE HTML PUBLIC \"-//IETF//DTD HTML 2.0//EN\">\n",
      "<html>\n",
      "  <head>\n",
      "    <title>400 Bad Request</title>\n",
      "  </head>\n",
      "  <body>\n",
      "    <h1>Bad Request</h1>\n",
      "    <p>The requested URL was incorrect, too long or otherwise malformed.</p>\n",
      "    <hr>\n",
      "    <address>RCSB PDB</address>\n",
      "  </body>\n",
      "</html>\n",
      "\n"
     ]
    }
   ],
   "source": [
    "os.makedirs(\"ligands\", exist_ok=True)\n",
    "\n",
    "with open(\"ligands/res11U.mol2\", \"w+\") as file:\n",
    "    file.write(res11U_mol2.text)\n",
    "\n",
    "file1 = open('ligands/res11U.mol2', 'r')\n",
    "file_text = file1.read() # This reads in the file as a string.\n",
    "\n",
    "print(file_text)"
   ]
  },
  {
   "cell_type": "markdown",
   "id": "bc4c140c-6ca4-4aa8-a42f-482a0bb88db0",
   "metadata": {},
   "source": [
    "## Bulk downloads the ligand files"
   ]
  },
  {
   "cell_type": "code",
   "execution_count": null,
   "id": "dea11507-e5ab-4ff4-bfee-1da3601987ef",
   "metadata": {},
   "outputs": [],
   "source": [
    "os.makedirs(\"ligands\", exist_ok=True)\n",
    "\n",
    "baseUrl = \"https://files.rcsb.org/ligands/download/\"\n",
    "\n",
    "for ChemID in molResultL:\n",
    "    cFile = f\"{ChemID}_ideal.mol2\"\n",
    "    cFileUrl = baseUrl + cFile\n",
    "    cFileLocal = \"ligands/\" + cFile\n",
    "    response = requests.get(cFileUrl)\n",
    "    with open(cFileLocal, \"w+\") as file:\n",
    "        file.write(response.text)"
   ]
  }
 ],
 "metadata": {
  "kernelspec": {
   "display_name": "Python [conda env:base] *",
   "language": "python",
   "name": "conda-base-py"
  },
  "language_info": {
   "codemirror_mode": {
    "name": "ipython",
    "version": 3
   },
   "file_extension": ".py",
   "mimetype": "text/x-python",
   "name": "python",
   "nbconvert_exporter": "python",
   "pygments_lexer": "ipython3",
   "version": "3.12.3"
  }
 },
 "nbformat": 4,
 "nbformat_minor": 5
}
