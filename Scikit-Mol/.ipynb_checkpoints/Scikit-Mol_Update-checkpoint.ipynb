{
 "cells": [
  {
   "cell_type": "markdown",
   "id": "c8829a8e-27c2-435a-844f-a7834e18ee2b",
   "metadata": {},
   "source": [
    "# Scikit-Mol Update Article\n",
    "https://www.cheminformania.com/update-to-scikit-mol-the-power-of-community-and-open-source/"
   ]
  },
  {
   "cell_type": "markdown",
   "id": "d643905b-bb34-4db8-97bf-f7e4f25097cc",
   "metadata": {},
   "source": [
    "## Update and Check Version "
   ]
  },
  {
   "cell_type": "code",
   "execution_count": 4,
   "id": "3c1b311f-b15a-4ea2-aac7-61b227255bf7",
   "metadata": {},
   "outputs": [
    {
     "name": "stdout",
     "output_type": "stream",
     "text": [
      "Requirement already satisfied: scikit-mol in c:\\users\\eric\\anaconda3\\lib\\site-packages (0.4.6)\n",
      "Requirement already satisfied: numpy in c:\\users\\eric\\anaconda3\\lib\\site-packages (from scikit-mol) (1.26.4)\n",
      "Requirement already satisfied: packaging in c:\\users\\eric\\anaconda3\\lib\\site-packages (from scikit-mol) (24.1)\n",
      "Requirement already satisfied: pandas in c:\\users\\eric\\anaconda3\\lib\\site-packages (from scikit-mol) (2.1.4)\n",
      "Requirement already satisfied: rdkit in c:\\users\\eric\\anaconda3\\lib\\site-packages (from scikit-mol) (2023.9.6)\n",
      "Requirement already satisfied: scikit-learn in c:\\users\\eric\\anaconda3\\lib\\site-packages (from scikit-mol) (1.5.1)\n",
      "Requirement already satisfied: python-dateutil>=2.8.2 in c:\\users\\eric\\anaconda3\\lib\\site-packages (from pandas->scikit-mol) (2.9.0.post0)\n",
      "Requirement already satisfied: pytz>=2020.1 in c:\\users\\eric\\anaconda3\\lib\\site-packages (from pandas->scikit-mol) (2024.1)\n",
      "Requirement already satisfied: tzdata>=2022.1 in c:\\users\\eric\\anaconda3\\lib\\site-packages (from pandas->scikit-mol) (2023.3)\n",
      "Requirement already satisfied: scipy>=1.6.0 in c:\\users\\eric\\anaconda3\\lib\\site-packages (from scikit-learn->scikit-mol) (1.13.1)\n",
      "Requirement already satisfied: joblib>=1.2.0 in c:\\users\\eric\\anaconda3\\lib\\site-packages (from scikit-learn->scikit-mol) (1.4.2)\n",
      "Requirement already satisfied: threadpoolctl>=3.1.0 in c:\\users\\eric\\anaconda3\\lib\\site-packages (from scikit-learn->scikit-mol) (3.5.0)\n",
      "Requirement already satisfied: six>=1.5 in c:\\users\\eric\\anaconda3\\lib\\site-packages (from python-dateutil>=2.8.2->pandas->scikit-mol) (1.16.0)\n",
      "Scikit-Mol version: 0.4.6\n",
      "Scikit-Learn version: 1.5.1\n"
     ]
    }
   ],
   "source": [
    "!pip install --upgrade scikit-mol\n",
    "import scikit_mol\n",
    "print(f\"Scikit-Mol version: {scikit_mol.__version__}\")\n",
    "import sklearn\n",
    "print(f\"Scikit-Learn version: {sklearn.__version__}\")"
   ]
  },
  {
   "cell_type": "markdown",
   "id": "5454c106-6806-4d69-b191-ba7aa22fca34",
   "metadata": {},
   "source": [
    "## Create Pandas Dataframe"
   ]
  },
  {
   "cell_type": "code",
   "execution_count": 9,
   "id": "20f5285c-65b3-4ea5-b202-7063b914bea2",
   "metadata": {},
   "outputs": [
    {
     "data": {
      "text/html": [
       "<div>\n",
       "<style scoped>\n",
       "    .dataframe tbody tr th:only-of-type {\n",
       "        vertical-align: middle;\n",
       "    }\n",
       "\n",
       "    .dataframe tbody tr th {\n",
       "        vertical-align: top;\n",
       "    }\n",
       "\n",
       "    .dataframe thead th {\n",
       "        text-align: right;\n",
       "    }\n",
       "</style>\n",
       "<table border=\"1\" class=\"dataframe\">\n",
       "  <thead>\n",
       "    <tr style=\"text-align: right;\">\n",
       "      <th></th>\n",
       "      <th>Smiles</th>\n",
       "    </tr>\n",
       "  </thead>\n",
       "  <tbody>\n",
       "    <tr>\n",
       "      <th>0</th>\n",
       "      <td>COC</td>\n",
       "    </tr>\n",
       "    <tr>\n",
       "      <th>1</th>\n",
       "      <td>CCN</td>\n",
       "    </tr>\n",
       "    <tr>\n",
       "      <th>2</th>\n",
       "      <td>Cc1ccccc1</td>\n",
       "    </tr>\n",
       "  </tbody>\n",
       "</table>\n",
       "</div>"
      ],
      "text/plain": [
       "      Smiles\n",
       "0        COC\n",
       "1        CCN\n",
       "2  Cc1ccccc1"
      ]
     },
     "execution_count": 9,
     "metadata": {},
     "output_type": "execute_result"
    }
   ],
   "source": [
    "import pandas as pd\n",
    " \n",
    "data = pd.DataFrame({\"Smiles\": [\"COC\", \"CCN\", \"Cc1ccccc1\"]})\n",
    "data"
   ]
  },
  {
   "cell_type": "markdown",
   "id": "47e9bdd4-8761-4263-8aff-98263c44d0f6",
   "metadata": {},
   "source": [
    "## Create Pipeline - Transform Smiles to Descriptions Dataframe"
   ]
  },
  {
   "cell_type": "code",
   "execution_count": 13,
   "id": "6698f163-5b81-4a19-9e58-bda48874dcab",
   "metadata": {},
   "outputs": [
    {
     "name": "stderr",
     "output_type": "stream",
     "text": [
      "C:\\Users\\Eric\\anaconda3\\Lib\\site-packages\\numpy\\core\\fromnumeric.py:59: FutureWarning: 'DataFrame.swapaxes' is deprecated and will be removed in a future version. Please use 'DataFrame.transpose' instead.\n",
      "  return bound(*args, **kwds)\n",
      "C:\\Users\\Eric\\anaconda3\\Lib\\site-packages\\numpy\\core\\fromnumeric.py:59: FutureWarning: 'DataFrame.swapaxes' is deprecated and will be removed in a future version. Please use 'DataFrame.transpose' instead.\n",
      "  return bound(*args, **kwds)\n"
     ]
    },
    {
     "data": {
      "text/html": [
       "<div>\n",
       "<style scoped>\n",
       "    .dataframe tbody tr th:only-of-type {\n",
       "        vertical-align: middle;\n",
       "    }\n",
       "\n",
       "    .dataframe tbody tr th {\n",
       "        vertical-align: top;\n",
       "    }\n",
       "\n",
       "    .dataframe thead th {\n",
       "        text-align: right;\n",
       "    }\n",
       "</style>\n",
       "<table border=\"1\" class=\"dataframe\">\n",
       "  <thead>\n",
       "    <tr style=\"text-align: right;\">\n",
       "      <th></th>\n",
       "      <th>MolWt</th>\n",
       "      <th>qed</th>\n",
       "      <th>MolLogP</th>\n",
       "      <th>NumAromaticRings</th>\n",
       "      <th>NumHAcceptors</th>\n",
       "      <th>NumHDonors</th>\n",
       "    </tr>\n",
       "  </thead>\n",
       "  <tbody>\n",
       "    <tr>\n",
       "      <th>0</th>\n",
       "      <td>46.069000</td>\n",
       "      <td>0.380040</td>\n",
       "      <td>0.26260</td>\n",
       "      <td>0.0</td>\n",
       "      <td>1.0</td>\n",
       "      <td>0.0</td>\n",
       "    </tr>\n",
       "    <tr>\n",
       "      <th>1</th>\n",
       "      <td>45.084999</td>\n",
       "      <td>0.406237</td>\n",
       "      <td>-0.03500</td>\n",
       "      <td>0.0</td>\n",
       "      <td>1.0</td>\n",
       "      <td>1.0</td>\n",
       "    </tr>\n",
       "    <tr>\n",
       "      <th>2</th>\n",
       "      <td>92.140999</td>\n",
       "      <td>0.458806</td>\n",
       "      <td>1.99502</td>\n",
       "      <td>1.0</td>\n",
       "      <td>0.0</td>\n",
       "      <td>0.0</td>\n",
       "    </tr>\n",
       "  </tbody>\n",
       "</table>\n",
       "</div>"
      ],
      "text/plain": [
       "       MolWt       qed  MolLogP  NumAromaticRings  NumHAcceptors  NumHDonors\n",
       "0  46.069000  0.380040  0.26260               0.0            1.0         0.0\n",
       "1  45.084999  0.406237 -0.03500               0.0            1.0         1.0\n",
       "2  92.140999  0.458806  1.99502               1.0            0.0         0.0"
      ]
     },
     "execution_count": 13,
     "metadata": {},
     "output_type": "execute_result"
    }
   ],
   "source": [
    "from scikit_mol.conversions import SmilesToMolTransformer\n",
    "from scikit_mol.descriptors import MolecularDescriptorTransformer\n",
    "from sklearn.pipeline import make_pipeline\n",
    " \n",
    "descriptors_pipeline = make_pipeline(\n",
    "SmilesToMolTransformer(),\n",
    "MolecularDescriptorTransformer(desc_list=[\"MolWt\", \"qed\", \"MolLogP\", \"NumAromaticRings\", \"NumHAcceptors\", \"NumHDonors\"]),\n",
    ")\n",
    " \n",
    "descriptors_pipeline.set_output(transform=\"pandas\")\n",
    " \n",
    "descriptors_pipeline.transform(data)"
   ]
  },
  {
   "cell_type": "code",
   "execution_count": null,
   "id": "8c27f14d-ea5a-41c5-931e-52fb2e941fd6",
   "metadata": {},
   "outputs": [],
   "source": []
  }
 ],
 "metadata": {
  "kernelspec": {
   "display_name": "Python [conda env:base] *",
   "language": "python",
   "name": "conda-base-py"
  },
  "language_info": {
   "codemirror_mode": {
    "name": "ipython",
    "version": 3
   },
   "file_extension": ".py",
   "mimetype": "text/x-python",
   "name": "python",
   "nbconvert_exporter": "python",
   "pygments_lexer": "ipython3",
   "version": "3.12.3"
  }
 },
 "nbformat": 4,
 "nbformat_minor": 5
}
