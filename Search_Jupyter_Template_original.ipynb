{
 "cells": [
  {
   "cell_type": "markdown",
   "id": "85f2eb45-36ae-4625-a221-80a7d7649019",
   "metadata": {},
   "source": [
    "# Title"
   ]
  },
  {
   "cell_type": "markdown",
   "id": "89cfa83a-b5c2-4c6b-bb3d-5c7d5a051679",
   "metadata": {},
   "source": [
    "## Introduction\n",
    "\n",
    "Provide background information on the science behind this notebook and the kind of answers it can provide. If appropriate, include\n",
    "\n",
    "### Questions\n",
    "\n",
    "A list of questions that will be answered with the notebooks\n",
    "\n",
    "### Learning Objectives\n",
    "\n",
    "Tasks that the user will learn to complete by using this notebook\n",
    "\n",
    "### Purpose\n",
    "\n",
    "This notebook is designed to ... "
   ]
  },
  {
   "cell_type": "markdown",
   "id": "22da5ae3-8838-4442-84ff-17214e0104c3",
   "metadata": {},
   "source": [
    "## Libraries\n",
    "\n",
    "A list of libraries that will need to be installed and imported to complete the tasks in the notebook.\n",
    "\n",
    "| Library | Contents | Source |\n",
    "| :-----: | :------- | :----- |\n",
    "| json | library for working with JavaScript Object Notation for data interchange| [json — JSON encoder and decoder](https://docs.python.org/3/library/json.html) |\n",
    "| rcsbsearchapi | library for automated searching of the [RCSB Protein Data Bank](https://www.rcsb.org)| [py-rcsbsearchapi on GitHub](https://github.com/rcsb/py-rcsbsearchapi) |\n",
    "| python_graphql_client | library for making requests from a graphql server | [PyPi page on python_graphql_client](https://pypi.org/project/python-graphql-client/) |"
   ]
  },
  {
   "cell_type": "markdown",
   "id": "10422faa-2103-4bc8-9d5f-02d4e905c95a",
   "metadata": {},
   "source": [
    "## Installation\n",
    "\n",
    "These libraries will need to be installed in your computing environment to perform the tasks in this notebook.\n",
    "\n",
    "To install from the command line on your computer, use this command (with the `json` library as the example):\n",
    "\n",
    "`pip install json`\n",
    "\n",
    "To install from within a Jupyter notebook or CoLab notebook, you need to type the same command in a coding cell, preceded by an exclamation point.\n",
    "\n",
    "`!pip install json`\n",
    "\n",
    "These libraries will be imported as they are needed over the course of this notebook.\n"
   ]
  },
  {
   "cell_type": "markdown",
   "id": "0edae8a4-a3bb-4f47-a506-9a68a5a7f910",
   "metadata": {},
   "source": [
    "## Notebook Contents\n",
    "\n",
    "The next section of the notebook includes all of the raw code for this example. **Experienced coder** should use this as you see fit, either in this notebook or in your preferred environment.\n",
    "\n",
    "For **novice and intermediate coders**, the code is divided into sequential coding cells that each perform one step in the process. This notebook includes the following steps:\n",
    "\n",
    "1. Step 1\n",
    "2. Step 2\n",
    "3. Step 3..."
   ]
  },
  {
   "cell_type": "code",
   "execution_count": null,
   "id": "eb7b9186-c308-41b8-a303-8f24775b526d",
   "metadata": {},
   "outputs": [],
   "source": [
    "# Full block of raw code for EXPERIENCED CODERS\n"
   ]
  },
  {
   "cell_type": "markdown",
   "id": "88c23117-19d1-4686-b5a8-1872feed4250",
   "metadata": {},
   "source": [
    "### Text to describe the following coding cell\n"
   ]
  },
  {
   "cell_type": "code",
   "execution_count": 4,
   "id": "598ee867-95c7-4460-9578-d44f96cb3787",
   "metadata": {},
   "outputs": [],
   "source": [
    "# Stepwise code for NOVICE and INTERMEDIATE CODERS\n",
    "\n",
    "# Installing the libraries"
   ]
  },
  {
   "cell_type": "markdown",
   "id": "24a83087-0697-42af-a724-9aed248d3359",
   "metadata": {},
   "source": [
    "### Text to describe the following coding cell\n"
   ]
  },
  {
   "cell_type": "code",
   "execution_count": 5,
   "id": "7d3d52df-c75e-43d5-9a5f-1adedca89ac0",
   "metadata": {},
   "outputs": [],
   "source": [
    "# Importing the libraries with abbreviations"
   ]
  },
  {
   "cell_type": "markdown",
   "id": "5ac7cad4-80a9-44f9-bf4f-8871eb80d8d8",
   "metadata": {},
   "source": [
    "### Text to describe the following coding cell\n"
   ]
  },
  {
   "cell_type": "code",
   "execution_count": 5,
   "id": "d7139dd2-5aaa-4491-a96e-f5f926eacd27",
   "metadata": {},
   "outputs": [],
   "source": [
    "# Step 1 code with explanations of function definitions, \n",
    "# loops, variables, data structures."
   ]
  },
  {
   "cell_type": "code",
   "execution_count": null,
   "id": "c30f26e9-6c20-45c7-9298-ad66a599accc",
   "metadata": {},
   "outputs": [],
   "source": [
    "# Step 2 code with explanations"
   ]
  },
  {
   "cell_type": "markdown",
   "id": "a427de5c-2748-4544-a288-7d443b5517ce",
   "metadata": {},
   "source": [
    "### Text to describe the following coding cell\n"
   ]
  },
  {
   "cell_type": "code",
   "execution_count": null,
   "id": "ca68507c-b260-4afa-86a3-383e4912eea0",
   "metadata": {},
   "outputs": [],
   "source": [
    "# Step 3 code with explanations"
   ]
  },
  {
   "cell_type": "markdown",
   "id": "a446de17-a0b9-4cf2-8870-e5800d505c7f",
   "metadata": {},
   "source": [
    "### Text to describe the following coding cell\n"
   ]
  },
  {
   "cell_type": "code",
   "execution_count": 6,
   "id": "48c368ce-3d5b-4776-a5d6-a29ede76ce10",
   "metadata": {},
   "outputs": [],
   "source": [
    "# Typical results, plots, or other outputs"
   ]
  },
  {
   "cell_type": "code",
   "execution_count": null,
   "id": "6c075371-1d92-472b-9408-df54bdea620f",
   "metadata": {},
   "outputs": [],
   "source": []
  }
 ],
 "metadata": {
  "kernelspec": {
   "display_name": "Python 3 (ipykernel)",
   "language": "python",
   "name": "python3"
  },
  "language_info": {
   "codemirror_mode": {
    "name": "ipython",
    "version": 3
   },
   "file_extension": ".py",
   "mimetype": "text/x-python",
   "name": "python",
   "nbconvert_exporter": "python",
   "pygments_lexer": "ipython3",
   "version": "3.12.2"
  }
 },
 "nbformat": 4,
 "nbformat_minor": 5
}
