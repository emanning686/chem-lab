{
 "cells": [
  {
   "cell_type": "markdown",
   "id": "8a01d976-750d-4a2b-895e-7406c001c82e",
   "metadata": {},
   "source": [
    "# Scikit-Learn/Fingerprints Demo\n",
    "## Goals\n",
    "* __Create and test a machine learning model__\n",
    "    * Import and split a data set\n",
    "    * Convert mols to fingerprints\n",
    "    * Train the model using 80% of the data\n",
    "    * Test the model's accuracy with the other 20% of the data\n",
    "* __Create a pipeline to:__\n",
    "    * Use Smiles as input\n",
    "    * Predict molecules"
   ]
  },
  {
   "cell_type": "markdown",
   "id": "46fb376b-986c-4728-af58-9ffa349ed149",
   "metadata": {},
   "source": [
    "## Format Data"
   ]
  },
  {
   "cell_type": "markdown",
   "id": "c876a4ee-8046-4451-8355-e393ea34f030",
   "metadata": {},
   "source": [
    "### _Imports_"
   ]
  },
  {
   "cell_type": "code",
   "execution_count": 8,
   "id": "2ce11648-1b37-40e8-92fa-8935bcf61352",
   "metadata": {},
   "outputs": [],
   "source": [
    "from sklearn.ensemble import RandomForestClassifier\n",
    "from sklearn.metrics import roc_auc_score\n",
    "\n",
    "from skfp.datasets.moleculenet import load_hiv\n",
    "from skfp.fingerprints import ECFPFingerprint\n",
    "from skfp.model_selection import scaffold_train_test_split\n",
    "from skfp.preprocessing import MolFromSmilesTransformer"
   ]
  },
  {
   "cell_type": "markdown",
   "id": "28f92be7-8aec-42e7-8373-8a76749c952b",
   "metadata": {},
   "source": [
    "### _Load Data_"
   ]
  },
  {
   "cell_type": "code",
   "execution_count": 10,
   "id": "c20bf5f6-2886-47fc-9b07-4f421af09c5f",
   "metadata": {},
   "outputs": [
    {
     "name": "stdout",
     "output_type": "stream",
     "text": [
      "SMILES:\n",
      "['CCC1=[O+][Cu-3]2([O+]=C(CC)C1)[O+]=C(CC)CC(CC)=[O+]2', 'C(=Cc1ccccc1)C1=[O+][Cu-3]2([O+]=C(C=Cc3ccccc3)CC(c3ccccc3)=[O+]2)[O+]=C(c2ccccc2)C1', 'CC(=O)N1c2ccccc2Sc2c1ccc1ccccc21']\n",
      "\n",
      "Labels:\n",
      "[0 0 0 0 0 0 0 0 0 0 0 1 0 0 0 0 1 0 0 0 0 0 0 0 0 0 0 0 0 0 0 0 0 0 0 0 0\n",
      " 0 0 0 0 0 0 0 0 0 0 0 0 0 0 0 0 0 0 0 0 0 0 0 0 0 0 0 0 0 0 0 0 0 0 0 0 0\n",
      " 0 0 0 0 0 0 1 0 0 0 0 0 0 0 0 0 0 0 0 0 0 0 0 0 0 0 0 0 0 0 0 0 0 0 0 0 0\n",
      " 0 0 0 0 0 0 0 0 0 0 0 0 0 0 0 0 0 0 0 0 0 0 0 0 0 0 0 0 0 0 0 0 0 0 0 0 0\n",
      " 0 0 0 0 0 0 0 0 0 0 0 0 0 0 0 0 0 0 0 0 0 0 0 0 0 0 0 0 0 0 0 0 0 0 0 0 0\n",
      " 0 0 0 0 0 0 0 0 0 0 0 0 0 0 0 0 0 0 1 0 0 0 0 0 0 0 0 0 0 0 0 0 0 0 0 0 0\n",
      " 0 0 0 0 0 0 0 0 0 0 0 0 1 1 0 0 0 0 0 0 0 0 1 0 0 0 0 0 0 0 0 0 0 0 0 0 0\n",
      " 0 0 0 0 0 0 0 0 0 0 0 0 1 0 0 0 0 0 0 0 1 0 0 0 0 0 0 0 0 0 0 0 0 0 0 0 0\n",
      " 0 0 0 0 0 0 0 0 0 0 0 0 0 0 0 0 0 0 0 0 0 0 0 0 0 0 0 0 0 0 1 0 0 0 0 0 0\n",
      " 0 0 0 0 0 0 0 0 0 0 0 0 0 0 0 0 0 0 0 1 1 0 0 0 0 0 0 0 1 0 0 0 0 0 0 0 0\n",
      " 0 0 0 0 0 0 0 0 0 0 0 0 0 0 1 0 0 1 0 0 0 0 0 0 0 0 0 0 0 0 0 0 0 0 0 0 0\n",
      " 0 0 0 0 0 0 0 0 0 0 0 0 0 0 0 0 0 0 0 0 0 0 1 0 0 0 0 1 0 0 0 0 0 0 0 0 1\n",
      " 0 0 0 0 0 0 0 0 0 0 0 0 0 0 0 0 0 0 0 0 0 0 0 0 0 0 0 0 0 0 0 0 0 0 0 0 0\n",
      " 0 0 0 0 0 0 0 0 0 0 0 0 0 0 0 0 0 1 1 0 0 0 0 0 0 0 0 0 0 0 0 0 0 0 0 0 0\n",
      " 0 0 0 0 0 0 0 0 0 0 0 0 0 0 0 0 0 0 0 0 0 0 0 0 0 0 0 0 0 0 0 0 0 0 0 0 0\n",
      " 0 0 0 0 0 0 0 0 0 0 0 0 0 0 0 0 0 0 0 0 0 0 0 0 0 0 0 0 0 0 0 0 0 0 0 0 0\n",
      " 0 0 0 0 0 0 0 0 0 0 0 0 0 0 0 0 0 0 0 0 0 0 0 0 0 0 0 0 0 0 0 0 0 0 0 0 0\n",
      " 0 0 0 0 0 0 0 0 0 0 0 0 0 0 0 0 0 0 0 0 0 0 0 0 0 1 0 0 0 0 0 0 0 0 0 0 0\n",
      " 0 0 0 0 0 0 0 0 0 0 1 0 0 0 0 0 0 0 0 0 0 0 0 0 0 0 0 0 0 0 0 0 0 1 0 0 0\n",
      " 0 0 0 0 0 0 0 0 0 0 0 0 0 0 0 0 0 0 0 0 0 0 0 0 0 0 0 0 0 0 0 0 0 0 0 0 0\n",
      " 1 0 0 0 0 0 0 0 0 0 0 0 0 0 0 0 0 0 0 0 0 0 0 0 0 0 0 0 0 0 0 0 0 0 0 0 0\n",
      " 0 0 0 0 0 0 0 0 0 0 0 0 0 0 0 0 0 0 0 0 0 0 0 0 0 0 0 0 0 0 0 0 0 0 0 0 0\n",
      " 0 0 0 0 1 0 0 0 0 0 0 0 0 0 0 0 0 0 0 0 0 0 0 0 0 0 0 0 0 0 0 0 0 0 0 0 0\n",
      " 0 0 0 0 0 0 0 0 0 0 0 0 0 0 0 0 0 0 1 0 0 0 0 0 0 0 0 0 1 0 0 0 0 0 0 0 0\n",
      " 0 0 0 0 0 0 0 0 0 0 0 0 0 0 0 0 0 0 0 0 0 0 0 0 0 0 0 0 0 0 0 0 0 0 0 0 0\n",
      " 0 0 0 0 0 0 0 0 0 0 0 0 0 0 0 0 0 0 0 0 0 0 0 0 0 0 0 0 0 0 0 0 0 0 0 0 0\n",
      " 0 0 0 0 0 0 0 0 0 0 0 0 0 0 0 0 1 0 0 0 0 0 0 0 0 0 0 0 0 0 0 0 0 0 1 0 0\n",
      " 0]\n"
     ]
    }
   ],
   "source": [
    "smiles_list, y = load_hiv()\n",
    "print(\"SMILES:\")\n",
    "print(smiles_list[:3])\n",
    "print()\n",
    "print(\"Labels:\")\n",
    "print(y[:1000])"
   ]
  },
  {
   "cell_type": "markdown",
   "id": "be2c7f5a-01cc-410b-abd3-d947a10e2b80",
   "metadata": {},
   "source": [
    "### _Convert Smiles to Mols - Split Training/Testing Data Sets_"
   ]
  },
  {
   "cell_type": "code",
   "execution_count": 14,
   "id": "0bb6de17-4a75-4f5d-ac67-07f217a26cf9",
   "metadata": {},
   "outputs": [
    {
     "name": "stdout",
     "output_type": "stream",
     "text": [
      "Molecules:\n",
      "[<rdkit.Chem.rdchem.Mol object at 0x00000150F95B7060>, <rdkit.Chem.rdchem.Mol object at 0x00000150F95B7450>, <rdkit.Chem.rdchem.Mol object at 0x00000150F95B75A0>]\n"
     ]
    }
   ],
   "source": [
    "mol_from_smiles = MolFromSmilesTransformer()\n",
    "dataset_size = 5000\n",
    "mols = mol_from_smiles.transform(smiles_list[:dataset_size])\n",
    "mols_train, mols_test, y_train, y_test = scaffold_train_test_split(\n",
    "    mols, y[:dataset_size], test_size=0.2\n",
    ")\n",
    "print(\"Molecules:\")\n",
    "print(mols_train[:3])"
   ]
  },
  {
   "cell_type": "markdown",
   "id": "4be0a793-4c91-45df-b14c-17811c4a814f",
   "metadata": {},
   "source": [
    "### _Convert to Fingerprints_"
   ]
  },
  {
   "cell_type": "code",
   "execution_count": 17,
   "id": "13f2152c-077b-4d4b-88e6-932fed52f2ec",
   "metadata": {},
   "outputs": [
    {
     "name": "stdout",
     "output_type": "stream",
     "text": [
      "ECFP fingerprints:\n",
      "(4000, 2048)\n",
      "[[0 0 0 ... 0 0 0]\n",
      " [0 1 0 ... 0 0 0]\n",
      " [0 0 0 ... 0 0 0]]\n",
      "<class 'numpy.ndarray'>\n"
     ]
    }
   ],
   "source": [
    "ecfp_fp = ECFPFingerprint()\n",
    "X_train = ecfp_fp.transform(mols_train)\n",
    "X_test = ecfp_fp.transform(mols_test)\n",
    "print(\"ECFP fingerprints:\")\n",
    "print(X_train.shape)\n",
    "print(X_train[:3])\n",
    "print(type(X_train))"
   ]
  },
  {
   "cell_type": "markdown",
   "id": "2db67d51-87bb-458e-90ea-77dbd525f875",
   "metadata": {},
   "source": [
    "## Train and Predict"
   ]
  },
  {
   "cell_type": "markdown",
   "id": "9599e1d7-224e-416c-b428-482606134cf6",
   "metadata": {},
   "source": [
    "### _Train Model and Predict Accuracy_"
   ]
  },
  {
   "cell_type": "code",
   "execution_count": 49,
   "id": "78b60fde-8635-4b01-a7f6-12792d0d79c3",
   "metadata": {},
   "outputs": [
    {
     "data": {
      "text/plain": [
       "0.96"
      ]
     },
     "execution_count": 49,
     "metadata": {},
     "output_type": "execute_result"
    }
   ],
   "source": [
    "clf = RandomForestClassifier(random_state=0)\n",
    "clf.fit(X_train, y_train)\n",
    "\n",
    "clf.score(X_test, y_test)"
   ]
  },
  {
   "cell_type": "markdown",
   "id": "a27971d4-0563-4918-9daa-a829dc3da170",
   "metadata": {},
   "source": [
    "### _Test Predictions_"
   ]
  },
  {
   "cell_type": "code",
   "execution_count": 24,
   "id": "06372ad4-77d4-4a11-bab5-7a905dbffe63",
   "metadata": {},
   "outputs": [
    {
     "name": "stdout",
     "output_type": "stream",
     "text": [
      "prediction: 0, actual: 0\n",
      "prediction: 0, actual: 0\n",
      "prediction: 1, actual: 1\n",
      "prediction: 1, actual: 1\n",
      "prediction: 0, actual: 1\n"
     ]
    }
   ],
   "source": [
    "def predict(index):\n",
    "    print(\"prediction: \" + str(clf.predict(X_test)[index]) + \", actual: \" + str(y_test[index]))\n",
    "\n",
    "predict(5)\n",
    "predict(400)\n",
    "predict(852)\n",
    "predict(853)\n",
    "predict(849)"
   ]
  },
  {
   "cell_type": "markdown",
   "id": "a12793b3-a19d-4a71-bc94-cd3fba6064c8",
   "metadata": {},
   "source": [
    "## Make it Useful"
   ]
  },
  {
   "cell_type": "markdown",
   "id": "a7873ce8-54a7-4b0f-9b04-b1351d73b5f4",
   "metadata": {},
   "source": [
    "### _Create a Smiles Pipeline_"
   ]
  },
  {
   "cell_type": "code",
   "execution_count": 28,
   "id": "457ed140-e68b-472f-9097-b31e47e8fa65",
   "metadata": {},
   "outputs": [],
   "source": [
    "from sklearn.pipeline import make_pipeline\n",
    "smiles_pipeline = make_pipeline(\n",
    "    MolFromSmilesTransformer(),\n",
    "    ecfp_fp,\n",
    "    clf,\n",
    ")"
   ]
  },
  {
   "cell_type": "markdown",
   "id": "a9b4080c-53e9-48a1-9019-e55d8a881c31",
   "metadata": {},
   "source": [
    "### _Test Pipeline Predictions_"
   ]
  },
  {
   "cell_type": "code",
   "execution_count": 31,
   "id": "58d54f9e-15ba-4612-aabf-98b02473a027",
   "metadata": {},
   "outputs": [
    {
     "name": "stdout",
     "output_type": "stream",
     "text": [
      "Smiles String: O=C(Nc1ccc(C2=NCCN2)cc1)Nc1cccc(C(=O)Nc2ccc(C3=NCCN3)cc2)c1\n",
      "1\n",
      "Smiles String: CS(=O)(=O)NC(=O)c1cc(Oc2ccc(C(F)(F)F)cc2Cl)ccc1[N+](=O)[O-]\n",
      "0\n",
      "Smiles String: O=C(Nc1cccc(C(=O)Nc2ccc(C3=NCCN3)cc2)c1)c1ccc(C2=NCCN2)cc1\n",
      "1\n"
     ]
    }
   ],
   "source": [
    "from rdkit import Chem\n",
    "\n",
    "# 1 Test\n",
    "mol = \"O=C(Nc1ccc(C2=NCCN2)cc1)Nc1cccc(C(=O)Nc2ccc(C3=NCCN3)cc2)c1\" # From HIV Test Dataset\n",
    "print(\"Smiles String: \" + mol)\n",
    "print(smiles_pipeline.predict([mol])[0])\n",
    "\n",
    "# 0 Test\n",
    "mol = \"CS(=O)(=O)NC(=O)c1cc(Oc2ccc(C(F)(F)F)cc2Cl)ccc1[N+](=O)[O-]\" # From TOX21 Test Dataset\n",
    "print(\"Smiles String: \" + mol)\n",
    "print(smiles_pipeline.predict([mol])[0])\n",
    "\n",
    "# Manual Entry\n",
    "mol = \"O=C(Nc1cccc(C(=O)Nc2ccc(C3=NCCN3)cc2)c1)c1ccc(C2=NCCN2)cc1\" # Random\n",
    "print(\"Smiles String: \" + mol)\n",
    "print(smiles_pipeline.predict([mol])[0])"
   ]
  },
  {
   "cell_type": "code",
   "execution_count": 33,
   "id": "42850eb9-9ab4-4cdd-9b36-050036b9fd50",
   "metadata": {},
   "outputs": [],
   "source": [
    "def perf_measure(y_actual, y_hat):\n",
    "    TP = 0\n",
    "    FP = 0\n",
    "    TN = 0\n",
    "    FN = 0\n",
    "\n",
    "    for i in range(len(y_hat)): \n",
    "        if y_actual[i]==y_hat[i]==1:\n",
    "           TP += 1\n",
    "        if y_hat[i]==1 and y_actual[i]!=y_hat[i]:\n",
    "           FP += 1\n",
    "        if y_actual[i]==y_hat[i]==0:\n",
    "           TN += 1\n",
    "        if y_hat[i]==0 and y_actual[i]!=y_hat[i]:\n",
    "           FN += 1\n",
    "\n",
    "    return(TP, FP, TN, FN)"
   ]
  },
  {
   "cell_type": "code",
   "execution_count": 39,
   "id": "b1ed45ad-a548-43d6-98c3-d5beb0bdc46e",
   "metadata": {},
   "outputs": [
    {
     "name": "stdout",
     "output_type": "stream",
     "text": [
      "True Positives: 11\n",
      "False Positives: 37\n",
      "True Negatives: 949\n",
      "False Negatives: 3\n",
      "\n"
     ]
    }
   ],
   "source": [
    "TP, FP, TN, FN = perf_measure(clf.predict(X_test), y_test)\n",
    "print(f\"True Positives: {TP}\\nFalse Positives: {FP}\\nTrue Negatives: {TN}\\nFalse Negatives: {FN}\\n\")"
   ]
  },
  {
   "cell_type": "code",
   "execution_count": 45,
   "id": "58608324-ceef-4dff-963f-5163bdcecf5e",
   "metadata": {},
   "outputs": [],
   "source": [
    "# Sensitivity, hit rate, recall, or true positive rate\n",
    "TPR = TP/(TP+FN)\n",
    "# Specificity or true negative rate\n",
    "TNR = TN/(TN+FP) \n",
    "# Precision or positive predictive value\n",
    "PPV = TP/(TP+FP)\n",
    "# Negative predictive value\n",
    "NPV = TN/(TN+FN)\n",
    "# Fall out or false positive rate\n",
    "FPR = FP/(FP+TN)\n",
    "# False negative rate\n",
    "FNR = FN/(TP+FN)\n",
    "# False discovery rate\n",
    "FDR = FP/(TP+FP)\n",
    "\n",
    "# Overall accuracy\n",
    "ACC = (TP+TN)/(TP+FP+FN+TN)"
   ]
  },
  {
   "cell_type": "code",
   "execution_count": 47,
   "id": "682120d5-2bd7-45ce-829e-4ad89cce208c",
   "metadata": {},
   "outputs": [
    {
     "name": "stdout",
     "output_type": "stream",
     "text": [
      "Sensitivity, hit rate, recall, or true positive rate: 0.7857142857142857\n",
      "Specificity or true negative rate: 0.962474645030426\n",
      "Precision or positive predictive value: 0.22916666666666666\n",
      "Negative predictive value: 0.9968487394957983\n",
      "Fall out or false positive rate: 0.037525354969574036\n",
      "False negative rate: 0.21428571428571427\n",
      "False discovery rate: 0.7708333333333334\n",
      "Overall accuracy: 0.96\n"
     ]
    }
   ],
   "source": [
    "print(f\"Sensitivity, hit rate, recall, or true positive rate: {TPR}\\nSpecificity or true negative rate: {TNR}\\nPrecision or positive predictive value: {PPV}\\nNegative predictive value: {NPV}\\nFall out or false positive rate: {FPR}\\nFalse negative rate: {FNR}\\nFalse discovery rate: {FDR}\\nOverall accuracy: {ACC}\")"
   ]
  },
  {
   "cell_type": "code",
   "execution_count": null,
   "id": "69ee77f7-e520-4775-9fab-60d4a0695008",
   "metadata": {},
   "outputs": [],
   "source": []
  }
 ],
 "metadata": {
  "kernelspec": {
   "display_name": "Python [conda env:base] *",
   "language": "python",
   "name": "conda-base-py"
  },
  "language_info": {
   "codemirror_mode": {
    "name": "ipython",
    "version": 3
   },
   "file_extension": ".py",
   "mimetype": "text/x-python",
   "name": "python",
   "nbconvert_exporter": "python",
   "pygments_lexer": "ipython3",
   "version": "3.12.3"
  }
 },
 "nbformat": 4,
 "nbformat_minor": 5
}
