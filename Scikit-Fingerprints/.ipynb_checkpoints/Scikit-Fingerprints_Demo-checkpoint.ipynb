{
 "cells": [
  {
   "cell_type": "markdown",
   "id": "8a01d976-750d-4a2b-895e-7406c001c82e",
   "metadata": {},
   "source": [
    "# Demo Scikit-Fingerprints"
   ]
  },
  {
   "cell_type": "markdown",
   "id": "46fb376b-986c-4728-af58-9ffa349ed149",
   "metadata": {},
   "source": [
    "## Format Data"
   ]
  },
  {
   "cell_type": "markdown",
   "id": "c876a4ee-8046-4451-8355-e393ea34f030",
   "metadata": {},
   "source": [
    "### Imports"
   ]
  },
  {
   "cell_type": "code",
   "execution_count": 37,
   "id": "2ce11648-1b37-40e8-92fa-8935bcf61352",
   "metadata": {},
   "outputs": [],
   "source": [
    "from sklearn.ensemble import RandomForestClassifier\n",
    "from sklearn.metrics import roc_auc_score\n",
    "\n",
    "from skfp.datasets.moleculenet import load_hiv\n",
    "from skfp.fingerprints import ECFPFingerprint\n",
    "from skfp.model_selection import scaffold_train_test_split\n",
    "from skfp.preprocessing import MolFromSmilesTransformer"
   ]
  },
  {
   "cell_type": "markdown",
   "id": "28f92be7-8aec-42e7-8373-8a76749c952b",
   "metadata": {},
   "source": [
    "### Load Data"
   ]
  },
  {
   "cell_type": "code",
   "execution_count": 40,
   "id": "c20bf5f6-2886-47fc-9b07-4f421af09c5f",
   "metadata": {},
   "outputs": [
    {
     "name": "stdout",
     "output_type": "stream",
     "text": [
      "SMILES:\n",
      "['CCC1=[O+][Cu-3]2([O+]=C(CC)C1)[O+]=C(CC)CC(CC)=[O+]2', 'C(=Cc1ccccc1)C1=[O+][Cu-3]2([O+]=C(C=Cc3ccccc3)CC(c3ccccc3)=[O+]2)[O+]=C(c2ccccc2)C1', 'CC(=O)N1c2ccccc2Sc2c1ccc1ccccc21']\n",
      "\n",
      "Labels:\n",
      "[0 0 0 0 0 0 0 0 0 0 0 1 0 0 0 0 1 0 0 0 0 0 0 0 0 0 0 0 0 0 0 0 0 0 0 0 0\n",
      " 0 0 0 0 0 0 0 0 0 0 0 0 0 0 0 0 0 0 0 0 0 0 0 0 0 0 0 0 0 0 0 0 0 0 0 0 0\n",
      " 0 0 0 0 0 0 1 0 0 0 0 0 0 0 0 0 0 0 0 0 0 0 0 0 0 0 0 0 0 0 0 0 0 0 0 0 0\n",
      " 0 0 0 0 0 0 0 0 0 0 0 0 0 0 0 0 0 0 0 0 0 0 0 0 0 0 0 0 0 0 0 0 0 0 0 0 0\n",
      " 0 0 0 0 0 0 0 0 0 0 0 0 0 0 0 0 0 0 0 0 0 0 0 0 0 0 0 0 0 0 0 0 0 0 0 0 0\n",
      " 0 0 0 0 0 0 0 0 0 0 0 0 0 0 0 0 0 0 1 0 0 0 0 0 0 0 0 0 0 0 0 0 0 0 0 0 0\n",
      " 0 0 0 0 0 0 0 0 0 0 0 0 1 1 0 0 0 0 0 0 0 0 1 0 0 0 0 0 0 0 0 0 0 0 0 0 0\n",
      " 0 0 0 0 0 0 0 0 0 0 0 0 1 0 0 0 0 0 0 0 1 0 0 0 0 0 0 0 0 0 0 0 0 0 0 0 0\n",
      " 0 0 0 0 0 0 0 0 0 0 0 0 0 0 0 0 0 0 0 0 0 0 0 0 0 0 0 0 0 0 1 0 0 0 0 0 0\n",
      " 0 0 0 0 0 0 0 0 0 0 0 0 0 0 0 0 0 0 0 1 1 0 0 0 0 0 0 0 1 0 0 0 0 0 0 0 0\n",
      " 0 0 0 0 0 0 0 0 0 0 0 0 0 0 1 0 0 1 0 0 0 0 0 0 0 0 0 0 0 0 0 0 0 0 0 0 0\n",
      " 0 0 0 0 0 0 0 0 0 0 0 0 0 0 0 0 0 0 0 0 0 0 1 0 0 0 0 1 0 0 0 0 0 0 0 0 1\n",
      " 0 0 0 0 0 0 0 0 0 0 0 0 0 0 0 0 0 0 0 0 0 0 0 0 0 0 0 0 0 0 0 0 0 0 0 0 0\n",
      " 0 0 0 0 0 0 0 0 0 0 0 0 0 0 0 0 0 1 1 0 0 0 0 0 0 0 0 0 0 0 0 0 0 0 0 0 0\n",
      " 0 0 0 0 0 0 0 0 0 0 0 0 0 0 0 0 0 0 0 0 0 0 0 0 0 0 0 0 0 0 0 0 0 0 0 0 0\n",
      " 0 0 0 0 0 0 0 0 0 0 0 0 0 0 0 0 0 0 0 0 0 0 0 0 0 0 0 0 0 0 0 0 0 0 0 0 0\n",
      " 0 0 0 0 0 0 0 0 0 0 0 0 0 0 0 0 0 0 0 0 0 0 0 0 0 0 0 0 0 0 0 0 0 0 0 0 0\n",
      " 0 0 0 0 0 0 0 0 0 0 0 0 0 0 0 0 0 0 0 0 0 0 0 0 0 1 0 0 0 0 0 0 0 0 0 0 0\n",
      " 0 0 0 0 0 0 0 0 0 0 1 0 0 0 0 0 0 0 0 0 0 0 0 0 0 0 0 0 0 0 0 0 0 1 0 0 0\n",
      " 0 0 0 0 0 0 0 0 0 0 0 0 0 0 0 0 0 0 0 0 0 0 0 0 0 0 0 0 0 0 0 0 0 0 0 0 0\n",
      " 1 0 0 0 0 0 0 0 0 0 0 0 0 0 0 0 0 0 0 0 0 0 0 0 0 0 0 0 0 0 0 0 0 0 0 0 0\n",
      " 0 0 0 0 0 0 0 0 0 0 0 0 0 0 0 0 0 0 0 0 0 0 0 0 0 0 0 0 0 0 0 0 0 0 0 0 0\n",
      " 0 0 0 0 1 0 0 0 0 0 0 0 0 0 0 0 0 0 0 0 0 0 0 0 0 0 0 0 0 0 0 0 0 0 0 0 0\n",
      " 0 0 0 0 0 0 0 0 0 0 0 0 0 0 0 0 0 0 1 0 0 0 0 0 0 0 0 0 1 0 0 0 0 0 0 0 0\n",
      " 0 0 0 0 0 0 0 0 0 0 0 0 0 0 0 0 0 0 0 0 0 0 0 0 0 0 0 0 0 0 0 0 0 0 0 0 0\n",
      " 0 0 0 0 0 0 0 0 0 0 0 0 0 0 0 0 0 0 0 0 0 0 0 0 0 0 0 0 0 0 0 0 0 0 0 0 0\n",
      " 0 0 0 0 0 0 0 0 0 0 0 0 0 0 0 0 1 0 0 0 0 0 0 0 0 0 0 0 0 0 0 0 0 0 1 0 0\n",
      " 0]\n"
     ]
    }
   ],
   "source": [
    "smiles_list, y = load_hiv()\n",
    "print(\"SMILES:\")\n",
    "print(smiles_list[:3])\n",
    "print()\n",
    "print(\"Labels:\")\n",
    "print(y[:1000])"
   ]
  },
  {
   "cell_type": "markdown",
   "id": "be2c7f5a-01cc-410b-abd3-d947a10e2b80",
   "metadata": {},
   "source": [
    "### Convert Smiles to Mols - Split Training/Testing Data Sets"
   ]
  },
  {
   "cell_type": "code",
   "execution_count": 43,
   "id": "0bb6de17-4a75-4f5d-ac67-07f217a26cf9",
   "metadata": {},
   "outputs": [
    {
     "name": "stdout",
     "output_type": "stream",
     "text": [
      "Molecules:\n",
      "[<rdkit.Chem.rdchem.Mol object at 0x000002B772EA0820>, <rdkit.Chem.rdchem.Mol object at 0x000002B772EA0C10>, <rdkit.Chem.rdchem.Mol object at 0x000002B772EA0D60>]\n"
     ]
    }
   ],
   "source": [
    "mol_from_smiles = MolFromSmilesTransformer()\n",
    "dataset_size = 5000\n",
    "mols = mol_from_smiles.transform(smiles_list[:dataset_size])\n",
    "mols_train, mols_test, y_train, y_test = scaffold_train_test_split(\n",
    "    mols, y[:dataset_size], test_size=0.2\n",
    ")\n",
    "print(\"Molecules:\")\n",
    "print(mols_train[:3])"
   ]
  },
  {
   "cell_type": "markdown",
   "id": "4be0a793-4c91-45df-b14c-17811c4a814f",
   "metadata": {},
   "source": [
    "### Convert to Fingerprints"
   ]
  },
  {
   "cell_type": "code",
   "execution_count": 46,
   "id": "13f2152c-077b-4d4b-88e6-932fed52f2ec",
   "metadata": {},
   "outputs": [
    {
     "name": "stdout",
     "output_type": "stream",
     "text": [
      "ECFP fingerprints:\n",
      "(4000, 2048)\n",
      "[[0 0 0 ... 0 0 0]\n",
      " [0 1 0 ... 0 0 0]\n",
      " [0 0 0 ... 0 0 0]]\n"
     ]
    }
   ],
   "source": [
    "ecfp_fp = ECFPFingerprint()\n",
    "X_train = ecfp_fp.transform(mols_train)\n",
    "X_test = ecfp_fp.transform(mols_test)\n",
    "print(\"ECFP fingerprints:\")\n",
    "print(X_train.shape)\n",
    "print(X_train[:3])"
   ]
  },
  {
   "cell_type": "markdown",
   "id": "2db67d51-87bb-458e-90ea-77dbd525f875",
   "metadata": {},
   "source": [
    "## Train and Predict"
   ]
  },
  {
   "cell_type": "markdown",
   "id": "9599e1d7-224e-416c-b428-482606134cf6",
   "metadata": {},
   "source": [
    "### Train Model and Predict Accuracy"
   ]
  },
  {
   "cell_type": "code",
   "execution_count": 50,
   "id": "78b60fde-8635-4b01-a7f6-12792d0d79c3",
   "metadata": {},
   "outputs": [
    {
     "name": "stdout",
     "output_type": "stream",
     "text": [
      "AUROC: 85.22%\n"
     ]
    }
   ],
   "source": [
    "clf = RandomForestClassifier(random_state=0)\n",
    "clf.fit(X_train, y_train)\n",
    "\n",
    "y_pred = clf.predict_proba(X_test)[:, 1]\n",
    "auroc = roc_auc_score(y_test, y_pred)\n",
    "\n",
    "print(f\"AUROC: {auroc:.2%}\")"
   ]
  },
  {
   "cell_type": "markdown",
   "id": "a27971d4-0563-4918-9daa-a829dc3da170",
   "metadata": {},
   "source": [
    "### Test Predictions"
   ]
  },
  {
   "cell_type": "code",
   "execution_count": 52,
   "id": "06372ad4-77d4-4a11-bab5-7a905dbffe63",
   "metadata": {},
   "outputs": [
    {
     "name": "stdout",
     "output_type": "stream",
     "text": [
      "prediction: 0, actual: 0\n",
      "prediction: 0, actual: 0\n",
      "prediction: 1, actual: 1\n",
      "prediction: 1, actual: 1\n",
      "prediction: 0, actual: 1\n"
     ]
    }
   ],
   "source": [
    "def predict(index):\n",
    "    print(\"prediction: \" + str(clf.predict(X_test)[index]) + \", actual: \" + str(y_test[index]))\n",
    "\n",
    "predict(5)\n",
    "predict(400)\n",
    "predict(852)\n",
    "predict(853)\n",
    "predict(849)"
   ]
  },
  {
   "cell_type": "markdown",
   "id": "a12793b3-a19d-4a71-bc94-cd3fba6064c8",
   "metadata": {},
   "source": [
    "# Make it Useful"
   ]
  },
  {
   "cell_type": "markdown",
   "id": "a7873ce8-54a7-4b0f-9b04-b1351d73b5f4",
   "metadata": {},
   "source": [
    "## Create a Smiles Pipeline"
   ]
  },
  {
   "cell_type": "code",
   "execution_count": 143,
   "id": "457ed140-e68b-472f-9097-b31e47e8fa65",
   "metadata": {},
   "outputs": [],
   "source": [
    "from sklearn.pipeline import make_pipeline\n",
    "smiles_pipeline = make_pipeline(\n",
    "    MolFromSmilesTransformer(),\n",
    "    ecfp_fp,\n",
    "    clf,\n",
    ")"
   ]
  },
  {
   "cell_type": "markdown",
   "id": "a9b4080c-53e9-48a1-9019-e55d8a881c31",
   "metadata": {},
   "source": [
    "## Test Pipeline Predictions"
   ]
  },
  {
   "cell_type": "code",
   "execution_count": 171,
   "id": "58d54f9e-15ba-4612-aabf-98b02473a027",
   "metadata": {},
   "outputs": [
    {
     "name": "stdout",
     "output_type": "stream",
     "text": [
      "Smiles String: O=C(Nc1ccc(C2=NCCN2)cc1)Nc1cccc(C(=O)Nc2ccc(C3=NCCN3)cc2)c1\n",
      "[1]\n",
      "Smiles String: Cc1cc(NCCCCCCNc2cc(C)nc3ccc(Cl)cc23)c2cc(Cl)ccc2n1\n",
      "[0]\n",
      "Smiles String: CC(C)OC(=S)SSC(=S)OC(C)C\n",
      "[0]\n"
     ]
    }
   ],
   "source": [
    "from rdkit import Chem\n",
    "\n",
    "# 1 Test\n",
    "mol = \"O=C(Nc1ccc(C2=NCCN2)cc1)Nc1cccc(C(=O)Nc2ccc(C3=NCCN3)cc2)c1\"\n",
    "print(\"Smiles String: \" + mol)\n",
    "print(smiles_pipeline.predict([mol]))\n",
    "\n",
    "# 0 Test\n",
    "mol = \"Cc1cc(NCCCCCCNc2cc(C)nc3ccc(Cl)cc23)c2cc(Cl)ccc2n1\"\n",
    "print(\"Smiles String: \" + mol)\n",
    "print(smiles_pipeline.predict([mol]))\n",
    "\n",
    "# Manual Entry\n",
    "mol = \"CC(C)OC(=S)SSC(=S)OC(C)C\"\n",
    "print(\"Smiles String: \" + mol)\n",
    "print(smiles_pipeline.predict([mol]))"
   ]
  },
  {
   "cell_type": "code",
   "execution_count": null,
   "id": "6eccf80c-a13c-487c-9de8-455c9b23696f",
   "metadata": {},
   "outputs": [],
   "source": []
  }
 ],
 "metadata": {
  "kernelspec": {
   "display_name": "Python [conda env:base] *",
   "language": "python",
   "name": "conda-base-py"
  },
  "language_info": {
   "codemirror_mode": {
    "name": "ipython",
    "version": 3
   },
   "file_extension": ".py",
   "mimetype": "text/x-python",
   "name": "python",
   "nbconvert_exporter": "python",
   "pygments_lexer": "ipython3",
   "version": "3.12.3"
  }
 },
 "nbformat": 4,
 "nbformat_minor": 5
}
